{
  "metadata": {
    "kernelspec": {
      "language": "python",
      "display_name": "Python 3",
      "name": "python3"
    },
    "language_info": {
      "name": "python",
      "version": "3.7.12",
      "mimetype": "text/x-python",
      "codemirror_mode": {
        "name": "ipython",
        "version": 3
      },
      "pygments_lexer": "ipython3",
      "nbconvert_exporter": "python",
      "file_extension": ".py"
    },
    "colab": {
      "name": "1-datacleaning-eda.ipynb",
      "provenance": [],
      "include_colab_link": true
    }
  },
  "nbformat_minor": 0,
  "nbformat": 4,
  "cells": [
    {
      "cell_type": "markdown",
      "metadata": {
        "id": "view-in-github",
        "colab_type": "text"
      },
      "source": [
        "<a href=\"https://colab.research.google.com/github/kitkeat/Effective-Argument-Prediction-NLP/blob/main/1-datacleaning-eda.ipynb\" target=\"_parent\"><img src=\"https://colab.research.google.com/assets/colab-badge.svg\" alt=\"Open In Colab\"/></a>"
      ]
    },
    {
      "cell_type": "markdown",
      "source": [
        "# Book 1 - Data Cleaning and EDA\n",
        "\n",
        "---"
      ],
      "metadata": {
        "id": "X9cuXsd-m-FK"
      }
    },
    {
      "cell_type": "code",
      "source": [
        "import pandas as pd\n",
        "import numpy as np\n",
        "import matplotlib.pyplot as plt\n",
        "import seaborn as sns\n",
        "from nltk.tokenize import sent_tokenize\n",
        "import nltk\n",
        "nltk.download('punkt')\n",
        "import re\n",
        "from IPython.core.display import display, HTML\n",
        "import spacy\n",
        "from spacy import displacy\n",
        "from text_unidecode import unidecode\n",
        "from typing import Dict, List, Tuple\n",
        "import codecs"
      ],
      "metadata": {
        "id": "LI64eklNYuop",
        "outputId": "c7b2c385-937a-4bb2-802d-14f17edfb8da",
        "execution": {
          "iopub.status.busy": "2022-08-03T07:52:04.680536Z",
          "iopub.execute_input": "2022-08-03T07:52:04.683651Z",
          "iopub.status.idle": "2022-08-03T07:52:16.118571Z",
          "shell.execute_reply.started": "2022-08-03T07:52:04.683219Z",
          "shell.execute_reply": "2022-08-03T07:52:16.117132Z"
        },
        "trusted": true,
        "colab": {
          "base_uri": "https://localhost:8080/"
        }
      },
      "execution_count": 1,
      "outputs": [
        {
          "output_type": "stream",
          "name": "stderr",
          "text": [
            "[nltk_data] Downloading package punkt to /root/nltk_data...\n",
            "[nltk_data]   Unzipping tokenizers/punkt.zip.\n"
          ]
        }
      ]
    },
    {
      "cell_type": "code",
      "source": [
        "from google.colab import drive\n",
        "drive.mount('/content/drive')"
      ],
      "metadata": {
        "id": "nv5UsZMqb-6P",
        "outputId": "6f822047-f026-4d56-9109-fe53221d1bc5",
        "colab": {
          "base_uri": "https://localhost:8080/"
        }
      },
      "execution_count": 2,
      "outputs": [
        {
          "output_type": "stream",
          "name": "stdout",
          "text": [
            "Mounted at /content/drive\n"
          ]
        }
      ]
    },
    {
      "cell_type": "code",
      "source": [
        "train = pd.read_csv('/content/drive/MyDrive/Colab Notebooks/Data/train.csv')\n",
        "df = train.copy()"
      ],
      "metadata": {
        "id": "OqqXVmBSZxOw",
        "execution": {
          "iopub.status.busy": "2022-08-03T07:52:16.121134Z",
          "iopub.execute_input": "2022-08-03T07:52:16.121747Z",
          "iopub.status.idle": "2022-08-03T07:52:16.433213Z",
          "shell.execute_reply.started": "2022-08-03T07:52:16.121710Z",
          "shell.execute_reply": "2022-08-03T07:52:16.432174Z"
        },
        "trusted": true
      },
      "execution_count": 3,
      "outputs": []
    },
    {
      "cell_type": "code",
      "source": [
        "df.info()"
      ],
      "metadata": {
        "id": "WW4RwwukDvF7",
        "outputId": "6927e3ef-c956-4ef1-ca8e-a824463c30e0",
        "colab": {
          "base_uri": "https://localhost:8080/"
        }
      },
      "execution_count": 4,
      "outputs": [
        {
          "output_type": "stream",
          "name": "stdout",
          "text": [
            "<class 'pandas.core.frame.DataFrame'>\n",
            "RangeIndex: 36765 entries, 0 to 36764\n",
            "Data columns (total 5 columns):\n",
            " #   Column                   Non-Null Count  Dtype \n",
            "---  ------                   --------------  ----- \n",
            " 0   discourse_id             36765 non-null  object\n",
            " 1   essay_id                 36765 non-null  object\n",
            " 2   discourse_text           36765 non-null  object\n",
            " 3   discourse_type           36765 non-null  object\n",
            " 4   discourse_effectiveness  36765 non-null  object\n",
            "dtypes: object(5)\n",
            "memory usage: 1.4+ MB\n"
          ]
        }
      ]
    },
    {
      "cell_type": "code",
      "source": [
        "df.describe()"
      ],
      "metadata": {
        "id": "_S5oIiJxDwOV",
        "outputId": "57b535b7-37e1-4a81-ccd3-99a69bfcb1f4",
        "colab": {
          "base_uri": "https://localhost:8080/",
          "height": 175
        }
      },
      "execution_count": 7,
      "outputs": [
        {
          "output_type": "execute_result",
          "data": {
            "text/plain": [
              "        discourse_id      essay_id  \\\n",
              "count          36765         36765   \n",
              "unique         36765          4191   \n",
              "top     0013cc385424  91B1F82B2CF1   \n",
              "freq               1            23   \n",
              "\n",
              "                                     discourse_text discourse_type  \\\n",
              "count                                         36765          36765   \n",
              "unique                                        36691              7   \n",
              "top     Summer projects should be student-designed        Evidence   \n",
              "freq                                             14          12105   \n",
              "\n",
              "       discourse_effectiveness  \n",
              "count                    36765  \n",
              "unique                       3  \n",
              "top                   Adequate  \n",
              "freq                     20977  "
            ],
            "text/html": [
              "\n",
              "  <div id=\"df-dd97f8b9-f666-4241-bb67-4b566a8b22d8\">\n",
              "    <div class=\"colab-df-container\">\n",
              "      <div>\n",
              "<style scoped>\n",
              "    .dataframe tbody tr th:only-of-type {\n",
              "        vertical-align: middle;\n",
              "    }\n",
              "\n",
              "    .dataframe tbody tr th {\n",
              "        vertical-align: top;\n",
              "    }\n",
              "\n",
              "    .dataframe thead th {\n",
              "        text-align: right;\n",
              "    }\n",
              "</style>\n",
              "<table border=\"1\" class=\"dataframe\">\n",
              "  <thead>\n",
              "    <tr style=\"text-align: right;\">\n",
              "      <th></th>\n",
              "      <th>discourse_id</th>\n",
              "      <th>essay_id</th>\n",
              "      <th>discourse_text</th>\n",
              "      <th>discourse_type</th>\n",
              "      <th>discourse_effectiveness</th>\n",
              "    </tr>\n",
              "  </thead>\n",
              "  <tbody>\n",
              "    <tr>\n",
              "      <th>count</th>\n",
              "      <td>36765</td>\n",
              "      <td>36765</td>\n",
              "      <td>36765</td>\n",
              "      <td>36765</td>\n",
              "      <td>36765</td>\n",
              "    </tr>\n",
              "    <tr>\n",
              "      <th>unique</th>\n",
              "      <td>36765</td>\n",
              "      <td>4191</td>\n",
              "      <td>36691</td>\n",
              "      <td>7</td>\n",
              "      <td>3</td>\n",
              "    </tr>\n",
              "    <tr>\n",
              "      <th>top</th>\n",
              "      <td>0013cc385424</td>\n",
              "      <td>91B1F82B2CF1</td>\n",
              "      <td>Summer projects should be student-designed</td>\n",
              "      <td>Evidence</td>\n",
              "      <td>Adequate</td>\n",
              "    </tr>\n",
              "    <tr>\n",
              "      <th>freq</th>\n",
              "      <td>1</td>\n",
              "      <td>23</td>\n",
              "      <td>14</td>\n",
              "      <td>12105</td>\n",
              "      <td>20977</td>\n",
              "    </tr>\n",
              "  </tbody>\n",
              "</table>\n",
              "</div>\n",
              "      <button class=\"colab-df-convert\" onclick=\"convertToInteractive('df-dd97f8b9-f666-4241-bb67-4b566a8b22d8')\"\n",
              "              title=\"Convert this dataframe to an interactive table.\"\n",
              "              style=\"display:none;\">\n",
              "        \n",
              "  <svg xmlns=\"http://www.w3.org/2000/svg\" height=\"24px\"viewBox=\"0 0 24 24\"\n",
              "       width=\"24px\">\n",
              "    <path d=\"M0 0h24v24H0V0z\" fill=\"none\"/>\n",
              "    <path d=\"M18.56 5.44l.94 2.06.94-2.06 2.06-.94-2.06-.94-.94-2.06-.94 2.06-2.06.94zm-11 1L8.5 8.5l.94-2.06 2.06-.94-2.06-.94L8.5 2.5l-.94 2.06-2.06.94zm10 10l.94 2.06.94-2.06 2.06-.94-2.06-.94-.94-2.06-.94 2.06-2.06.94z\"/><path d=\"M17.41 7.96l-1.37-1.37c-.4-.4-.92-.59-1.43-.59-.52 0-1.04.2-1.43.59L10.3 9.45l-7.72 7.72c-.78.78-.78 2.05 0 2.83L4 21.41c.39.39.9.59 1.41.59.51 0 1.02-.2 1.41-.59l7.78-7.78 2.81-2.81c.8-.78.8-2.07 0-2.86zM5.41 20L4 18.59l7.72-7.72 1.47 1.35L5.41 20z\"/>\n",
              "  </svg>\n",
              "      </button>\n",
              "      \n",
              "  <style>\n",
              "    .colab-df-container {\n",
              "      display:flex;\n",
              "      flex-wrap:wrap;\n",
              "      gap: 12px;\n",
              "    }\n",
              "\n",
              "    .colab-df-convert {\n",
              "      background-color: #E8F0FE;\n",
              "      border: none;\n",
              "      border-radius: 50%;\n",
              "      cursor: pointer;\n",
              "      display: none;\n",
              "      fill: #1967D2;\n",
              "      height: 32px;\n",
              "      padding: 0 0 0 0;\n",
              "      width: 32px;\n",
              "    }\n",
              "\n",
              "    .colab-df-convert:hover {\n",
              "      background-color: #E2EBFA;\n",
              "      box-shadow: 0px 1px 2px rgba(60, 64, 67, 0.3), 0px 1px 3px 1px rgba(60, 64, 67, 0.15);\n",
              "      fill: #174EA6;\n",
              "    }\n",
              "\n",
              "    [theme=dark] .colab-df-convert {\n",
              "      background-color: #3B4455;\n",
              "      fill: #D2E3FC;\n",
              "    }\n",
              "\n",
              "    [theme=dark] .colab-df-convert:hover {\n",
              "      background-color: #434B5C;\n",
              "      box-shadow: 0px 1px 3px 1px rgba(0, 0, 0, 0.15);\n",
              "      filter: drop-shadow(0px 1px 2px rgba(0, 0, 0, 0.3));\n",
              "      fill: #FFFFFF;\n",
              "    }\n",
              "  </style>\n",
              "\n",
              "      <script>\n",
              "        const buttonEl =\n",
              "          document.querySelector('#df-dd97f8b9-f666-4241-bb67-4b566a8b22d8 button.colab-df-convert');\n",
              "        buttonEl.style.display =\n",
              "          google.colab.kernel.accessAllowed ? 'block' : 'none';\n",
              "\n",
              "        async function convertToInteractive(key) {\n",
              "          const element = document.querySelector('#df-dd97f8b9-f666-4241-bb67-4b566a8b22d8');\n",
              "          const dataTable =\n",
              "            await google.colab.kernel.invokeFunction('convertToInteractive',\n",
              "                                                     [key], {});\n",
              "          if (!dataTable) return;\n",
              "\n",
              "          const docLinkHtml = 'Like what you see? Visit the ' +\n",
              "            '<a target=\"_blank\" href=https://colab.research.google.com/notebooks/data_table.ipynb>data table notebook</a>'\n",
              "            + ' to learn more about interactive tables.';\n",
              "          element.innerHTML = '';\n",
              "          dataTable['output_type'] = 'display_data';\n",
              "          await google.colab.output.renderOutput(dataTable, element);\n",
              "          const docLink = document.createElement('div');\n",
              "          docLink.innerHTML = docLinkHtml;\n",
              "          element.appendChild(docLink);\n",
              "        }\n",
              "      </script>\n",
              "    </div>\n",
              "  </div>\n",
              "  "
            ]
          },
          "metadata": {},
          "execution_count": 7
        }
      ]
    },
    {
      "cell_type": "code",
      "source": [
        "df.head()"
      ],
      "metadata": {
        "id": "SU9CZuT6Zkj0",
        "outputId": "3e4add4f-dbf5-403a-d0bf-e70548d82b0f",
        "execution": {
          "iopub.status.busy": "2022-08-03T07:52:16.435050Z",
          "iopub.execute_input": "2022-08-03T07:52:16.435802Z",
          "iopub.status.idle": "2022-08-03T07:52:16.461568Z",
          "shell.execute_reply.started": "2022-08-03T07:52:16.435756Z",
          "shell.execute_reply": "2022-08-03T07:52:16.460146Z"
        },
        "trusted": true,
        "colab": {
          "base_uri": "https://localhost:8080/",
          "height": 206
        }
      },
      "execution_count": 9,
      "outputs": [
        {
          "output_type": "execute_result",
          "data": {
            "text/plain": [
              "   discourse_id      essay_id  \\\n",
              "0  0013cc385424  007ACE74B050   \n",
              "1  9704a709b505  007ACE74B050   \n",
              "2  c22adee811b6  007ACE74B050   \n",
              "3  a10d361e54e4  007ACE74B050   \n",
              "4  db3e453ec4e2  007ACE74B050   \n",
              "\n",
              "                                      discourse_text discourse_type  \\\n",
              "0  Hi, i'm Isaac, i'm going to be writing about h...           Lead   \n",
              "1  On my perspective, I think that the face is a ...       Position   \n",
              "2  I think that the face is a natural landform be...          Claim   \n",
              "3  If life was on Mars, we would know by now. The...       Evidence   \n",
              "4  People thought that the face was formed by ali...   Counterclaim   \n",
              "\n",
              "  discourse_effectiveness  \n",
              "0                Adequate  \n",
              "1                Adequate  \n",
              "2                Adequate  \n",
              "3                Adequate  \n",
              "4                Adequate  "
            ],
            "text/html": [
              "\n",
              "  <div id=\"df-4883370e-0a5a-4784-abbb-5447b48aa453\">\n",
              "    <div class=\"colab-df-container\">\n",
              "      <div>\n",
              "<style scoped>\n",
              "    .dataframe tbody tr th:only-of-type {\n",
              "        vertical-align: middle;\n",
              "    }\n",
              "\n",
              "    .dataframe tbody tr th {\n",
              "        vertical-align: top;\n",
              "    }\n",
              "\n",
              "    .dataframe thead th {\n",
              "        text-align: right;\n",
              "    }\n",
              "</style>\n",
              "<table border=\"1\" class=\"dataframe\">\n",
              "  <thead>\n",
              "    <tr style=\"text-align: right;\">\n",
              "      <th></th>\n",
              "      <th>discourse_id</th>\n",
              "      <th>essay_id</th>\n",
              "      <th>discourse_text</th>\n",
              "      <th>discourse_type</th>\n",
              "      <th>discourse_effectiveness</th>\n",
              "    </tr>\n",
              "  </thead>\n",
              "  <tbody>\n",
              "    <tr>\n",
              "      <th>0</th>\n",
              "      <td>0013cc385424</td>\n",
              "      <td>007ACE74B050</td>\n",
              "      <td>Hi, i'm Isaac, i'm going to be writing about h...</td>\n",
              "      <td>Lead</td>\n",
              "      <td>Adequate</td>\n",
              "    </tr>\n",
              "    <tr>\n",
              "      <th>1</th>\n",
              "      <td>9704a709b505</td>\n",
              "      <td>007ACE74B050</td>\n",
              "      <td>On my perspective, I think that the face is a ...</td>\n",
              "      <td>Position</td>\n",
              "      <td>Adequate</td>\n",
              "    </tr>\n",
              "    <tr>\n",
              "      <th>2</th>\n",
              "      <td>c22adee811b6</td>\n",
              "      <td>007ACE74B050</td>\n",
              "      <td>I think that the face is a natural landform be...</td>\n",
              "      <td>Claim</td>\n",
              "      <td>Adequate</td>\n",
              "    </tr>\n",
              "    <tr>\n",
              "      <th>3</th>\n",
              "      <td>a10d361e54e4</td>\n",
              "      <td>007ACE74B050</td>\n",
              "      <td>If life was on Mars, we would know by now. The...</td>\n",
              "      <td>Evidence</td>\n",
              "      <td>Adequate</td>\n",
              "    </tr>\n",
              "    <tr>\n",
              "      <th>4</th>\n",
              "      <td>db3e453ec4e2</td>\n",
              "      <td>007ACE74B050</td>\n",
              "      <td>People thought that the face was formed by ali...</td>\n",
              "      <td>Counterclaim</td>\n",
              "      <td>Adequate</td>\n",
              "    </tr>\n",
              "  </tbody>\n",
              "</table>\n",
              "</div>\n",
              "      <button class=\"colab-df-convert\" onclick=\"convertToInteractive('df-4883370e-0a5a-4784-abbb-5447b48aa453')\"\n",
              "              title=\"Convert this dataframe to an interactive table.\"\n",
              "              style=\"display:none;\">\n",
              "        \n",
              "  <svg xmlns=\"http://www.w3.org/2000/svg\" height=\"24px\"viewBox=\"0 0 24 24\"\n",
              "       width=\"24px\">\n",
              "    <path d=\"M0 0h24v24H0V0z\" fill=\"none\"/>\n",
              "    <path d=\"M18.56 5.44l.94 2.06.94-2.06 2.06-.94-2.06-.94-.94-2.06-.94 2.06-2.06.94zm-11 1L8.5 8.5l.94-2.06 2.06-.94-2.06-.94L8.5 2.5l-.94 2.06-2.06.94zm10 10l.94 2.06.94-2.06 2.06-.94-2.06-.94-.94-2.06-.94 2.06-2.06.94z\"/><path d=\"M17.41 7.96l-1.37-1.37c-.4-.4-.92-.59-1.43-.59-.52 0-1.04.2-1.43.59L10.3 9.45l-7.72 7.72c-.78.78-.78 2.05 0 2.83L4 21.41c.39.39.9.59 1.41.59.51 0 1.02-.2 1.41-.59l7.78-7.78 2.81-2.81c.8-.78.8-2.07 0-2.86zM5.41 20L4 18.59l7.72-7.72 1.47 1.35L5.41 20z\"/>\n",
              "  </svg>\n",
              "      </button>\n",
              "      \n",
              "  <style>\n",
              "    .colab-df-container {\n",
              "      display:flex;\n",
              "      flex-wrap:wrap;\n",
              "      gap: 12px;\n",
              "    }\n",
              "\n",
              "    .colab-df-convert {\n",
              "      background-color: #E8F0FE;\n",
              "      border: none;\n",
              "      border-radius: 50%;\n",
              "      cursor: pointer;\n",
              "      display: none;\n",
              "      fill: #1967D2;\n",
              "      height: 32px;\n",
              "      padding: 0 0 0 0;\n",
              "      width: 32px;\n",
              "    }\n",
              "\n",
              "    .colab-df-convert:hover {\n",
              "      background-color: #E2EBFA;\n",
              "      box-shadow: 0px 1px 2px rgba(60, 64, 67, 0.3), 0px 1px 3px 1px rgba(60, 64, 67, 0.15);\n",
              "      fill: #174EA6;\n",
              "    }\n",
              "\n",
              "    [theme=dark] .colab-df-convert {\n",
              "      background-color: #3B4455;\n",
              "      fill: #D2E3FC;\n",
              "    }\n",
              "\n",
              "    [theme=dark] .colab-df-convert:hover {\n",
              "      background-color: #434B5C;\n",
              "      box-shadow: 0px 1px 3px 1px rgba(0, 0, 0, 0.15);\n",
              "      filter: drop-shadow(0px 1px 2px rgba(0, 0, 0, 0.3));\n",
              "      fill: #FFFFFF;\n",
              "    }\n",
              "  </style>\n",
              "\n",
              "      <script>\n",
              "        const buttonEl =\n",
              "          document.querySelector('#df-4883370e-0a5a-4784-abbb-5447b48aa453 button.colab-df-convert');\n",
              "        buttonEl.style.display =\n",
              "          google.colab.kernel.accessAllowed ? 'block' : 'none';\n",
              "\n",
              "        async function convertToInteractive(key) {\n",
              "          const element = document.querySelector('#df-4883370e-0a5a-4784-abbb-5447b48aa453');\n",
              "          const dataTable =\n",
              "            await google.colab.kernel.invokeFunction('convertToInteractive',\n",
              "                                                     [key], {});\n",
              "          if (!dataTable) return;\n",
              "\n",
              "          const docLinkHtml = 'Like what you see? Visit the ' +\n",
              "            '<a target=\"_blank\" href=https://colab.research.google.com/notebooks/data_table.ipynb>data table notebook</a>'\n",
              "            + ' to learn more about interactive tables.';\n",
              "          element.innerHTML = '';\n",
              "          dataTable['output_type'] = 'display_data';\n",
              "          await google.colab.output.renderOutput(dataTable, element);\n",
              "          const docLink = document.createElement('div');\n",
              "          docLink.innerHTML = docLinkHtml;\n",
              "          element.appendChild(docLink);\n",
              "        }\n",
              "      </script>\n",
              "    </div>\n",
              "  </div>\n",
              "  "
            ]
          },
          "metadata": {},
          "execution_count": 9
        }
      ]
    },
    {
      "cell_type": "markdown",
      "source": [
        "## Discourse Type\n",
        "Each essay element contains discourse type metadata. There are 7 discourse_type values with explainations:\n",
        "\n",
        "`Lead` - an introduction that begins with a statistic, a quotation, a description, or some other device to grab the reader’s attention and point toward the thesis\n",
        "\n",
        "`Position` - an opinion or conclusion on the main question\n",
        "\n",
        "`Claim` - a claim that supports the position\n",
        "\n",
        "`Counterclaim` - a claim that refutes another claim or gives an opposing reason to the position\n",
        "\n",
        "`Rebuttal` - a claim that refutes a counterclaim\n",
        "\n",
        "`Evidence` - ideas or examples that support claims, counterclaims, or rebuttals.\n",
        "\n",
        "`Concluding Statement` - a concluding statement that restates the claims."
      ],
      "metadata": {
        "id": "2Se9xdPQb52c"
      }
    },
    {
      "cell_type": "markdown",
      "source": [
        "# Data Cleaning\n",
        "\n",
        "---\n",
        "\n",
        "Wrong spellings are ignored and important for the model training. This includes the special characteres such as exclamation marks and fullstops."
      ],
      "metadata": {
        "id": "4-B2YpiCb52e"
      }
    },
    {
      "cell_type": "markdown",
      "source": [
        "## Normalize unicode"
      ],
      "metadata": {
        "id": "k6iJnNQrb52g"
      }
    },
    {
      "cell_type": "code",
      "source": [
        "# https://www.kaggle.com/competitions/feedback-prize-2021/discussion/313330\n",
        "def replace_encoding_with_utf8(error: UnicodeError) -> Tuple[bytes, int]:\n",
        "    return error.object[error.start : error.end].encode(\"utf-8\"), error.end\n",
        "\n",
        "\n",
        "def replace_decoding_with_cp1252(error: UnicodeError) -> Tuple[str, int]:\n",
        "    return error.object[error.start : error.end].decode(\"cp1252\"), error.end\n",
        "\n",
        "# Register the encoding and decoding error handlers for `utf-8` and `cp1252`.\n",
        "codecs.register_error(\"replace_encoding_with_utf8\", replace_encoding_with_utf8)\n",
        "codecs.register_error(\"replace_decoding_with_cp1252\", replace_decoding_with_cp1252)\n",
        "\n",
        "def resolve_encodings_and_normalize(text: str) -> str:\n",
        "    \"\"\"Resolve the encoding problems and normalize the abnormal characters.\"\"\"\n",
        "    text = (\n",
        "        text.encode(\"raw_unicode_escape\")\n",
        "        .decode(\"utf-8\", errors=\"replace_decoding_with_cp1252\")\n",
        "        .encode(\"cp1252\", errors=\"replace_encoding_with_utf8\")\n",
        "        .decode(\"utf-8\", errors=\"replace_decoding_with_cp1252\")\n",
        "    )\n",
        "    text = unidecode(text)\n",
        "    return text\n"
      ],
      "metadata": {
        "execution": {
          "iopub.status.busy": "2022-08-03T07:52:16.476766Z",
          "iopub.execute_input": "2022-08-03T07:52:16.477505Z",
          "iopub.status.idle": "2022-08-03T07:52:16.490355Z",
          "shell.execute_reply.started": "2022-08-03T07:52:16.477440Z",
          "shell.execute_reply": "2022-08-03T07:52:16.489174Z"
        },
        "trusted": true,
        "id": "3YlxiZfsb52h"
      },
      "execution_count": 10,
      "outputs": []
    },
    {
      "cell_type": "code",
      "source": [
        "df['discourse_text_norm'] = df['discourse_text'].apply(resolve_encodings_and_normalize)"
      ],
      "metadata": {
        "execution": {
          "iopub.status.busy": "2022-08-03T07:52:16.492272Z",
          "iopub.execute_input": "2022-08-03T07:52:16.492707Z",
          "iopub.status.idle": "2022-08-03T07:52:18.857865Z",
          "shell.execute_reply.started": "2022-08-03T07:52:16.492667Z",
          "shell.execute_reply": "2022-08-03T07:52:18.856635Z"
        },
        "trusted": true,
        "id": "9uvtlwEtb52i"
      },
      "execution_count": 11,
      "outputs": []
    },
    {
      "cell_type": "code",
      "source": [
        "# sample = df.sample(1)['discourse_id'].values[0]\n",
        "# print(sample)\n",
        "sample = '451b76cc4b59'\n",
        "text = df.loc[(df['discourse_id']==sample),'discourse_text'].values[0]\n",
        "text_norm = df.loc[(df['discourse_id']==sample),'discourse_text_norm'].values[0]\n",
        "print(f'Discourse_id: {sample}')\n",
        "print()\n",
        "text\n",
        "# print(text_norm)"
      ],
      "metadata": {
        "_kg_hide-input": false,
        "execution": {
          "iopub.status.busy": "2022-08-03T07:52:18.859661Z",
          "iopub.execute_input": "2022-08-03T07:52:18.860713Z",
          "iopub.status.idle": "2022-08-03T07:52:18.877635Z",
          "shell.execute_reply.started": "2022-08-03T07:52:18.860666Z",
          "shell.execute_reply": "2022-08-03T07:52:18.876379Z"
        },
        "trusted": true,
        "id": "qlWAU8eHb52i",
        "outputId": "36cfa5a2-e2e9-4daf-f62e-bf9497844aae",
        "colab": {
          "base_uri": "https://localhost:8080/",
          "height": 105
        }
      },
      "execution_count": 12,
      "outputs": [
        {
          "output_type": "stream",
          "name": "stdout",
          "text": [
            "Discourse_id: 451b76cc4b59\n",
            "\n"
          ]
        },
        {
          "output_type": "execute_result",
          "data": {
            "text/plain": [
              "'After all, many students will greduate and keep going with their life without having any problem about jobs and they will be good economically. They also will give their childs a reason why they should go to school and follow their dreams without letting people to\\xa0punish their\\xa0dreams. It also will help their family to support them without caring about what other people says, but everyone should conserve good things about everything. Also this students will have an illustrate part of his life, where they are going from success to success keeping everything on the side but his dreams on the front.   \\xa0 \\xa0 \\xa0 '"
            ],
            "application/vnd.google.colaboratory.intrinsic+json": {
              "type": "string"
            }
          },
          "metadata": {},
          "execution_count": 12
        }
      ]
    },
    {
      "cell_type": "code",
      "source": [
        "text_norm"
      ],
      "metadata": {
        "execution": {
          "iopub.status.busy": "2022-08-03T07:52:18.878715Z",
          "iopub.execute_input": "2022-08-03T07:52:18.879291Z",
          "iopub.status.idle": "2022-08-03T07:52:18.886389Z",
          "shell.execute_reply.started": "2022-08-03T07:52:18.879261Z",
          "shell.execute_reply": "2022-08-03T07:52:18.885307Z"
        },
        "trusted": true,
        "id": "fQlGuM0ab52j",
        "outputId": "03050d9b-6ad3-410a-e365-d01009a8872d",
        "colab": {
          "base_uri": "https://localhost:8080/",
          "height": 70
        }
      },
      "execution_count": 13,
      "outputs": [
        {
          "output_type": "execute_result",
          "data": {
            "text/plain": [
              "'After all, many students will greduate and keep going with their life without having any problem about jobs and they will be good economically. They also will give their childs a reason why they should go to school and follow their dreams without letting people to punish their dreams. It also will help their family to support them without caring about what other people says, but everyone should conserve good things about everything. Also this students will have an illustrate part of his life, where they are going from success to success keeping everything on the side but his dreams on the front.         '"
            ],
            "application/vnd.google.colaboratory.intrinsic+json": {
              "type": "string"
            }
          },
          "metadata": {},
          "execution_count": 13
        }
      ]
    },
    {
      "cell_type": "markdown",
      "source": [
        "# EDA\n",
        "\n",
        "---"
      ],
      "metadata": {
        "id": "RgwB1nQJhS37"
      }
    },
    {
      "cell_type": "markdown",
      "source": [
        "## Discourse Text and Type Analysis"
      ],
      "metadata": {
        "id": "xsjYGKcWvayD"
      }
    },
    {
      "cell_type": "code",
      "source": [
        "def cat_analyser(data, col):\n",
        "    fig, ax = plt.subplots(nrows = 1, ncols = 2, figsize = (18, 6))\n",
        "    fig.suptitle(col, fontsize = 16)\n",
        "    sns.countplot(data = data,\n",
        "                  x = col,\n",
        "                  ax = ax[0],\n",
        "                  palette= 'Pastel1',\n",
        "                  order =  data[col].value_counts().index)\n",
        "    ax[0].set_xlabel('')\n",
        "    pie_cmap = plt.get_cmap('Pastel1')\n",
        "    normalize = lambda x: (x - np.min(x)) / (np.max(x) - np.min(x)) \n",
        "    data[col].value_counts().plot.pie(autopct='%1.1f%%',\n",
        "                                      textprops={'fontsize': 12},\n",
        "                                      ax=ax[1],\n",
        "                                      colors = pie_cmap(normalize(data[col].value_counts())))\n",
        "    ax[1].set_ylabel('')\n",
        "    plt.show()\n",
        "    \n",
        "for col in ['discourse_type', 'discourse_effectiveness']:\n",
        "    cat_analyser(df, col)\n",
        "    \n",
        "fig, ax = plt.subplots(nrows = 1, ncols = 1, figsize=(18, 8))\n",
        "sns.countplot(data = df,\n",
        "              x = 'discourse_type',\n",
        "              hue ='discourse_effectiveness',\n",
        "              palette = 'Pastel2')\n",
        "plt.legend(loc = 'best', prop={'size': 14})\n",
        "plt.title('Discourse Type & Discourse Effectiveness', size = 14)\n",
        "plt.yticks(size = 14)\n",
        "plt.xticks(size = 14)\n",
        "plt.show()"
      ],
      "metadata": {
        "id": "kuStqQZDvbfk",
        "outputId": "3d592e25-5e15-4ed6-e3c3-a5cd5c4d8800",
        "colab": {
          "base_uri": "https://localhost:8080/",
          "height": 1000
        }
      },
      "execution_count": 14,
      "outputs": [
        {
          "output_type": "display_data",
          "data": {
            "text/plain": [
              "<Figure size 1296x432 with 2 Axes>"
            ],
            "image/png": "[encoded data removed]"
          },
          "metadata": {
            "needs_background": "light"
          }
        },
        {
          "output_type": "display_data",
          "data": {
            "text/plain": [
              "<Figure size 1296x432 with 2 Axes>"
            ],
            "image/png": "[encoded data removed]"
          },
          "metadata": {
            "needs_background": "light"
          }
        },
        {
          "output_type": "display_data",
          "data": {
            "text/plain": [
              "<Figure size 1296x576 with 1 Axes>"
            ],
            "image/png": "[encoded data removed]"
          },
          "metadata": {
            "needs_background": "light"
          }
        }
      ]
    },
    {
      "cell_type": "markdown",
      "source": [
        "## Number of sentences per row of data\n",
        "\n",
        "Finding: Some rows have more than one sentences."
      ],
      "metadata": {
        "id": "21S-xdbboLWS"
      }
    },
    {
      "cell_type": "code",
      "source": [
        "text = [len(sent_tokenize(text=row,language = 'english')) for row in df['discourse_text']]\n",
        "sentence = pd.DataFrame(text)\n",
        "df['text_num_sentence'] = sentence"
      ],
      "metadata": {
        "id": "zkiUrwJvjb_L",
        "execution": {
          "iopub.status.busy": "2022-08-03T07:52:18.888309Z",
          "iopub.execute_input": "2022-08-03T07:52:18.888730Z",
          "iopub.status.idle": "2022-08-03T07:52:21.219413Z",
          "shell.execute_reply.started": "2022-08-03T07:52:18.888689Z",
          "shell.execute_reply": "2022-08-03T07:52:21.218373Z"
        },
        "trusted": true
      },
      "execution_count": 15,
      "outputs": []
    },
    {
      "cell_type": "code",
      "source": [
        "# Including special characters\n",
        "df['text_word_count'] = df['discourse_text'].str.split().apply(len)\n",
        "df['text_char_count'] = df['discourse_text'].apply(len)\n",
        "\n",
        "def num_specialchar(row):\n",
        "    new = re.sub('[\\w]+' ,'', row)\n",
        "    return len(new)\n",
        "\n",
        "df['text_num_special_char']=df['discourse_text'].apply(num_specialchar)"
      ],
      "metadata": {
        "id": "UCMavamSHxCz",
        "execution": {
          "iopub.status.busy": "2022-08-03T07:52:21.223643Z",
          "iopub.execute_input": "2022-08-03T07:52:21.224014Z",
          "iopub.status.idle": "2022-08-03T07:52:21.522277Z",
          "shell.execute_reply.started": "2022-08-03T07:52:21.223968Z",
          "shell.execute_reply": "2022-08-03T07:52:21.521242Z"
        },
        "trusted": true
      },
      "execution_count": 16,
      "outputs": []
    },
    {
      "cell_type": "code",
      "source": [
        "plt.figure(figsize=(10,10))\n",
        "sns.histplot(data=df, x ='text_num_sentence')\n",
        "plt.title('Number of sentence')\n",
        "plt.xlim(0,15)\n",
        "df.groupby('discourse_effectiveness')['text_num_sentence'].describe()"
      ],
      "metadata": {
        "id": "YOd-v1YdH0Ia",
        "outputId": "de79b8b9-1a5f-4cb2-8622-840cd2275423",
        "execution": {
          "iopub.status.busy": "2022-08-03T07:52:21.995514Z",
          "iopub.execute_input": "2022-08-03T07:52:21.995818Z",
          "iopub.status.idle": "2022-08-03T07:52:22.791578Z",
          "shell.execute_reply.started": "2022-08-03T07:52:21.995790Z",
          "shell.execute_reply": "2022-08-03T07:52:22.790540Z"
        },
        "trusted": true,
        "colab": {
          "base_uri": "https://localhost:8080/",
          "height": 780
        }
      },
      "execution_count": 17,
      "outputs": [
        {
          "output_type": "execute_result",
          "data": {
            "text/plain": [
              "                           count      mean       std  min  25%  50%  75%   max\n",
              "discourse_effectiveness                                                       \n",
              "Adequate                 20977.0  1.904228  1.591156  1.0  1.0  1.0  2.0  41.0\n",
              "Effective                 9326.0  3.011581  2.699871  1.0  1.0  2.0  4.0  37.0\n",
              "Ineffective               6462.0  2.488548  2.963552  1.0  1.0  1.0  3.0  40.0"
            ],
            "text/html": [
              "\n",
              "  <div id=\"df-cc9d491c-827d-472b-926f-06927ca0aa9e\">\n",
              "    <div class=\"colab-df-container\">\n",
              "      <div>\n",
              "<style scoped>\n",
              "    .dataframe tbody tr th:only-of-type {\n",
              "        vertical-align: middle;\n",
              "    }\n",
              "\n",
              "    .dataframe tbody tr th {\n",
              "        vertical-align: top;\n",
              "    }\n",
              "\n",
              "    .dataframe thead th {\n",
              "        text-align: right;\n",
              "    }\n",
              "</style>\n",
              "<table border=\"1\" class=\"dataframe\">\n",
              "  <thead>\n",
              "    <tr style=\"text-align: right;\">\n",
              "      <th></th>\n",
              "      <th>count</th>\n",
              "      <th>mean</th>\n",
              "      <th>std</th>\n",
              "      <th>min</th>\n",
              "      <th>25%</th>\n",
              "      <th>50%</th>\n",
              "      <th>75%</th>\n",
              "      <th>max</th>\n",
              "    </tr>\n",
              "    <tr>\n",
              "      <th>discourse_effectiveness</th>\n",
              "      <th></th>\n",
              "      <th></th>\n",
              "      <th></th>\n",
              "      <th></th>\n",
              "      <th></th>\n",
              "      <th></th>\n",
              "      <th></th>\n",
              "      <th></th>\n",
              "    </tr>\n",
              "  </thead>\n",
              "  <tbody>\n",
              "    <tr>\n",
              "      <th>Adequate</th>\n",
              "      <td>20977.0</td>\n",
              "      <td>1.904228</td>\n",
              "      <td>1.591156</td>\n",
              "      <td>1.0</td>\n",
              "      <td>1.0</td>\n",
              "      <td>1.0</td>\n",
              "      <td>2.0</td>\n",
              "      <td>41.0</td>\n",
              "    </tr>\n",
              "    <tr>\n",
              "      <th>Effective</th>\n",
              "      <td>9326.0</td>\n",
              "      <td>3.011581</td>\n",
              "      <td>2.699871</td>\n",
              "      <td>1.0</td>\n",
              "      <td>1.0</td>\n",
              "      <td>2.0</td>\n",
              "      <td>4.0</td>\n",
              "      <td>37.0</td>\n",
              "    </tr>\n",
              "    <tr>\n",
              "      <th>Ineffective</th>\n",
              "      <td>6462.0</td>\n",
              "      <td>2.488548</td>\n",
              "      <td>2.963552</td>\n",
              "      <td>1.0</td>\n",
              "      <td>1.0</td>\n",
              "      <td>1.0</td>\n",
              "      <td>3.0</td>\n",
              "      <td>40.0</td>\n",
              "    </tr>\n",
              "  </tbody>\n",
              "</table>\n",
              "</div>\n",
              "      <button class=\"colab-df-convert\" onclick=\"convertToInteractive('df-cc9d491c-827d-472b-926f-06927ca0aa9e')\"\n",
              "              title=\"Convert this dataframe to an interactive table.\"\n",
              "              style=\"display:none;\">\n",
              "        \n",
              "  <svg xmlns=\"http://www.w3.org/2000/svg\" height=\"24px\"viewBox=\"0 0 24 24\"\n",
              "       width=\"24px\">\n",
              "    <path d=\"M0 0h24v24H0V0z\" fill=\"none\"/>\n",
              "    <path d=\"M18.56 5.44l.94 2.06.94-2.06 2.06-.94-2.06-.94-.94-2.06-.94 2.06-2.06.94zm-11 1L8.5 8.5l.94-2.06 2.06-.94-2.06-.94L8.5 2.5l-.94 2.06-2.06.94zm10 10l.94 2.06.94-2.06 2.06-.94-2.06-.94-.94-2.06-.94 2.06-2.06.94z\"/><path d=\"M17.41 7.96l-1.37-1.37c-.4-.4-.92-.59-1.43-.59-.52 0-1.04.2-1.43.59L10.3 9.45l-7.72 7.72c-.78.78-.78 2.05 0 2.83L4 21.41c.39.39.9.59 1.41.59.51 0 1.02-.2 1.41-.59l7.78-7.78 2.81-2.81c.8-.78.8-2.07 0-2.86zM5.41 20L4 18.59l7.72-7.72 1.47 1.35L5.41 20z\"/>\n",
              "  </svg>\n",
              "      </button>\n",
              "      \n",
              "  <style>\n",
              "    .colab-df-container {\n",
              "      display:flex;\n",
              "      flex-wrap:wrap;\n",
              "      gap: 12px;\n",
              "    }\n",
              "\n",
              "    .colab-df-convert {\n",
              "      background-color: #E8F0FE;\n",
              "      border: none;\n",
              "      border-radius: 50%;\n",
              "      cursor: pointer;\n",
              "      display: none;\n",
              "      fill: #1967D2;\n",
              "      height: 32px;\n",
              "      padding: 0 0 0 0;\n",
              "      width: 32px;\n",
              "    }\n",
              "\n",
              "    .colab-df-convert:hover {\n",
              "      background-color: #E2EBFA;\n",
              "      box-shadow: 0px 1px 2px rgba(60, 64, 67, 0.3), 0px 1px 3px 1px rgba(60, 64, 67, 0.15);\n",
              "      fill: #174EA6;\n",
              "    }\n",
              "\n",
              "    [theme=dark] .colab-df-convert {\n",
              "      background-color: #3B4455;\n",
              "      fill: #D2E3FC;\n",
              "    }\n",
              "\n",
              "    [theme=dark] .colab-df-convert:hover {\n",
              "      background-color: #434B5C;\n",
              "      box-shadow: 0px 1px 3px 1px rgba(0, 0, 0, 0.15);\n",
              "      filter: drop-shadow(0px 1px 2px rgba(0, 0, 0, 0.3));\n",
              "      fill: #FFFFFF;\n",
              "    }\n",
              "  </style>\n",
              "\n",
              "      <script>\n",
              "        const buttonEl =\n",
              "          document.querySelector('#df-cc9d491c-827d-472b-926f-06927ca0aa9e button.colab-df-convert');\n",
              "        buttonEl.style.display =\n",
              "          google.colab.kernel.accessAllowed ? 'block' : 'none';\n",
              "\n",
              "        async function convertToInteractive(key) {\n",
              "          const element = document.querySelector('#df-cc9d491c-827d-472b-926f-06927ca0aa9e');\n",
              "          const dataTable =\n",
              "            await google.colab.kernel.invokeFunction('convertToInteractive',\n",
              "                                                     [key], {});\n",
              "          if (!dataTable) return;\n",
              "\n",
              "          const docLinkHtml = 'Like what you see? Visit the ' +\n",
              "            '<a target=\"_blank\" href=https://colab.research.google.com/notebooks/data_table.ipynb>data table notebook</a>'\n",
              "            + ' to learn more about interactive tables.';\n",
              "          element.innerHTML = '';\n",
              "          dataTable['output_type'] = 'display_data';\n",
              "          await google.colab.output.renderOutput(dataTable, element);\n",
              "          const docLink = document.createElement('div');\n",
              "          docLink.innerHTML = docLinkHtml;\n",
              "          element.appendChild(docLink);\n",
              "        }\n",
              "      </script>\n",
              "    </div>\n",
              "  </div>\n",
              "  "
            ]
          },
          "metadata": {},
          "execution_count": 17
        },
        {
          "output_type": "display_data",
          "data": {
            "text/plain": [
              "<Figure size 720x720 with 1 Axes>"
            ],
            "image/png": "[encoded data removed]"
          },
          "metadata": {
            "needs_background": "light"
          }
        }
      ]
    },
    {
      "cell_type": "markdown",
      "source": [
        "## Number of words per row of data\n",
        "\n",
        "Findings: Effective sentences tend to have more words, followed by ineffective and adequate."
      ],
      "metadata": {
        "id": "UsgAA9-ZoxzT"
      }
    },
    {
      "cell_type": "code",
      "source": [
        "ineff_word = df.loc[df['discourse_effectiveness']=='Ineffective']\n",
        "eff_word = df.loc[df['discourse_effectiveness']=='Effective']\n",
        "adq_word = df.loc[df['discourse_effectiveness']=='Adequate']\n",
        "\n",
        "figs, axs = plt.subplots(3,1,figsize=(10,20))\n",
        "# plt.figure(figsize=(10,10))\n",
        "sns.histplot(data=ineff_word, x ='text_word_count',hue='discourse_effectiveness',ax=axs[0],palette = 'OrRd')\n",
        "sns.histplot(data=adq_word, x ='text_word_count',hue='discourse_effectiveness',ax=axs[1],palette = 'BuPu')\n",
        "sns.histplot(data=eff_word, x ='text_word_count',hue='discourse_effectiveness',ax=axs[2],palette = 'GnBu')\n",
        "axs[0].set_title('Number of words')\n",
        "axs[1].set_title('Number of words')\n",
        "axs[2].set_title('Number of words')\n",
        "axs[0].set_xlim(0,250)\n",
        "axs[1].set_xlim(0,250)\n",
        "axs[2].set_xlim(0,250)\n",
        "axs[0].set_ylim(0,1800)\n",
        "axs[1].set_ylim(0,1800)\n",
        "axs[2].set_ylim(0,1800)\n",
        "axs[0].axvline(x=ineff_word['text_word_count'].mean(),color='red',linestyle='--')\n",
        "axs[1].axvline(x=adq_word['text_word_count'].mean(),color='red',linestyle='--')\n",
        "axs[2].axvline(x=eff_word['text_word_count'].mean(),color='red',linestyle='--')\n",
        "axs[0].xaxis.set_ticks(np.arange(0, 250, 10))\n",
        "axs[1].xaxis.set_ticks(np.arange(0, 250, 10))\n",
        "axs[2].xaxis.set_ticks(np.arange(0, 250, 10));\n",
        "\n",
        "df.groupby('discourse_effectiveness')['text_word_count'].describe()\n"
      ],
      "metadata": {
        "execution": {
          "iopub.status.busy": "2022-08-03T07:52:22.824480Z",
          "iopub.execute_input": "2022-08-03T07:52:22.824804Z",
          "iopub.status.idle": "2022-08-03T07:52:26.112131Z",
          "shell.execute_reply.started": "2022-08-03T07:52:22.824775Z",
          "shell.execute_reply": "2022-08-03T07:52:26.111028Z"
        },
        "trusted": true,
        "id": "k_4Qdf_Ub52m",
        "outputId": "c51bd872-3f96-4c51-944d-857da9d8de3f",
        "colab": {
          "base_uri": "https://localhost:8080/",
          "height": 1000
        }
      },
      "execution_count": 23,
      "outputs": [
        {
          "output_type": "execute_result",
          "data": {
            "text/plain": [
              "                           count       mean        std  min   25%   50%   75%  \\\n",
              "discourse_effectiveness                                                         \n",
              "Adequate                 20977.0  35.120275  31.567374  1.0  14.0  24.0  46.0   \n",
              "Effective                 9326.0  63.269354  57.978461  1.0  19.0  39.0  96.0   \n",
              "Ineffective               6462.0  48.737078  59.116275  1.0  17.0  30.0  57.0   \n",
              "\n",
              "                           max  \n",
              "discourse_effectiveness         \n",
              "Adequate                 519.0  \n",
              "Effective                542.0  \n",
              "Ineffective              836.0  "
            ],
            "text/html": [
              "\n",
              "  <div id=\"df-2a06ec5e-4191-49da-896d-ceb1ff6c22d9\">\n",
              "    <div class=\"colab-df-container\">\n",
              "      <div>\n",
              "<style scoped>\n",
              "    .dataframe tbody tr th:only-of-type {\n",
              "        vertical-align: middle;\n",
              "    }\n",
              "\n",
              "    .dataframe tbody tr th {\n",
              "        vertical-align: top;\n",
              "    }\n",
              "\n",
              "    .dataframe thead th {\n",
              "        text-align: right;\n",
              "    }\n",
              "</style>\n",
              "<table border=\"1\" class=\"dataframe\">\n",
              "  <thead>\n",
              "    <tr style=\"text-align: right;\">\n",
              "      <th></th>\n",
              "      <th>count</th>\n",
              "      <th>mean</th>\n",
              "      <th>std</th>\n",
              "      <th>min</th>\n",
              "      <th>25%</th>\n",
              "      <th>50%</th>\n",
              "      <th>75%</th>\n",
              "      <th>max</th>\n",
              "    </tr>\n",
              "    <tr>\n",
              "      <th>discourse_effectiveness</th>\n",
              "      <th></th>\n",
              "      <th></th>\n",
              "      <th></th>\n",
              "      <th></th>\n",
              "      <th></th>\n",
              "      <th></th>\n",
              "      <th></th>\n",
              "      <th></th>\n",
              "    </tr>\n",
              "  </thead>\n",
              "  <tbody>\n",
              "    <tr>\n",
              "      <th>Adequate</th>\n",
              "      <td>20977.0</td>\n",
              "      <td>35.120275</td>\n",
              "      <td>31.567374</td>\n",
              "      <td>1.0</td>\n",
              "      <td>14.0</td>\n",
              "      <td>24.0</td>\n",
              "      <td>46.0</td>\n",
              "      <td>519.0</td>\n",
              "    </tr>\n",
              "    <tr>\n",
              "      <th>Effective</th>\n",
              "      <td>9326.0</td>\n",
              "      <td>63.269354</td>\n",
              "      <td>57.978461</td>\n",
              "      <td>1.0</td>\n",
              "      <td>19.0</td>\n",
              "      <td>39.0</td>\n",
              "      <td>96.0</td>\n",
              "      <td>542.0</td>\n",
              "    </tr>\n",
              "    <tr>\n",
              "      <th>Ineffective</th>\n",
              "      <td>6462.0</td>\n",
              "      <td>48.737078</td>\n",
              "      <td>59.116275</td>\n",
              "      <td>1.0</td>\n",
              "      <td>17.0</td>\n",
              "      <td>30.0</td>\n",
              "      <td>57.0</td>\n",
              "      <td>836.0</td>\n",
              "    </tr>\n",
              "  </tbody>\n",
              "</table>\n",
              "</div>\n",
              "      <button class=\"colab-df-convert\" onclick=\"convertToInteractive('df-2a06ec5e-4191-49da-896d-ceb1ff6c22d9')\"\n",
              "              title=\"Convert this dataframe to an interactive table.\"\n",
              "              style=\"display:none;\">\n",
              "        \n",
              "  <svg xmlns=\"http://www.w3.org/2000/svg\" height=\"24px\"viewBox=\"0 0 24 24\"\n",
              "       width=\"24px\">\n",
              "    <path d=\"M0 0h24v24H0V0z\" fill=\"none\"/>\n",
              "    <path d=\"M18.56 5.44l.94 2.06.94-2.06 2.06-.94-2.06-.94-.94-2.06-.94 2.06-2.06.94zm-11 1L8.5 8.5l.94-2.06 2.06-.94-2.06-.94L8.5 2.5l-.94 2.06-2.06.94zm10 10l.94 2.06.94-2.06 2.06-.94-2.06-.94-.94-2.06-.94 2.06-2.06.94z\"/><path d=\"M17.41 7.96l-1.37-1.37c-.4-.4-.92-.59-1.43-.59-.52 0-1.04.2-1.43.59L10.3 9.45l-7.72 7.72c-.78.78-.78 2.05 0 2.83L4 21.41c.39.39.9.59 1.41.59.51 0 1.02-.2 1.41-.59l7.78-7.78 2.81-2.81c.8-.78.8-2.07 0-2.86zM5.41 20L4 18.59l7.72-7.72 1.47 1.35L5.41 20z\"/>\n",
              "  </svg>\n",
              "      </button>\n",
              "      \n",
              "  <style>\n",
              "    .colab-df-container {\n",
              "      display:flex;\n",
              "      flex-wrap:wrap;\n",
              "      gap: 12px;\n",
              "    }\n",
              "\n",
              "    .colab-df-convert {\n",
              "      background-color: #E8F0FE;\n",
              "      border: none;\n",
              "      border-radius: 50%;\n",
              "      cursor: pointer;\n",
              "      display: none;\n",
              "      fill: #1967D2;\n",
              "      height: 32px;\n",
              "      padding: 0 0 0 0;\n",
              "      width: 32px;\n",
              "    }\n",
              "\n",
              "    .colab-df-convert:hover {\n",
              "      background-color: #E2EBFA;\n",
              "      box-shadow: 0px 1px 2px rgba(60, 64, 67, 0.3), 0px 1px 3px 1px rgba(60, 64, 67, 0.15);\n",
              "      fill: #174EA6;\n",
              "    }\n",
              "\n",
              "    [theme=dark] .colab-df-convert {\n",
              "      background-color: #3B4455;\n",
              "      fill: #D2E3FC;\n",
              "    }\n",
              "\n",
              "    [theme=dark] .colab-df-convert:hover {\n",
              "      background-color: #434B5C;\n",
              "      box-shadow: 0px 1px 3px 1px rgba(0, 0, 0, 0.15);\n",
              "      filter: drop-shadow(0px 1px 2px rgba(0, 0, 0, 0.3));\n",
              "      fill: #FFFFFF;\n",
              "    }\n",
              "  </style>\n",
              "\n",
              "      <script>\n",
              "        const buttonEl =\n",
              "          document.querySelector('#df-2a06ec5e-4191-49da-896d-ceb1ff6c22d9 button.colab-df-convert');\n",
              "        buttonEl.style.display =\n",
              "          google.colab.kernel.accessAllowed ? 'block' : 'none';\n",
              "\n",
              "        async function convertToInteractive(key) {\n",
              "          const element = document.querySelector('#df-2a06ec5e-4191-49da-896d-ceb1ff6c22d9');\n",
              "          const dataTable =\n",
              "            await google.colab.kernel.invokeFunction('convertToInteractive',\n",
              "                                                     [key], {});\n",
              "          if (!dataTable) return;\n",
              "\n",
              "          const docLinkHtml = 'Like what you see? Visit the ' +\n",
              "            '<a target=\"_blank\" href=https://colab.research.google.com/notebooks/data_table.ipynb>data table notebook</a>'\n",
              "            + ' to learn more about interactive tables.';\n",
              "          element.innerHTML = '';\n",
              "          dataTable['output_type'] = 'display_data';\n",
              "          await google.colab.output.renderOutput(dataTable, element);\n",
              "          const docLink = document.createElement('div');\n",
              "          docLink.innerHTML = docLinkHtml;\n",
              "          element.appendChild(docLink);\n",
              "        }\n",
              "      </script>\n",
              "    </div>\n",
              "  </div>\n",
              "  "
            ]
          },
          "metadata": {},
          "execution_count": 23
        },
        {
          "output_type": "display_data",
          "data": {
            "text/plain": [
              "<Figure size 720x1440 with 3 Axes>"
            ],
            "image/png": "[encoded data removed]"
          },
          "metadata": {
            "needs_background": "light"
          }
        }
      ]
    },
    {
      "cell_type": "markdown",
      "source": [
        "## Number of Characters per text\n",
        "\n",
        "Findings: Effective text has the highest average number of characters, followed by Ineffective and Adequate. This may pose a great problem to identify between Ineffective and adequate"
      ],
      "metadata": {
        "id": "0IL2KVpotCBm"
      }
    },
    {
      "cell_type": "code",
      "source": [
        "figs, axs = plt.subplots(3,1,figsize=(10,20))\n",
        "# plt.figure(figsize=(10,10))\n",
        "sns.histplot(data=ineff_word, x ='text_char_count',hue='discourse_effectiveness',ax=axs[0],palette = 'OrRd')\n",
        "sns.histplot(data=adq_word, x ='text_char_count',hue='discourse_effectiveness',ax=axs[1],palette = 'BuPu')\n",
        "sns.histplot(data=eff_word, x ='text_char_count',hue='discourse_effectiveness',ax=axs[2],palette = 'GnBu')\n",
        "axs[0].set_title('Number of characters')\n",
        "axs[1].set_title('Number of characters')\n",
        "axs[2].set_title('Number of characters')\n",
        "axs[0].set_xlim(0,1000)\n",
        "axs[1].set_xlim(0,1000)\n",
        "axs[2].set_xlim(0,1000)\n",
        "axs[0].set_ylim(0,1600)\n",
        "axs[1].set_ylim(0,1600)\n",
        "axs[2].set_ylim(0,1600)\n",
        "axs[0].axvline(x=ineff_word['text_char_count'].mean(),color='red',linestyle='--')\n",
        "axs[1].axvline(x=adq_word['text_char_count'].mean(),color='red',linestyle='--')\n",
        "axs[2].axvline(x=eff_word['text_char_count'].mean(),color='red',linestyle='--')\n",
        "axs[0].xaxis.set_ticks(np.arange(0, 1000, 100))\n",
        "axs[1].xaxis.set_ticks(np.arange(0, 1000, 100))\n",
        "axs[2].xaxis.set_ticks(np.arange(0, 1000, 100));\n",
        "\n",
        "df.groupby('discourse_effectiveness')['text_char_count'].describe()"
      ],
      "metadata": {
        "id": "Wl9FcbMrH2eA",
        "outputId": "4bce4d27-f0fa-4efe-cac9-6e0eae07e815",
        "execution": {
          "iopub.status.busy": "2022-08-03T07:52:26.113625Z",
          "iopub.execute_input": "2022-08-03T07:52:26.114098Z",
          "iopub.status.idle": "2022-08-03T07:52:26.846307Z",
          "shell.execute_reply.started": "2022-08-03T07:52:26.114053Z",
          "shell.execute_reply": "2022-08-03T07:52:26.845276Z"
        },
        "trusted": true,
        "colab": {
          "base_uri": "https://localhost:8080/",
          "height": 1000
        }
      },
      "execution_count": 24,
      "outputs": [
        {
          "output_type": "execute_result",
          "data": {
            "text/plain": [
              "                           count        mean         std  min    25%    50%  \\\n",
              "discourse_effectiveness                                                       \n",
              "Adequate                 20977.0  193.231587  173.533538  6.0   80.0  134.0   \n",
              "Effective                 9326.0  363.642612  330.738540  7.0  114.0  225.0   \n",
              "Ineffective               6462.0  266.401578  327.915032  4.0   90.0  161.0   \n",
              "\n",
              "                            75%     max  \n",
              "discourse_effectiveness                  \n",
              "Adequate                 255.00  3031.0  \n",
              "Effective                553.00  2924.0  \n",
              "Ineffective              306.75  4099.0  "
            ],
            "text/html": [
              "\n",
              "  <div id=\"df-1e311483-176a-4a24-8937-f7ac3f415191\">\n",
              "    <div class=\"colab-df-container\">\n",
              "      <div>\n",
              "<style scoped>\n",
              "    .dataframe tbody tr th:only-of-type {\n",
              "        vertical-align: middle;\n",
              "    }\n",
              "\n",
              "    .dataframe tbody tr th {\n",
              "        vertical-align: top;\n",
              "    }\n",
              "\n",
              "    .dataframe thead th {\n",
              "        text-align: right;\n",
              "    }\n",
              "</style>\n",
              "<table border=\"1\" class=\"dataframe\">\n",
              "  <thead>\n",
              "    <tr style=\"text-align: right;\">\n",
              "      <th></th>\n",
              "      <th>count</th>\n",
              "      <th>mean</th>\n",
              "      <th>std</th>\n",
              "      <th>min</th>\n",
              "      <th>25%</th>\n",
              "      <th>50%</th>\n",
              "      <th>75%</th>\n",
              "      <th>max</th>\n",
              "    </tr>\n",
              "    <tr>\n",
              "      <th>discourse_effectiveness</th>\n",
              "      <th></th>\n",
              "      <th></th>\n",
              "      <th></th>\n",
              "      <th></th>\n",
              "      <th></th>\n",
              "      <th></th>\n",
              "      <th></th>\n",
              "      <th></th>\n",
              "    </tr>\n",
              "  </thead>\n",
              "  <tbody>\n",
              "    <tr>\n",
              "      <th>Adequate</th>\n",
              "      <td>20977.0</td>\n",
              "      <td>193.231587</td>\n",
              "      <td>173.533538</td>\n",
              "      <td>6.0</td>\n",
              "      <td>80.0</td>\n",
              "      <td>134.0</td>\n",
              "      <td>255.00</td>\n",
              "      <td>3031.0</td>\n",
              "    </tr>\n",
              "    <tr>\n",
              "      <th>Effective</th>\n",
              "      <td>9326.0</td>\n",
              "      <td>363.642612</td>\n",
              "      <td>330.738540</td>\n",
              "      <td>7.0</td>\n",
              "      <td>114.0</td>\n",
              "      <td>225.0</td>\n",
              "      <td>553.00</td>\n",
              "      <td>2924.0</td>\n",
              "    </tr>\n",
              "    <tr>\n",
              "      <th>Ineffective</th>\n",
              "      <td>6462.0</td>\n",
              "      <td>266.401578</td>\n",
              "      <td>327.915032</td>\n",
              "      <td>4.0</td>\n",
              "      <td>90.0</td>\n",
              "      <td>161.0</td>\n",
              "      <td>306.75</td>\n",
              "      <td>4099.0</td>\n",
              "    </tr>\n",
              "  </tbody>\n",
              "</table>\n",
              "</div>\n",
              "      <button class=\"colab-df-convert\" onclick=\"convertToInteractive('df-1e311483-176a-4a24-8937-f7ac3f415191')\"\n",
              "              title=\"Convert this dataframe to an interactive table.\"\n",
              "              style=\"display:none;\">\n",
              "        \n",
              "  <svg xmlns=\"http://www.w3.org/2000/svg\" height=\"24px\"viewBox=\"0 0 24 24\"\n",
              "       width=\"24px\">\n",
              "    <path d=\"M0 0h24v24H0V0z\" fill=\"none\"/>\n",
              "    <path d=\"M18.56 5.44l.94 2.06.94-2.06 2.06-.94-2.06-.94-.94-2.06-.94 2.06-2.06.94zm-11 1L8.5 8.5l.94-2.06 2.06-.94-2.06-.94L8.5 2.5l-.94 2.06-2.06.94zm10 10l.94 2.06.94-2.06 2.06-.94-2.06-.94-.94-2.06-.94 2.06-2.06.94z\"/><path d=\"M17.41 7.96l-1.37-1.37c-.4-.4-.92-.59-1.43-.59-.52 0-1.04.2-1.43.59L10.3 9.45l-7.72 7.72c-.78.78-.78 2.05 0 2.83L4 21.41c.39.39.9.59 1.41.59.51 0 1.02-.2 1.41-.59l7.78-7.78 2.81-2.81c.8-.78.8-2.07 0-2.86zM5.41 20L4 18.59l7.72-7.72 1.47 1.35L5.41 20z\"/>\n",
              "  </svg>\n",
              "      </button>\n",
              "      \n",
              "  <style>\n",
              "    .colab-df-container {\n",
              "      display:flex;\n",
              "      flex-wrap:wrap;\n",
              "      gap: 12px;\n",
              "    }\n",
              "\n",
              "    .colab-df-convert {\n",
              "      background-color: #E8F0FE;\n",
              "      border: none;\n",
              "      border-radius: 50%;\n",
              "      cursor: pointer;\n",
              "      display: none;\n",
              "      fill: #1967D2;\n",
              "      height: 32px;\n",
              "      padding: 0 0 0 0;\n",
              "      width: 32px;\n",
              "    }\n",
              "\n",
              "    .colab-df-convert:hover {\n",
              "      background-color: #E2EBFA;\n",
              "      box-shadow: 0px 1px 2px rgba(60, 64, 67, 0.3), 0px 1px 3px 1px rgba(60, 64, 67, 0.15);\n",
              "      fill: #174EA6;\n",
              "    }\n",
              "\n",
              "    [theme=dark] .colab-df-convert {\n",
              "      background-color: #3B4455;\n",
              "      fill: #D2E3FC;\n",
              "    }\n",
              "\n",
              "    [theme=dark] .colab-df-convert:hover {\n",
              "      background-color: #434B5C;\n",
              "      box-shadow: 0px 1px 3px 1px rgba(0, 0, 0, 0.15);\n",
              "      filter: drop-shadow(0px 1px 2px rgba(0, 0, 0, 0.3));\n",
              "      fill: #FFFFFF;\n",
              "    }\n",
              "  </style>\n",
              "\n",
              "      <script>\n",
              "        const buttonEl =\n",
              "          document.querySelector('#df-1e311483-176a-4a24-8937-f7ac3f415191 button.colab-df-convert');\n",
              "        buttonEl.style.display =\n",
              "          google.colab.kernel.accessAllowed ? 'block' : 'none';\n",
              "\n",
              "        async function convertToInteractive(key) {\n",
              "          const element = document.querySelector('#df-1e311483-176a-4a24-8937-f7ac3f415191');\n",
              "          const dataTable =\n",
              "            await google.colab.kernel.invokeFunction('convertToInteractive',\n",
              "                                                     [key], {});\n",
              "          if (!dataTable) return;\n",
              "\n",
              "          const docLinkHtml = 'Like what you see? Visit the ' +\n",
              "            '<a target=\"_blank\" href=https://colab.research.google.com/notebooks/data_table.ipynb>data table notebook</a>'\n",
              "            + ' to learn more about interactive tables.';\n",
              "          element.innerHTML = '';\n",
              "          dataTable['output_type'] = 'display_data';\n",
              "          await google.colab.output.renderOutput(dataTable, element);\n",
              "          const docLink = document.createElement('div');\n",
              "          docLink.innerHTML = docLinkHtml;\n",
              "          element.appendChild(docLink);\n",
              "        }\n",
              "      </script>\n",
              "    </div>\n",
              "  </div>\n",
              "  "
            ]
          },
          "metadata": {},
          "execution_count": 24
        },
        {
          "output_type": "display_data",
          "data": {
            "text/plain": [
              "<Figure size 720x1440 with 3 Axes>"
            ],
            "image/png": "[encoded data removed]"
          },
          "metadata": {
            "needs_background": "light"
          }
        }
      ]
    },
    {
      "cell_type": "code",
      "source": [
        "figs, axs = plt.subplots(3,1,figsize=(10,20))\n",
        "# plt.figure(figsize=(10,10))\n",
        "sns.histplot(data=ineff_word, x ='text_num_special_char',hue='discourse_effectiveness',ax=axs[0],palette = 'OrRd')\n",
        "sns.histplot(data=adq_word, x ='text_num_special_char',hue='discourse_effectiveness',ax=axs[1],palette = 'BuPu')\n",
        "sns.histplot(data=eff_word, x ='text_num_special_char',hue='discourse_effectiveness',ax=axs[2],palette = 'GnBu')\n",
        "axs[0].set_title('Number of special characters')\n",
        "axs[1].set_title('Number of special characters')\n",
        "axs[2].set_title('Number of special characters')\n",
        "axs[0].set_xlim(0,300)\n",
        "axs[1].set_xlim(0,300)\n",
        "axs[2].set_xlim(0,300)\n",
        "axs[0].set_ylim(0,1600)\n",
        "axs[1].set_ylim(0,1600)\n",
        "axs[2].set_ylim(0,1600)\n",
        "\n",
        "axs[0].xaxis.set_ticks(np.arange(0, 300, 20))\n",
        "axs[1].xaxis.set_ticks(np.arange(0, 300, 20))\n",
        "axs[2].xaxis.set_ticks(np.arange(0, 300, 20));\n",
        "\n",
        "df.groupby('discourse_effectiveness')['text_num_special_char'].describe()"
      ],
      "metadata": {
        "id": "GOksiMhkH43Q",
        "outputId": "2599c258-1537-42e6-d1d1-a2cc0237d751",
        "execution": {
          "iopub.status.busy": "2022-08-03T07:52:26.847694Z",
          "iopub.execute_input": "2022-08-03T07:52:26.848066Z",
          "iopub.status.idle": "2022-08-03T07:52:27.606179Z",
          "shell.execute_reply.started": "2022-08-03T07:52:26.848035Z",
          "shell.execute_reply": "2022-08-03T07:52:27.605236Z"
        },
        "trusted": true,
        "colab": {
          "base_uri": "https://localhost:8080/",
          "height": 1000
        }
      },
      "execution_count": null,
      "outputs": [
        {
          "output_type": "execute_result",
          "data": {
            "text/plain": [
              "                           count       mean        std  min   25%   50%  \\\n",
              "discourse_effectiveness                                                   \n",
              "Adequate                 20977.0  38.946036  35.480854  1.0  15.0  27.0   \n",
              "Effective                 9326.0  70.563693  65.016122  1.0  21.0  44.0   \n",
              "Ineffective               6462.0  54.298514  66.694304  1.0  18.0  33.0   \n",
              "\n",
              "                           75%    max  \n",
              "discourse_effectiveness                \n",
              "Adequate                  52.0  597.0  \n",
              "Effective                108.0  631.0  \n",
              "Ineffective               63.0  879.0  "
            ],
            "text/html": [
              "\n",
              "  <div id=\"df-a6cc3cbe-6d18-485e-95fc-df9bc56a6b8b\">\n",
              "    <div class=\"colab-df-container\">\n",
              "      <div>\n",
              "<style scoped>\n",
              "    .dataframe tbody tr th:only-of-type {\n",
              "        vertical-align: middle;\n",
              "    }\n",
              "\n",
              "    .dataframe tbody tr th {\n",
              "        vertical-align: top;\n",
              "    }\n",
              "\n",
              "    .dataframe thead th {\n",
              "        text-align: right;\n",
              "    }\n",
              "</style>\n",
              "<table border=\"1\" class=\"dataframe\">\n",
              "  <thead>\n",
              "    <tr style=\"text-align: right;\">\n",
              "      <th></th>\n",
              "      <th>count</th>\n",
              "      <th>mean</th>\n",
              "      <th>std</th>\n",
              "      <th>min</th>\n",
              "      <th>25%</th>\n",
              "      <th>50%</th>\n",
              "      <th>75%</th>\n",
              "      <th>max</th>\n",
              "    </tr>\n",
              "    <tr>\n",
              "      <th>discourse_effectiveness</th>\n",
              "      <th></th>\n",
              "      <th></th>\n",
              "      <th></th>\n",
              "      <th></th>\n",
              "      <th></th>\n",
              "      <th></th>\n",
              "      <th></th>\n",
              "      <th></th>\n",
              "    </tr>\n",
              "  </thead>\n",
              "  <tbody>\n",
              "    <tr>\n",
              "      <th>Adequate</th>\n",
              "      <td>20977.0</td>\n",
              "      <td>38.946036</td>\n",
              "      <td>35.480854</td>\n",
              "      <td>1.0</td>\n",
              "      <td>15.0</td>\n",
              "      <td>27.0</td>\n",
              "      <td>52.0</td>\n",
              "      <td>597.0</td>\n",
              "    </tr>\n",
              "    <tr>\n",
              "      <th>Effective</th>\n",
              "      <td>9326.0</td>\n",
              "      <td>70.563693</td>\n",
              "      <td>65.016122</td>\n",
              "      <td>1.0</td>\n",
              "      <td>21.0</td>\n",
              "      <td>44.0</td>\n",
              "      <td>108.0</td>\n",
              "      <td>631.0</td>\n",
              "    </tr>\n",
              "    <tr>\n",
              "      <th>Ineffective</th>\n",
              "      <td>6462.0</td>\n",
              "      <td>54.298514</td>\n",
              "      <td>66.694304</td>\n",
              "      <td>1.0</td>\n",
              "      <td>18.0</td>\n",
              "      <td>33.0</td>\n",
              "      <td>63.0</td>\n",
              "      <td>879.0</td>\n",
              "    </tr>\n",
              "  </tbody>\n",
              "</table>\n",
              "</div>\n",
              "      <button class=\"colab-df-convert\" onclick=\"convertToInteractive('df-a6cc3cbe-6d18-485e-95fc-df9bc56a6b8b')\"\n",
              "              title=\"Convert this dataframe to an interactive table.\"\n",
              "              style=\"display:none;\">\n",
              "        \n",
              "  <svg xmlns=\"http://www.w3.org/2000/svg\" height=\"24px\"viewBox=\"0 0 24 24\"\n",
              "       width=\"24px\">\n",
              "    <path d=\"M0 0h24v24H0V0z\" fill=\"none\"/>\n",
              "    <path d=\"M18.56 5.44l.94 2.06.94-2.06 2.06-.94-2.06-.94-.94-2.06-.94 2.06-2.06.94zm-11 1L8.5 8.5l.94-2.06 2.06-.94-2.06-.94L8.5 2.5l-.94 2.06-2.06.94zm10 10l.94 2.06.94-2.06 2.06-.94-2.06-.94-.94-2.06-.94 2.06-2.06.94z\"/><path d=\"M17.41 7.96l-1.37-1.37c-.4-.4-.92-.59-1.43-.59-.52 0-1.04.2-1.43.59L10.3 9.45l-7.72 7.72c-.78.78-.78 2.05 0 2.83L4 21.41c.39.39.9.59 1.41.59.51 0 1.02-.2 1.41-.59l7.78-7.78 2.81-2.81c.8-.78.8-2.07 0-2.86zM5.41 20L4 18.59l7.72-7.72 1.47 1.35L5.41 20z\"/>\n",
              "  </svg>\n",
              "      </button>\n",
              "      \n",
              "  <style>\n",
              "    .colab-df-container {\n",
              "      display:flex;\n",
              "      flex-wrap:wrap;\n",
              "      gap: 12px;\n",
              "    }\n",
              "\n",
              "    .colab-df-convert {\n",
              "      background-color: #E8F0FE;\n",
              "      border: none;\n",
              "      border-radius: 50%;\n",
              "      cursor: pointer;\n",
              "      display: none;\n",
              "      fill: #1967D2;\n",
              "      height: 32px;\n",
              "      padding: 0 0 0 0;\n",
              "      width: 32px;\n",
              "    }\n",
              "\n",
              "    .colab-df-convert:hover {\n",
              "      background-color: #E2EBFA;\n",
              "      box-shadow: 0px 1px 2px rgba(60, 64, 67, 0.3), 0px 1px 3px 1px rgba(60, 64, 67, 0.15);\n",
              "      fill: #174EA6;\n",
              "    }\n",
              "\n",
              "    [theme=dark] .colab-df-convert {\n",
              "      background-color: #3B4455;\n",
              "      fill: #D2E3FC;\n",
              "    }\n",
              "\n",
              "    [theme=dark] .colab-df-convert:hover {\n",
              "      background-color: #434B5C;\n",
              "      box-shadow: 0px 1px 3px 1px rgba(0, 0, 0, 0.15);\n",
              "      filter: drop-shadow(0px 1px 2px rgba(0, 0, 0, 0.3));\n",
              "      fill: #FFFFFF;\n",
              "    }\n",
              "  </style>\n",
              "\n",
              "      <script>\n",
              "        const buttonEl =\n",
              "          document.querySelector('#df-a6cc3cbe-6d18-485e-95fc-df9bc56a6b8b button.colab-df-convert');\n",
              "        buttonEl.style.display =\n",
              "          google.colab.kernel.accessAllowed ? 'block' : 'none';\n",
              "\n",
              "        async function convertToInteractive(key) {\n",
              "          const element = document.querySelector('#df-a6cc3cbe-6d18-485e-95fc-df9bc56a6b8b');\n",
              "          const dataTable =\n",
              "            await google.colab.kernel.invokeFunction('convertToInteractive',\n",
              "                                                     [key], {});\n",
              "          if (!dataTable) return;\n",
              "\n",
              "          const docLinkHtml = 'Like what you see? Visit the ' +\n",
              "            '<a target=\"_blank\" href=https://colab.research.google.com/notebooks/data_table.ipynb>data table notebook</a>'\n",
              "            + ' to learn more about interactive tables.';\n",
              "          element.innerHTML = '';\n",
              "          dataTable['output_type'] = 'display_data';\n",
              "          await google.colab.output.renderOutput(dataTable, element);\n",
              "          const docLink = document.createElement('div');\n",
              "          docLink.innerHTML = docLinkHtml;\n",
              "          element.appendChild(docLink);\n",
              "        }\n",
              "      </script>\n",
              "    </div>\n",
              "  </div>\n",
              "  "
            ]
          },
          "metadata": {},
          "execution_count": 68
        },
        {
          "output_type": "display_data",
          "data": {
            "text/plain": [
              "<Figure size 720x1440 with 3 Axes>"
            ],
            "image/png": "[encoded data removed]"
          },
          "metadata": {
            "needs_background": "light"
          }
        }
      ]
    },
    {
      "cell_type": "markdown",
      "source": [
        "## Number of essays\n",
        "\n",
        "Findings: The number of unique essays are relatively low, incomparison with the total data size."
      ],
      "metadata": {
        "id": "V96sxywxu20S"
      }
    },
    {
      "cell_type": "code",
      "source": [
        "df.groupby(['essay_id']).nunique().shape"
      ],
      "metadata": {
        "id": "ADxUMFC3bkTa",
        "outputId": "c1c07599-8622-4143-8e1d-82fb101fa33a",
        "execution": {
          "iopub.status.busy": "2022-08-03T07:52:28.057268Z",
          "iopub.execute_input": "2022-08-03T07:52:28.057657Z",
          "iopub.status.idle": "2022-08-03T07:52:28.079249Z",
          "shell.execute_reply.started": "2022-08-03T07:52:28.057627Z",
          "shell.execute_reply": "2022-08-03T07:52:28.078148Z"
        },
        "trusted": true,
        "colab": {
          "base_uri": "https://localhost:8080/"
        }
      },
      "execution_count": null,
      "outputs": [
        {
          "output_type": "execute_result",
          "data": {
            "text/plain": [
              "(4191, 9)"
            ]
          },
          "metadata": {},
          "execution_count": 69
        }
      ]
    },
    {
      "cell_type": "markdown",
      "source": [
        "## Read an example of the essay, together with the type and effectiveness"
      ],
      "metadata": {
        "id": "UGZRzoyegQ0Y"
      }
    },
    {
      "cell_type": "code",
      "source": [
        "def get_text(ids):\n",
        "    with open(f'../input/feedback-prize-effectiveness/train/{ids}.txt', 'r') as file: data = file.read()\n",
        "    return data\n",
        "\n",
        "def display_sample(essay_id):\n",
        "#     text = get_text(essay_id)\n",
        "#     text = resolve_encodings_and_normalize(text)\n",
        "    # ex = []\n",
        "    char_pos = 0\n",
        "    ex = [{\"text\": '',\"ents\": [],'title':''}]\n",
        "    ex2 = [{\"text\": '',\"ents\": []}]\n",
        "    text = ''\n",
        "    for idx in range(df.loc[df['essay_id']=='331CA007D0AD'].shape[0]):\n",
        "        \n",
        "        discourse_text = df[(df.essay_id == essay_id)]['discourse_text'].values[idx]\n",
        "        discourse_text = resolve_encodings_and_normalize(discourse_text)\n",
        "        begin = char_pos\n",
        "        end = begin + len(discourse_text)\n",
        "        # begin = char_pos\n",
        "        # end = begin + len(discourse_text)\n",
        "        discoursetype = df[(df.essay_id == essay_id)]['discourse_type'].values[idx]\n",
        "        label = df[(df.essay_id == essay_id)]['discourse_effectiveness'].values[idx]\n",
        "\n",
        "        # ex = [{\"text\": text[begin:end],\"ents\": [{\"start\": begin, \"end\": end, \"label\": label}]}]\n",
        "\n",
        "        ex[0]['ents'].append({\"start\":begin,\n",
        "                  \"end\":end,\n",
        "                  \"label\":label + ' - ' + discoursetype})\n",
        "        ex[0]['title'] = f\"Essay ID: {essay_id}\"\n",
        "\n",
        "        # ex = [{\"text\": text,\"ents\": [{\"start\": begin, \"end\": end, \"label\": label},{\"start\": begin1, \"end\": end1, \"label\": label1}]}]\n",
        "            #  \"title\": f\"Essay ID: {essay_id}\"}]\n",
        "        char_pos = end\n",
        "        text += discourse_text\n",
        "    ex[0]['text']=text\n",
        "    ex2[0]['text']=text\n",
        "    displacy.render(ex, style=\"ent\", manual=True,jupyter=True,options={\"distance\":100})\n",
        "    # print()\n",
        "    # displacy.render(ex2, style=\"ent\", manual=True,jupyter=True,options={\"distance\":100})\n",
        "    return ex\n",
        "\n",
        "ex = display_sample(\"331CA007D0AD\")"
      ],
      "metadata": {
        "id": "T434EPa-N_ga",
        "outputId": "83bcf403-4254-497a-d264-032d84f2cc35",
        "execution": {
          "iopub.status.busy": "2022-08-03T07:52:29.294792Z",
          "iopub.execute_input": "2022-08-03T07:52:29.295123Z",
          "iopub.status.idle": "2022-08-03T07:52:29.398503Z",
          "shell.execute_reply.started": "2022-08-03T07:52:29.295094Z",
          "shell.execute_reply": "2022-08-03T07:52:29.397451Z"
        },
        "trusted": true,
        "colab": {
          "base_uri": "https://localhost:8080/",
          "height": 323
        }
      },
      "execution_count": null,
      "outputs": [
        {
          "output_type": "display_data",
          "data": {
            "text/plain": [
              "<IPython.core.display.HTML object>"
            ],
            "text/html": [
              "<span class=\"tex2jax_ignore\"><h2 style=\"margin: 0\">Essay ID: 331CA007D0AD</h2>\n",
              "\n",
              "<div class=\"entities\" style=\"line-height: 2.5; direction: ltr\">\n",
              "<mark class=\"entity\" style=\"background: #ddd; padding: 0.45em 0.6em; margin: 0 0.25em; line-height: 1; border-radius: 0.35em;\">\n",
              "    When people ask for advice, they sometimes talk to more than one person. \n",
              "    <span style=\"font-size: 0.8em; font-weight: bold; line-height: 1; border-radius: 0.35em; vertical-align: middle; margin-left: 0.5rem\">Adequate - Lead</span>\n",
              "</mark>\n",
              "\n",
              "<mark class=\"entity\" style=\"background: #ddd; padding: 0.45em 0.6em; margin: 0 0.25em; line-height: 1; border-radius: 0.35em;\">\n",
              "    Seeking multiple opinions can help someone make a better choice. Because if someone ask for advice to multiple people thats good. \n",
              "    <span style=\"font-size: 0.8em; font-weight: bold; line-height: 1; border-radius: 0.35em; vertical-align: middle; margin-left: 0.5rem\">Adequate - Position</span>\n",
              "</mark>\n",
              "\n",
              "<mark class=\"entity\" style=\"background: #ddd; padding: 0.45em 0.6em; margin: 0 0.25em; line-height: 1; border-radius: 0.35em;\">\n",
              "    Because one person might have better advice than some other person they asked if they asked multiple people for advice \n",
              "    <span style=\"font-size: 0.8em; font-weight: bold; line-height: 1; border-radius: 0.35em; vertical-align: middle; margin-left: 0.5rem\">Effective - Claim</span>\n",
              "</mark>\n",
              "\n",
              "<mark class=\"entity\" style=\"background: #ddd; padding: 0.45em 0.6em; margin: 0 0.25em; line-height: 1; border-radius: 0.35em;\">\n",
              "    . Also you can ask for advice when you need help or you don't know how to do something \n",
              "    <span style=\"font-size: 0.8em; font-weight: bold; line-height: 1; border-radius: 0.35em; vertical-align: middle; margin-left: 0.5rem\">Adequate - Evidence</span>\n",
              "</mark>\n",
              "\n",
              "<mark class=\"entity\" style=\"background: #ddd; padding: 0.45em 0.6em; margin: 0 0.25em; line-height: 1; border-radius: 0.35em;\">\n",
              "    Also asking muliple people for advice can help people make a better choice becauce other people might have diffrent advice or diffrent expereances with thething the person is asking them. \n",
              "    <span style=\"font-size: 0.8em; font-weight: bold; line-height: 1; border-radius: 0.35em; vertical-align: middle; margin-left: 0.5rem\">Effective - Claim</span>\n",
              "</mark>\n",
              "\n",
              "<mark class=\"entity\" style=\"background: #ddd; padding: 0.45em 0.6em; margin: 0 0.25em; line-height: 1; border-radius: 0.35em;\">\n",
              "    Thats one reason why asking more than one person can help people make a better choice \n",
              "    <span style=\"font-size: 0.8em; font-weight: bold; line-height: 1; border-radius: 0.35em; vertical-align: middle; margin-left: 0.5rem\">Ineffective - Evidence</span>\n",
              "</mark>\n",
              "\n",
              "<mark class=\"entity\" style=\"background: #ddd; padding: 0.45em 0.6em; margin: 0 0.25em; line-height: 1; border-radius: 0.35em;\">\n",
              "    Another reason why asking multiple people for advice is good is that some people might give you more advice then others. \n",
              "    <span style=\"font-size: 0.8em; font-weight: bold; line-height: 1; border-radius: 0.35em; vertical-align: middle; margin-left: 0.5rem\">Adequate - Claim</span>\n",
              "</mark>\n",
              "\n",
              "<mark class=\"entity\" style=\"background: #ddd; padding: 0.45em 0.6em; margin: 0 0.25em; line-height: 1; border-radius: 0.35em;\">\n",
              "    A reason someone might not ask for advice might not want to get advice beacuse they might think it will make them look weak for asking for advice. A second reason someone might not ask for advice might be beacuse their nervous to ask. A third reason might be because they might won't have that much people they can ask for advice. \n",
              "    <span style=\"font-size: 0.8em; font-weight: bold; line-height: 1; border-radius: 0.35em; vertical-align: middle; margin-left: 0.5rem\">Adequate - Counterclaim</span>\n",
              "</mark>\n",
              "\n",
              "<mark class=\"entity\" style=\"background: #ddd; padding: 0.45em 0.6em; margin: 0 0.25em; line-height: 1; border-radius: 0.35em;\">\n",
              "    When poeple ask for advice they might sometimes ask multiple people for advice. Thats good beacuse one person might have more advice then someone alse. Also someone might have better advice then the first person you asked or the second person you asked. Also asking more then one person for advice is good because some ither persons might have diffrent expereances with the thing your asking for. \n",
              "    <span style=\"font-size: 0.8em; font-weight: bold; line-height: 1; border-radius: 0.35em; vertical-align: middle; margin-left: 0.5rem\">Adequate - Concluding Statement</span>\n",
              "</mark>\n",
              "</div></span>"
            ]
          },
          "metadata": {}
        }
      ]
    },
    {
      "cell_type": "code",
      "source": [
        ""
      ],
      "metadata": {
        "id": "W6WYAq2Pb52q"
      },
      "execution_count": null,
      "outputs": []
    }
  ]
}