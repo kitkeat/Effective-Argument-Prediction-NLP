{
  "cells": [
    {
      "cell_type": "markdown",
      "metadata": {
        "id": "view-in-github",
        "colab_type": "text"
      },
      "source": [
        "<a href=\"https://colab.research.google.com/github/kitkeat/Effective-Argument-Prediction-NLP/blob/main/2-modelling-evaluation.ipynb\" target=\"_parent\"><img src=\"https://colab.research.google.com/assets/colab-badge.svg\" alt=\"Open In Colab\"/></a>"
      ]
    },
    {
      "cell_type": "code",
      "execution_count": 2,
      "id": "846e8047",
      "metadata": {
        "_cell_guid": "b1076dfc-b9ad-4769-8c92-a6c4dae69d19",
        "_uuid": "8f2839f25d086af736a60e9eeb907d3b93b6e0e5",
        "execution": {
          "iopub.execute_input": "2022-08-03T04:10:20.338430Z",
          "iopub.status.busy": "2022-08-03T04:10:20.337968Z",
          "iopub.status.idle": "2022-08-03T04:10:20.344031Z",
          "shell.execute_reply": "2022-08-03T04:10:20.343146Z"
        },
        "id": "846e8047",
        "outputId": "95737c7e-f0e3-49ec-fc28-459f758c0c3c",
        "papermill": {
          "duration": 0.025493,
          "end_time": "2022-08-03T04:10:20.346442",
          "exception": false,
          "start_time": "2022-08-03T04:10:20.320949",
          "status": "completed"
        },
        "tags": [],
        "colab": {
          "base_uri": "https://localhost:8080/"
        }
      },
      "outputs": [
        {
          "output_type": "stream",
          "name": "stdout",
          "text": [
            "Looking in indexes: https://pypi.org/simple, https://us-python.pkg.dev/colab-wheels/public/simple/\n",
            "Collecting datasets==2.1.0\n",
            "  Downloading datasets-2.1.0-py3-none-any.whl (325 kB)\n",
            "\u001b[K     |████████████████████████████████| 325 kB 5.2 MB/s \n",
            "\u001b[?25hRequirement already satisfied: pyarrow>=5.0.0 in /usr/local/lib/python3.7/dist-packages (from datasets==2.1.0) (6.0.1)\n",
            "Collecting multiprocess\n",
            "  Downloading multiprocess-0.70.13-py37-none-any.whl (115 kB)\n",
            "\u001b[K     |████████████████████████████████| 115 kB 43.5 MB/s \n",
            "\u001b[?25hRequirement already satisfied: dill in /usr/local/lib/python3.7/dist-packages (from datasets==2.1.0) (0.3.5.1)\n",
            "Requirement already satisfied: tqdm>=4.62.1 in /usr/local/lib/python3.7/dist-packages (from datasets==2.1.0) (4.64.0)\n",
            "Requirement already satisfied: pandas in /usr/local/lib/python3.7/dist-packages (from datasets==2.1.0) (1.3.5)\n",
            "Requirement already satisfied: numpy>=1.17 in /usr/local/lib/python3.7/dist-packages (from datasets==2.1.0) (1.21.6)\n",
            "Collecting fsspec[http]>=2021.05.0\n",
            "  Downloading fsspec-2022.7.1-py3-none-any.whl (141 kB)\n",
            "\u001b[K     |████████████████████████████████| 141 kB 34.3 MB/s \n",
            "\u001b[?25hCollecting huggingface-hub<1.0.0,>=0.1.0\n",
            "  Downloading huggingface_hub-0.8.1-py3-none-any.whl (101 kB)\n",
            "\u001b[K     |████████████████████████████████| 101 kB 8.9 MB/s \n",
            "\u001b[?25hRequirement already satisfied: packaging in /usr/local/lib/python3.7/dist-packages (from datasets==2.1.0) (21.3)\n",
            "Requirement already satisfied: requests>=2.19.0 in /usr/local/lib/python3.7/dist-packages (from datasets==2.1.0) (2.23.0)\n",
            "Collecting xxhash\n",
            "  Downloading xxhash-3.0.0-cp37-cp37m-manylinux_2_17_x86_64.manylinux2014_x86_64.whl (212 kB)\n",
            "\u001b[K     |████████████████████████████████| 212 kB 30.8 MB/s \n",
            "\u001b[?25hRequirement already satisfied: aiohttp in /usr/local/lib/python3.7/dist-packages (from datasets==2.1.0) (3.8.1)\n",
            "Collecting responses<0.19\n",
            "  Downloading responses-0.18.0-py3-none-any.whl (38 kB)\n",
            "Requirement already satisfied: importlib-metadata in /usr/local/lib/python3.7/dist-packages (from datasets==2.1.0) (4.12.0)\n",
            "Collecting pyyaml>=5.1\n",
            "  Downloading PyYAML-6.0-cp37-cp37m-manylinux_2_5_x86_64.manylinux1_x86_64.manylinux_2_12_x86_64.manylinux2010_x86_64.whl (596 kB)\n",
            "\u001b[K     |████████████████████████████████| 596 kB 32.2 MB/s \n",
            "\u001b[?25hRequirement already satisfied: typing-extensions>=3.7.4.3 in /usr/local/lib/python3.7/dist-packages (from huggingface-hub<1.0.0,>=0.1.0->datasets==2.1.0) (4.1.1)\n",
            "Requirement already satisfied: filelock in /usr/local/lib/python3.7/dist-packages (from huggingface-hub<1.0.0,>=0.1.0->datasets==2.1.0) (3.7.1)\n",
            "Requirement already satisfied: pyparsing!=3.0.5,>=2.0.2 in /usr/local/lib/python3.7/dist-packages (from packaging->datasets==2.1.0) (3.0.9)\n",
            "Requirement already satisfied: chardet<4,>=3.0.2 in /usr/local/lib/python3.7/dist-packages (from requests>=2.19.0->datasets==2.1.0) (3.0.4)\n",
            "Requirement already satisfied: idna<3,>=2.5 in /usr/local/lib/python3.7/dist-packages (from requests>=2.19.0->datasets==2.1.0) (2.10)\n",
            "Requirement already satisfied: urllib3!=1.25.0,!=1.25.1,<1.26,>=1.21.1 in /usr/local/lib/python3.7/dist-packages (from requests>=2.19.0->datasets==2.1.0) (1.24.3)\n",
            "Requirement already satisfied: certifi>=2017.4.17 in /usr/local/lib/python3.7/dist-packages (from requests>=2.19.0->datasets==2.1.0) (2022.6.15)\n",
            "Collecting urllib3!=1.25.0,!=1.25.1,<1.26,>=1.21.1\n",
            "  Downloading urllib3-1.25.11-py2.py3-none-any.whl (127 kB)\n",
            "\u001b[K     |████████████████████████████████| 127 kB 55.7 MB/s \n",
            "\u001b[?25hRequirement already satisfied: async-timeout<5.0,>=4.0.0a3 in /usr/local/lib/python3.7/dist-packages (from aiohttp->datasets==2.1.0) (4.0.2)\n",
            "Requirement already satisfied: aiosignal>=1.1.2 in /usr/local/lib/python3.7/dist-packages (from aiohttp->datasets==2.1.0) (1.2.0)\n",
            "Requirement already satisfied: charset-normalizer<3.0,>=2.0 in /usr/local/lib/python3.7/dist-packages (from aiohttp->datasets==2.1.0) (2.1.0)\n",
            "Requirement already satisfied: attrs>=17.3.0 in /usr/local/lib/python3.7/dist-packages (from aiohttp->datasets==2.1.0) (22.1.0)\n",
            "Requirement already satisfied: yarl<2.0,>=1.0 in /usr/local/lib/python3.7/dist-packages (from aiohttp->datasets==2.1.0) (1.7.2)\n",
            "Requirement already satisfied: asynctest==0.13.0 in /usr/local/lib/python3.7/dist-packages (from aiohttp->datasets==2.1.0) (0.13.0)\n",
            "Requirement already satisfied: frozenlist>=1.1.1 in /usr/local/lib/python3.7/dist-packages (from aiohttp->datasets==2.1.0) (1.3.0)\n",
            "Requirement already satisfied: multidict<7.0,>=4.5 in /usr/local/lib/python3.7/dist-packages (from aiohttp->datasets==2.1.0) (6.0.2)\n",
            "Requirement already satisfied: zipp>=0.5 in /usr/local/lib/python3.7/dist-packages (from importlib-metadata->datasets==2.1.0) (3.8.1)\n",
            "Requirement already satisfied: pytz>=2017.3 in /usr/local/lib/python3.7/dist-packages (from pandas->datasets==2.1.0) (2022.1)\n",
            "Requirement already satisfied: python-dateutil>=2.7.3 in /usr/local/lib/python3.7/dist-packages (from pandas->datasets==2.1.0) (2.8.2)\n",
            "Requirement already satisfied: six>=1.5 in /usr/local/lib/python3.7/dist-packages (from python-dateutil>=2.7.3->pandas->datasets==2.1.0) (1.15.0)\n",
            "Installing collected packages: urllib3, pyyaml, fsspec, xxhash, responses, multiprocess, huggingface-hub, datasets\n",
            "  Attempting uninstall: urllib3\n",
            "    Found existing installation: urllib3 1.24.3\n",
            "    Uninstalling urllib3-1.24.3:\n",
            "      Successfully uninstalled urllib3-1.24.3\n",
            "  Attempting uninstall: pyyaml\n",
            "    Found existing installation: PyYAML 3.13\n",
            "    Uninstalling PyYAML-3.13:\n",
            "      Successfully uninstalled PyYAML-3.13\n",
            "Successfully installed datasets-2.1.0 fsspec-2022.7.1 huggingface-hub-0.8.1 multiprocess-0.70.13 pyyaml-6.0 responses-0.18.0 urllib3-1.25.11 xxhash-3.0.0\n",
            "Looking in indexes: https://pypi.org/simple, https://us-python.pkg.dev/colab-wheels/public/simple/\n",
            "Collecting transformers==4.18.0\n",
            "  Downloading transformers-4.18.0-py3-none-any.whl (4.0 MB)\n",
            "\u001b[K     |████████████████████████████████| 4.0 MB 5.2 MB/s \n",
            "\u001b[?25hRequirement already satisfied: pyyaml>=5.1 in /usr/local/lib/python3.7/dist-packages (from transformers==4.18.0) (6.0)\n",
            "Requirement already satisfied: requests in /usr/local/lib/python3.7/dist-packages (from transformers==4.18.0) (2.23.0)\n",
            "Requirement already satisfied: regex!=2019.12.17 in /usr/local/lib/python3.7/dist-packages (from transformers==4.18.0) (2022.6.2)\n",
            "Collecting tokenizers!=0.11.3,<0.13,>=0.11.1\n",
            "  Downloading tokenizers-0.12.1-cp37-cp37m-manylinux_2_12_x86_64.manylinux2010_x86_64.whl (6.6 MB)\n",
            "\u001b[K     |████████████████████████████████| 6.6 MB 8.5 MB/s \n",
            "\u001b[?25hCollecting sacremoses\n",
            "  Downloading sacremoses-0.0.53.tar.gz (880 kB)\n",
            "\u001b[K     |████████████████████████████████| 880 kB 31.9 MB/s \n",
            "\u001b[?25hRequirement already satisfied: importlib-metadata in /usr/local/lib/python3.7/dist-packages (from transformers==4.18.0) (4.12.0)\n",
            "Requirement already satisfied: packaging>=20.0 in /usr/local/lib/python3.7/dist-packages (from transformers==4.18.0) (21.3)\n",
            "Requirement already satisfied: filelock in /usr/local/lib/python3.7/dist-packages (from transformers==4.18.0) (3.7.1)\n",
            "Requirement already satisfied: tqdm>=4.27 in /usr/local/lib/python3.7/dist-packages (from transformers==4.18.0) (4.64.0)\n",
            "Requirement already satisfied: numpy>=1.17 in /usr/local/lib/python3.7/dist-packages (from transformers==4.18.0) (1.21.6)\n",
            "Requirement already satisfied: huggingface-hub<1.0,>=0.1.0 in /usr/local/lib/python3.7/dist-packages (from transformers==4.18.0) (0.8.1)\n",
            "Requirement already satisfied: typing-extensions>=3.7.4.3 in /usr/local/lib/python3.7/dist-packages (from huggingface-hub<1.0,>=0.1.0->transformers==4.18.0) (4.1.1)\n",
            "Requirement already satisfied: pyparsing!=3.0.5,>=2.0.2 in /usr/local/lib/python3.7/dist-packages (from packaging>=20.0->transformers==4.18.0) (3.0.9)\n",
            "Requirement already satisfied: zipp>=0.5 in /usr/local/lib/python3.7/dist-packages (from importlib-metadata->transformers==4.18.0) (3.8.1)\n",
            "Requirement already satisfied: idna<3,>=2.5 in /usr/local/lib/python3.7/dist-packages (from requests->transformers==4.18.0) (2.10)\n",
            "Requirement already satisfied: chardet<4,>=3.0.2 in /usr/local/lib/python3.7/dist-packages (from requests->transformers==4.18.0) (3.0.4)\n",
            "Requirement already satisfied: certifi>=2017.4.17 in /usr/local/lib/python3.7/dist-packages (from requests->transformers==4.18.0) (2022.6.15)\n",
            "Requirement already satisfied: urllib3!=1.25.0,!=1.25.1,<1.26,>=1.21.1 in /usr/local/lib/python3.7/dist-packages (from requests->transformers==4.18.0) (1.25.11)\n",
            "Requirement already satisfied: six in /usr/local/lib/python3.7/dist-packages (from sacremoses->transformers==4.18.0) (1.15.0)\n",
            "Requirement already satisfied: click in /usr/local/lib/python3.7/dist-packages (from sacremoses->transformers==4.18.0) (7.1.2)\n",
            "Requirement already satisfied: joblib in /usr/local/lib/python3.7/dist-packages (from sacremoses->transformers==4.18.0) (1.1.0)\n",
            "Building wheels for collected packages: sacremoses\n",
            "  Building wheel for sacremoses (setup.py) ... \u001b[?25l\u001b[?25hdone\n",
            "  Created wheel for sacremoses: filename=sacremoses-0.0.53-py3-none-any.whl size=895260 sha256=00b5dc730e2d3d5bc0156e163f8f546eea8998c525230ab3bb288441ad55029e\n",
            "  Stored in directory: /root/.cache/pip/wheels/87/39/dd/a83eeef36d0bf98e7a4d1933a4ad2d660295a40613079bafc9\n",
            "Successfully built sacremoses\n",
            "Installing collected packages: tokenizers, sacremoses, transformers\n",
            "Successfully installed sacremoses-0.0.53 tokenizers-0.12.1 transformers-4.18.0\n",
            "Looking in indexes: https://pypi.org/simple, https://us-python.pkg.dev/colab-wheels/public/simple/\n",
            "Collecting sentencepiece==0.1.96\n",
            "  Downloading sentencepiece-0.1.96-cp37-cp37m-manylinux_2_17_x86_64.manylinux2014_x86_64.whl (1.2 MB)\n",
            "\u001b[K     |████████████████████████████████| 1.2 MB 5.1 MB/s \n",
            "\u001b[?25hInstalling collected packages: sentencepiece\n",
            "Successfully installed sentencepiece-0.1.96\n",
            "Looking in indexes: https://pypi.org/simple, https://us-python.pkg.dev/colab-wheels/public/simple/\n",
            "Collecting pytorch-lightning==1.6.5\n",
            "  Downloading pytorch_lightning-1.6.5-py3-none-any.whl (585 kB)\n",
            "\u001b[K     |████████████████████████████████| 585 kB 5.0 MB/s \n",
            "\u001b[?25hRequirement already satisfied: packaging>=17.0 in /usr/local/lib/python3.7/dist-packages (from pytorch-lightning==1.6.5) (21.3)\n",
            "Requirement already satisfied: fsspec[http]!=2021.06.0,>=2021.05.0 in /usr/local/lib/python3.7/dist-packages (from pytorch-lightning==1.6.5) (2022.7.1)\n",
            "Requirement already satisfied: numpy>=1.17.2 in /usr/local/lib/python3.7/dist-packages (from pytorch-lightning==1.6.5) (1.21.6)\n",
            "Requirement already satisfied: tqdm>=4.57.0 in /usr/local/lib/python3.7/dist-packages (from pytorch-lightning==1.6.5) (4.64.0)\n",
            "Requirement already satisfied: PyYAML>=5.4 in /usr/local/lib/python3.7/dist-packages (from pytorch-lightning==1.6.5) (6.0)\n",
            "Requirement already satisfied: torch>=1.8.* in /usr/local/lib/python3.7/dist-packages (from pytorch-lightning==1.6.5) (1.12.0+cu113)\n",
            "Requirement already satisfied: tensorboard>=2.2.0 in /usr/local/lib/python3.7/dist-packages (from pytorch-lightning==1.6.5) (2.8.0)\n",
            "Requirement already satisfied: typing-extensions>=4.0.0 in /usr/local/lib/python3.7/dist-packages (from pytorch-lightning==1.6.5) (4.1.1)\n",
            "Requirement already satisfied: protobuf<=3.20.1 in /usr/local/lib/python3.7/dist-packages (from pytorch-lightning==1.6.5) (3.17.3)\n",
            "Collecting torchmetrics>=0.4.1\n",
            "  Downloading torchmetrics-0.9.3-py3-none-any.whl (419 kB)\n",
            "\u001b[K     |████████████████████████████████| 419 kB 55.6 MB/s \n",
            "\u001b[?25hCollecting pyDeprecate>=0.3.1\n",
            "  Downloading pyDeprecate-0.3.2-py3-none-any.whl (10 kB)\n",
            "Requirement already satisfied: requests in /usr/local/lib/python3.7/dist-packages (from fsspec[http]!=2021.06.0,>=2021.05.0->pytorch-lightning==1.6.5) (2.23.0)\n",
            "Requirement already satisfied: aiohttp in /usr/local/lib/python3.7/dist-packages (from fsspec[http]!=2021.06.0,>=2021.05.0->pytorch-lightning==1.6.5) (3.8.1)\n",
            "Requirement already satisfied: pyparsing!=3.0.5,>=2.0.2 in /usr/local/lib/python3.7/dist-packages (from packaging>=17.0->pytorch-lightning==1.6.5) (3.0.9)\n",
            "Requirement already satisfied: six>=1.9 in /usr/local/lib/python3.7/dist-packages (from protobuf<=3.20.1->pytorch-lightning==1.6.5) (1.15.0)\n",
            "Requirement already satisfied: grpcio>=1.24.3 in /usr/local/lib/python3.7/dist-packages (from tensorboard>=2.2.0->pytorch-lightning==1.6.5) (1.47.0)\n",
            "Requirement already satisfied: setuptools>=41.0.0 in /usr/local/lib/python3.7/dist-packages (from tensorboard>=2.2.0->pytorch-lightning==1.6.5) (57.4.0)\n",
            "Requirement already satisfied: markdown>=2.6.8 in /usr/local/lib/python3.7/dist-packages (from tensorboard>=2.2.0->pytorch-lightning==1.6.5) (3.4.1)\n",
            "Requirement already satisfied: absl-py>=0.4 in /usr/local/lib/python3.7/dist-packages (from tensorboard>=2.2.0->pytorch-lightning==1.6.5) (1.2.0)\n",
            "Requirement already satisfied: tensorboard-data-server<0.7.0,>=0.6.0 in /usr/local/lib/python3.7/dist-packages (from tensorboard>=2.2.0->pytorch-lightning==1.6.5) (0.6.1)\n",
            "Requirement already satisfied: wheel>=0.26 in /usr/local/lib/python3.7/dist-packages (from tensorboard>=2.2.0->pytorch-lightning==1.6.5) (0.37.1)\n",
            "Requirement already satisfied: google-auth-oauthlib<0.5,>=0.4.1 in /usr/local/lib/python3.7/dist-packages (from tensorboard>=2.2.0->pytorch-lightning==1.6.5) (0.4.6)\n",
            "Requirement already satisfied: google-auth<3,>=1.6.3 in /usr/local/lib/python3.7/dist-packages (from tensorboard>=2.2.0->pytorch-lightning==1.6.5) (1.35.0)\n",
            "Requirement already satisfied: tensorboard-plugin-wit>=1.6.0 in /usr/local/lib/python3.7/dist-packages (from tensorboard>=2.2.0->pytorch-lightning==1.6.5) (1.8.1)\n",
            "Requirement already satisfied: werkzeug>=0.11.15 in /usr/local/lib/python3.7/dist-packages (from tensorboard>=2.2.0->pytorch-lightning==1.6.5) (1.0.1)\n",
            "Requirement already satisfied: pyasn1-modules>=0.2.1 in /usr/local/lib/python3.7/dist-packages (from google-auth<3,>=1.6.3->tensorboard>=2.2.0->pytorch-lightning==1.6.5) (0.2.8)\n",
            "Requirement already satisfied: rsa<5,>=3.1.4 in /usr/local/lib/python3.7/dist-packages (from google-auth<3,>=1.6.3->tensorboard>=2.2.0->pytorch-lightning==1.6.5) (4.9)\n",
            "Requirement already satisfied: cachetools<5.0,>=2.0.0 in /usr/local/lib/python3.7/dist-packages (from google-auth<3,>=1.6.3->tensorboard>=2.2.0->pytorch-lightning==1.6.5) (4.2.4)\n",
            "Requirement already satisfied: requests-oauthlib>=0.7.0 in /usr/local/lib/python3.7/dist-packages (from google-auth-oauthlib<0.5,>=0.4.1->tensorboard>=2.2.0->pytorch-lightning==1.6.5) (1.3.1)\n",
            "Requirement already satisfied: importlib-metadata>=4.4 in /usr/local/lib/python3.7/dist-packages (from markdown>=2.6.8->tensorboard>=2.2.0->pytorch-lightning==1.6.5) (4.12.0)\n",
            "Requirement already satisfied: zipp>=0.5 in /usr/local/lib/python3.7/dist-packages (from importlib-metadata>=4.4->markdown>=2.6.8->tensorboard>=2.2.0->pytorch-lightning==1.6.5) (3.8.1)\n",
            "Requirement already satisfied: pyasn1<0.5.0,>=0.4.6 in /usr/local/lib/python3.7/dist-packages (from pyasn1-modules>=0.2.1->google-auth<3,>=1.6.3->tensorboard>=2.2.0->pytorch-lightning==1.6.5) (0.4.8)\n",
            "Requirement already satisfied: urllib3!=1.25.0,!=1.25.1,<1.26,>=1.21.1 in /usr/local/lib/python3.7/dist-packages (from requests->fsspec[http]!=2021.06.0,>=2021.05.0->pytorch-lightning==1.6.5) (1.25.11)\n",
            "Requirement already satisfied: certifi>=2017.4.17 in /usr/local/lib/python3.7/dist-packages (from requests->fsspec[http]!=2021.06.0,>=2021.05.0->pytorch-lightning==1.6.5) (2022.6.15)\n",
            "Requirement already satisfied: idna<3,>=2.5 in /usr/local/lib/python3.7/dist-packages (from requests->fsspec[http]!=2021.06.0,>=2021.05.0->pytorch-lightning==1.6.5) (2.10)\n",
            "Requirement already satisfied: chardet<4,>=3.0.2 in /usr/local/lib/python3.7/dist-packages (from requests->fsspec[http]!=2021.06.0,>=2021.05.0->pytorch-lightning==1.6.5) (3.0.4)\n",
            "Requirement already satisfied: oauthlib>=3.0.0 in /usr/local/lib/python3.7/dist-packages (from requests-oauthlib>=0.7.0->google-auth-oauthlib<0.5,>=0.4.1->tensorboard>=2.2.0->pytorch-lightning==1.6.5) (3.2.0)\n",
            "Requirement already satisfied: attrs>=17.3.0 in /usr/local/lib/python3.7/dist-packages (from aiohttp->fsspec[http]!=2021.06.0,>=2021.05.0->pytorch-lightning==1.6.5) (22.1.0)\n",
            "Requirement already satisfied: frozenlist>=1.1.1 in /usr/local/lib/python3.7/dist-packages (from aiohttp->fsspec[http]!=2021.06.0,>=2021.05.0->pytorch-lightning==1.6.5) (1.3.0)\n",
            "Requirement already satisfied: charset-normalizer<3.0,>=2.0 in /usr/local/lib/python3.7/dist-packages (from aiohttp->fsspec[http]!=2021.06.0,>=2021.05.0->pytorch-lightning==1.6.5) (2.1.0)\n",
            "Requirement already satisfied: asynctest==0.13.0 in /usr/local/lib/python3.7/dist-packages (from aiohttp->fsspec[http]!=2021.06.0,>=2021.05.0->pytorch-lightning==1.6.5) (0.13.0)\n",
            "Requirement already satisfied: yarl<2.0,>=1.0 in /usr/local/lib/python3.7/dist-packages (from aiohttp->fsspec[http]!=2021.06.0,>=2021.05.0->pytorch-lightning==1.6.5) (1.7.2)\n",
            "Requirement already satisfied: multidict<7.0,>=4.5 in /usr/local/lib/python3.7/dist-packages (from aiohttp->fsspec[http]!=2021.06.0,>=2021.05.0->pytorch-lightning==1.6.5) (6.0.2)\n",
            "Requirement already satisfied: async-timeout<5.0,>=4.0.0a3 in /usr/local/lib/python3.7/dist-packages (from aiohttp->fsspec[http]!=2021.06.0,>=2021.05.0->pytorch-lightning==1.6.5) (4.0.2)\n",
            "Requirement already satisfied: aiosignal>=1.1.2 in /usr/local/lib/python3.7/dist-packages (from aiohttp->fsspec[http]!=2021.06.0,>=2021.05.0->pytorch-lightning==1.6.5) (1.2.0)\n",
            "Installing collected packages: torchmetrics, pyDeprecate, pytorch-lightning\n",
            "Successfully installed pyDeprecate-0.3.2 pytorch-lightning-1.6.5 torchmetrics-0.9.3\n",
            "Looking in indexes: https://pypi.org/simple, https://us-python.pkg.dev/colab-wheels/public/simple/\n",
            "Collecting torchmetrics==0.9.2\n",
            "  Downloading torchmetrics-0.9.2-py3-none-any.whl (419 kB)\n",
            "\u001b[K     |████████████████████████████████| 419 kB 5.0 MB/s \n",
            "\u001b[?25hRequirement already satisfied: packaging in /usr/local/lib/python3.7/dist-packages (from torchmetrics==0.9.2) (21.3)\n",
            "Requirement already satisfied: numpy>=1.17.2 in /usr/local/lib/python3.7/dist-packages (from torchmetrics==0.9.2) (1.21.6)\n",
            "Requirement already satisfied: torch>=1.3.1 in /usr/local/lib/python3.7/dist-packages (from torchmetrics==0.9.2) (1.12.0+cu113)\n",
            "Requirement already satisfied: typing-extensions in /usr/local/lib/python3.7/dist-packages (from torchmetrics==0.9.2) (4.1.1)\n",
            "Requirement already satisfied: pyparsing!=3.0.5,>=2.0.2 in /usr/local/lib/python3.7/dist-packages (from packaging->torchmetrics==0.9.2) (3.0.9)\n",
            "Installing collected packages: torchmetrics\n",
            "  Attempting uninstall: torchmetrics\n",
            "    Found existing installation: torchmetrics 0.9.3\n",
            "    Uninstalling torchmetrics-0.9.3:\n",
            "      Successfully uninstalled torchmetrics-0.9.3\n",
            "Successfully installed torchmetrics-0.9.2\n",
            "Looking in indexes: https://pypi.org/simple, https://us-python.pkg.dev/colab-wheels/public/simple/\n",
            "Collecting wandb==0.12.21\n",
            "  Downloading wandb-0.12.21-py2.py3-none-any.whl (1.8 MB)\n",
            "\u001b[K     |████████████████████████████████| 1.8 MB 5.2 MB/s \n",
            "\u001b[?25hRequirement already satisfied: Click!=8.0.0,>=7.0 in /usr/local/lib/python3.7/dist-packages (from wandb==0.12.21) (7.1.2)\n",
            "Requirement already satisfied: setuptools in /usr/local/lib/python3.7/dist-packages (from wandb==0.12.21) (57.4.0)\n",
            "Collecting shortuuid>=0.5.0\n",
            "  Downloading shortuuid-1.0.9-py3-none-any.whl (9.4 kB)\n",
            "Requirement already satisfied: requests<3,>=2.0.0 in /usr/local/lib/python3.7/dist-packages (from wandb==0.12.21) (2.23.0)\n",
            "Collecting docker-pycreds>=0.4.0\n",
            "  Downloading docker_pycreds-0.4.0-py2.py3-none-any.whl (9.0 kB)\n",
            "Collecting sentry-sdk>=1.0.0\n",
            "  Downloading sentry_sdk-1.9.0-py2.py3-none-any.whl (156 kB)\n",
            "\u001b[K     |████████████████████████████████| 156 kB 50.4 MB/s \n",
            "\u001b[?25hRequirement already satisfied: protobuf<4.0dev,>=3.12.0 in /usr/local/lib/python3.7/dist-packages (from wandb==0.12.21) (3.17.3)\n",
            "Requirement already satisfied: psutil>=5.0.0 in /usr/local/lib/python3.7/dist-packages (from wandb==0.12.21) (5.4.8)\n",
            "Requirement already satisfied: promise<3,>=2.0 in /usr/local/lib/python3.7/dist-packages (from wandb==0.12.21) (2.3)\n",
            "Collecting setproctitle\n",
            "  Downloading setproctitle-1.3.0-cp37-cp37m-manylinux_2_5_x86_64.manylinux1_x86_64.manylinux_2_17_x86_64.manylinux2014_x86_64.whl (30 kB)\n",
            "Requirement already satisfied: six>=1.13.0 in /usr/local/lib/python3.7/dist-packages (from wandb==0.12.21) (1.15.0)\n",
            "Requirement already satisfied: PyYAML in /usr/local/lib/python3.7/dist-packages (from wandb==0.12.21) (6.0)\n",
            "Collecting GitPython>=1.0.0\n",
            "  Downloading GitPython-3.1.27-py3-none-any.whl (181 kB)\n",
            "\u001b[K     |████████████████████████████████| 181 kB 45.5 MB/s \n",
            "\u001b[?25hCollecting pathtools\n",
            "  Downloading pathtools-0.1.2.tar.gz (11 kB)\n",
            "Collecting gitdb<5,>=4.0.1\n",
            "  Downloading gitdb-4.0.9-py3-none-any.whl (63 kB)\n",
            "\u001b[K     |████████████████████████████████| 63 kB 1.2 MB/s \n",
            "\u001b[?25hRequirement already satisfied: typing-extensions>=3.7.4.3 in /usr/local/lib/python3.7/dist-packages (from GitPython>=1.0.0->wandb==0.12.21) (4.1.1)\n",
            "Collecting smmap<6,>=3.0.1\n",
            "  Downloading smmap-5.0.0-py3-none-any.whl (24 kB)\n",
            "Requirement already satisfied: idna<3,>=2.5 in /usr/local/lib/python3.7/dist-packages (from requests<3,>=2.0.0->wandb==0.12.21) (2.10)\n",
            "Requirement already satisfied: certifi>=2017.4.17 in /usr/local/lib/python3.7/dist-packages (from requests<3,>=2.0.0->wandb==0.12.21) (2022.6.15)\n",
            "Requirement already satisfied: urllib3!=1.25.0,!=1.25.1,<1.26,>=1.21.1 in /usr/local/lib/python3.7/dist-packages (from requests<3,>=2.0.0->wandb==0.12.21) (1.25.11)\n",
            "Requirement already satisfied: chardet<4,>=3.0.2 in /usr/local/lib/python3.7/dist-packages (from requests<3,>=2.0.0->wandb==0.12.21) (3.0.4)\n",
            "Building wheels for collected packages: pathtools\n",
            "  Building wheel for pathtools (setup.py) ... \u001b[?25l\u001b[?25hdone\n",
            "  Created wheel for pathtools: filename=pathtools-0.1.2-py3-none-any.whl size=8806 sha256=c2f4e81480b225784e679be3dd8f106689f57ae0b6b8ca937285851cbf4912e9\n",
            "  Stored in directory: /root/.cache/pip/wheels/3e/31/09/fa59cef12cdcfecc627b3d24273699f390e71828921b2cbba2\n",
            "Successfully built pathtools\n",
            "Installing collected packages: smmap, gitdb, shortuuid, setproctitle, sentry-sdk, pathtools, GitPython, docker-pycreds, wandb\n",
            "Successfully installed GitPython-3.1.27 docker-pycreds-0.4.0 gitdb-4.0.9 pathtools-0.1.2 sentry-sdk-1.9.0 setproctitle-1.3.0 shortuuid-1.0.9 smmap-5.0.0 wandb-0.12.21\n"
          ]
        }
      ],
      "source": [
        "# # ! pip install accelerate nvidia-ml-py3\n",
        "! pip install datasets==2.1.0\n",
        "! pip install transformers==4.18.0\n",
        "! pip install sentencepiece==0.1.96\n",
        "! pip install pytorch-lightning==1.6.5\n",
        "! pip install torchmetrics==0.9.2\n",
        "! pip install wandb==0.12.21"
      ]
    },
    {
      "cell_type": "code",
      "execution_count": null,
      "id": "67e5d040",
      "metadata": {
        "execution": {
          "iopub.execute_input": "2022-08-03T04:10:20.377496Z",
          "iopub.status.busy": "2022-08-03T04:10:20.376894Z",
          "iopub.status.idle": "2022-08-03T04:10:22.252350Z",
          "shell.execute_reply": "2022-08-03T04:10:22.251341Z"
        },
        "id": "67e5d040",
        "papermill": {
          "duration": 1.894221,
          "end_time": "2022-08-03T04:10:22.254831",
          "exception": false,
          "start_time": "2022-08-03T04:10:20.360610",
          "status": "completed"
        },
        "tags": []
      },
      "outputs": [],
      "source": [
        "# import os\n",
        "# for dirname, _, filenames in os.walk('/kaggle/input'):\n",
        "#     for filename in filenames:\n",
        "#         os.path.join(dirname, filename)\n",
        "# os.environ[\"TOKENIZERS_PARALLELISM\"] = \"false\"\n",
        "# run_type = os.environ.get('KAGGLE_KERNEL_RUN_TYPE', '')"
      ]
    },
    {
      "cell_type": "code",
      "source": [
        "from google.colab import drive\n",
        "drive.mount('/content/drive')"
      ],
      "metadata": {
        "id": "MRxrgzmPg4wE",
        "outputId": "9910844d-d5e2-41cf-91f2-88fcddc2299e",
        "colab": {
          "base_uri": "https://localhost:8080/"
        }
      },
      "id": "MRxrgzmPg4wE",
      "execution_count": 1,
      "outputs": [
        {
          "output_type": "stream",
          "name": "stdout",
          "text": [
            "Mounted at /content/drive\n"
          ]
        }
      ]
    },
    {
      "cell_type": "code",
      "execution_count": 3,
      "id": "d2d2abc7",
      "metadata": {
        "execution": {
          "iopub.execute_input": "2022-08-03T04:10:22.285149Z",
          "iopub.status.busy": "2022-08-03T04:10:22.283686Z",
          "iopub.status.idle": "2022-08-03T04:10:36.841733Z",
          "shell.execute_reply": "2022-08-03T04:10:36.840726Z"
        },
        "id": "d2d2abc7",
        "papermill": {
          "duration": 14.575056,
          "end_time": "2022-08-03T04:10:36.844191",
          "exception": false,
          "start_time": "2022-08-03T04:10:22.269135",
          "status": "completed"
        },
        "tags": []
      },
      "outputs": [],
      "source": [
        "import pandas as pd\n",
        "pd.set_option(\"max_colwidth\", None)\n",
        "\n",
        "import numpy as np\n",
        "import matplotlib.pyplot as plt\n",
        "import seaborn as sns\n",
        "from nltk.tokenize import sent_tokenize\n",
        "from sklearn.model_selection import train_test_split\n",
        "import nltk\n",
        "import re\n",
        "import unicodedata\n",
        "\n",
        "\n",
        "from transformers import AutoTokenizer, DataCollatorWithPadding, AdamW, get_cosine_schedule_with_warmup\n",
        "from datasets import Dataset, Value, ClassLabel, Features, load_metric\n",
        "from transformers import TrainingArguments, Trainer\n",
        "\n",
        "from transformers import AutoModel, AutoModelForSequenceClassification\n",
        "import math\n",
        "\n",
        "from transformers import EarlyStoppingCallback\n",
        "import torch\n",
        "from torch import nn\n",
        "from torch.utils.checkpoint import checkpoint # need to call when using gradient_checkpointing\n",
        "from sklearn.metrics import log_loss, confusion_matrix\n",
        "from sklearn.preprocessing import OneHotEncoder, LabelEncoder\n",
        "from sklearn.utils import class_weight\n",
        "\n",
        "from scipy.special import softmax\n",
        "\n",
        "import pytorch_lightning as pl\n",
        "from pytorch_lightning import seed_everything\n",
        "from pytorch_lightning.callbacks import EarlyStopping\n",
        "from pytorch_lightning.callbacks import TQDMProgressBar\n",
        "from torchmetrics.functional import accuracy,f1_score\n",
        "from torch.utils.data import DataLoader\n",
        "import torch.nn.functional as F\n",
        "\n",
        "import spacy\n",
        "from spacy import displacy\n",
        "\n",
        "import wandb"
      ]
    },
    {
      "cell_type": "code",
      "execution_count": 4,
      "id": "f1a46199",
      "metadata": {
        "execution": {
          "iopub.execute_input": "2022-08-03T04:10:36.873248Z",
          "iopub.status.busy": "2022-08-03T04:10:36.872679Z",
          "iopub.status.idle": "2022-08-03T04:10:36.877608Z",
          "shell.execute_reply": "2022-08-03T04:10:36.876625Z"
        },
        "papermill": {
          "duration": 0.021512,
          "end_time": "2022-08-03T04:10:36.879595",
          "exception": false,
          "start_time": "2022-08-03T04:10:36.858083",
          "status": "completed"
        },
        "tags": [],
        "id": "f1a46199"
      },
      "outputs": [],
      "source": [
        "# # Check f1 score calculation\n",
        "# logits =  torch.tensor([[ 0.0484,  0.2124,  1.6748],\n",
        "#         [-1.0684,  0.5767,  1.0479],\n",
        "#         [ 0.0242,  2.3594, -0.2014],\n",
        "#         [ 1.2988, -1.6455,  0.5952],\n",
        "#         [-3.3828,  0.1713,  1.2539],\n",
        "#         [-1.3945,  1.7637,  0.8101],\n",
        "#         [ 0.2216,  0.3716,  1.0322],\n",
        "#         [-0.7559,  2.1699,  2.5234],\n",
        "#         [-3.0879,  0.6777, -0.9976],\n",
        "#         [ 1.4883, -1.2881,  0.4221],\n",
        "#         [ 0.4805,  0.1526, -0.6147],\n",
        "#         [ 0.7354,  1.1416, -0.3162],\n",
        "#         [-0.9248,  1.0898,  0.0663],\n",
        "#         [-1.2725, -0.4832, -2.3008],\n",
        "#         [ 0.2917,  1.3350,  0.0900],\n",
        "#         [ 4.8086, -1.4307,  0.8926]])\n",
        "\n",
        "# logits.shape\n",
        "# label = torch.tensor([0, 0, 2, 1, 0, 1, 0, 0, 2, 2, 0, 0, 0, 1, 0, 0])\n",
        "# # label.shape\n",
        "# # logits.argmax(dim=1)\n",
        "# # f1 = f1_score(logits.softmax(dim=1),label,num_classes=3,multiclass=True,average='weighted')\n",
        "# # f1 = f1_score(logits,label)\n",
        "# # f1"
      ]
    },
    {
      "cell_type": "code",
      "execution_count": 5,
      "id": "a5aa0a80",
      "metadata": {
        "execution": {
          "iopub.execute_input": "2022-08-03T04:10:36.907922Z",
          "iopub.status.busy": "2022-08-03T04:10:36.907222Z",
          "iopub.status.idle": "2022-08-03T04:10:36.911869Z",
          "shell.execute_reply": "2022-08-03T04:10:36.911025Z"
        },
        "papermill": {
          "duration": 0.020722,
          "end_time": "2022-08-03T04:10:36.913906",
          "exception": false,
          "start_time": "2022-08-03T04:10:36.893184",
          "status": "completed"
        },
        "tags": [],
        "id": "a5aa0a80"
      },
      "outputs": [],
      "source": [
        "# np.unique(label.tolist())"
      ]
    },
    {
      "cell_type": "code",
      "execution_count": 6,
      "id": "a69640f4",
      "metadata": {
        "execution": {
          "iopub.execute_input": "2022-08-03T04:10:36.942698Z",
          "iopub.status.busy": "2022-08-03T04:10:36.941929Z",
          "iopub.status.idle": "2022-08-03T04:10:36.946050Z",
          "shell.execute_reply": "2022-08-03T04:10:36.945115Z"
        },
        "papermill": {
          "duration": 0.020373,
          "end_time": "2022-08-03T04:10:36.947993",
          "exception": false,
          "start_time": "2022-08-03T04:10:36.927620",
          "status": "completed"
        },
        "tags": [],
        "id": "a69640f4"
      },
      "outputs": [],
      "source": [
        "# np.unique(label)"
      ]
    },
    {
      "cell_type": "code",
      "execution_count": 7,
      "id": "edc43f62",
      "metadata": {
        "execution": {
          "iopub.execute_input": "2022-08-03T04:10:36.976813Z",
          "iopub.status.busy": "2022-08-03T04:10:36.975443Z",
          "iopub.status.idle": "2022-08-03T04:10:36.979754Z",
          "shell.execute_reply": "2022-08-03T04:10:36.978925Z"
        },
        "papermill": {
          "duration": 0.020595,
          "end_time": "2022-08-03T04:10:36.981698",
          "exception": false,
          "start_time": "2022-08-03T04:10:36.961103",
          "status": "completed"
        },
        "tags": [],
        "id": "edc43f62"
      },
      "outputs": [],
      "source": [
        "# class_weights=class_weight.compute_class_weight(class_weight='balanced',classes=np.unique(label.tolist()),y=label.tolist())\n",
        "# class_weights=torch.tensor(class_weights,dtype=torch.float)\n",
        "# loss_func = nn.CrossEntropyLoss(weight=class_weights,reduction='mean')\n",
        "# loss = loss_func(logits,label)"
      ]
    },
    {
      "cell_type": "code",
      "execution_count": 8,
      "id": "c09f8a84",
      "metadata": {
        "execution": {
          "iopub.execute_input": "2022-08-03T04:10:37.010282Z",
          "iopub.status.busy": "2022-08-03T04:10:37.009656Z",
          "iopub.status.idle": "2022-08-03T04:10:37.013583Z",
          "shell.execute_reply": "2022-08-03T04:10:37.012575Z"
        },
        "papermill": {
          "duration": 0.020455,
          "end_time": "2022-08-03T04:10:37.015490",
          "exception": false,
          "start_time": "2022-08-03T04:10:36.995035",
          "status": "completed"
        },
        "tags": [],
        "id": "c09f8a84"
      },
      "outputs": [],
      "source": [
        "# loss"
      ]
    },
    {
      "cell_type": "code",
      "execution_count": 9,
      "id": "61d89226",
      "metadata": {
        "execution": {
          "iopub.execute_input": "2022-08-03T04:10:37.043740Z",
          "iopub.status.busy": "2022-08-03T04:10:37.043166Z",
          "iopub.status.idle": "2022-08-03T04:10:37.048139Z",
          "shell.execute_reply": "2022-08-03T04:10:37.047323Z"
        },
        "papermill": {
          "duration": 0.021131,
          "end_time": "2022-08-03T04:10:37.049961",
          "exception": false,
          "start_time": "2022-08-03T04:10:37.028830",
          "status": "completed"
        },
        "tags": [],
        "id": "61d89226"
      },
      "outputs": [],
      "source": [
        "# logits.softmax(dim=1)"
      ]
    },
    {
      "cell_type": "code",
      "execution_count": null,
      "id": "4ce2c111",
      "metadata": {
        "execution": {
          "iopub.execute_input": "2022-08-03T04:10:37.077746Z",
          "iopub.status.busy": "2022-08-03T04:10:37.077489Z",
          "iopub.status.idle": "2022-08-03T04:10:37.086090Z",
          "shell.execute_reply": "2022-08-03T04:10:37.085197Z"
        },
        "id": "4ce2c111",
        "outputId": "86cd26ba-4ac8-4c32-f58b-88b078c2dc08",
        "papermill": {
          "duration": 0.025539,
          "end_time": "2022-08-03T04:10:37.088922",
          "exception": false,
          "start_time": "2022-08-03T04:10:37.063383",
          "status": "completed"
        },
        "tags": []
      },
      "outputs": [
        {
          "name": "stdout",
          "output_type": "stream",
          "text": [
            "cuda:0\n"
          ]
        }
      ],
      "source": [
        "device = \"cuda:0\" if torch.cuda.is_available() else \"cpu\"\n",
        "print(device)"
      ]
    },
    {
      "cell_type": "code",
      "execution_count": null,
      "id": "9e33894f",
      "metadata": {
        "execution": {
          "iopub.execute_input": "2022-08-03T04:10:37.118194Z",
          "iopub.status.busy": "2022-08-03T04:10:37.117450Z",
          "iopub.status.idle": "2022-08-03T04:10:57.158029Z",
          "shell.execute_reply": "2022-08-03T04:10:57.156415Z"
        },
        "id": "9e33894f",
        "outputId": "2efe6a97-3598-4bc5-abca-3a54b3b8c2de",
        "papermill": {
          "duration": 20.057784,
          "end_time": "2022-08-03T04:10:57.161130",
          "exception": false,
          "start_time": "2022-08-03T04:10:37.103346",
          "status": "completed"
        },
        "tags": []
      },
      "outputs": [
        {
          "name": "stdout",
          "output_type": "stream",
          "text": [
            "wandb failed to login...\n"
          ]
        }
      ],
      "source": [
        "from kaggle_secrets import UserSecretsClient\n",
        "try:\n",
        "    user_secrets = UserSecretsClient()\n",
        "    secret_value = user_secrets.get_secret(\"wand_api\")\n",
        "    !wandb login {secret_value}\n",
        "except:\n",
        "    print(\"wandb failed to login...\")\n",
        "    \n"
      ]
    },
    {
      "cell_type": "markdown",
      "id": "f5de53cd",
      "metadata": {
        "papermill": {
          "duration": 0.013352,
          "end_time": "2022-08-03T04:10:57.189509",
          "exception": false,
          "start_time": "2022-08-03T04:10:57.176157",
          "status": "completed"
        },
        "tags": [],
        "id": "f5de53cd"
      },
      "source": [
        "# Configuration"
      ]
    },
    {
      "cell_type": "code",
      "execution_count": 10,
      "id": "037ab383",
      "metadata": {
        "execution": {
          "iopub.execute_input": "2022-08-03T04:10:57.217894Z",
          "iopub.status.busy": "2022-08-03T04:10:57.217597Z",
          "iopub.status.idle": "2022-08-03T04:10:57.594837Z",
          "shell.execute_reply": "2022-08-03T04:10:57.593886Z"
        },
        "papermill": {
          "duration": 0.394411,
          "end_time": "2022-08-03T04:10:57.597316",
          "exception": false,
          "start_time": "2022-08-03T04:10:57.202905",
          "status": "completed"
        },
        "tags": [],
        "id": "037ab383",
        "outputId": "9113d7cf-1e07-443a-a272-9c4158e81620",
        "colab": {
          "base_uri": "https://localhost:8080/"
        }
      },
      "outputs": [
        {
          "output_type": "stream",
          "name": "stderr",
          "text": [
            "INFO:pytorch_lightning.utilities.seed:Global seed set to 91\n"
          ]
        },
        {
          "output_type": "execute_result",
          "data": {
            "text/plain": [
              "91"
            ]
          },
          "metadata": {},
          "execution_count": 10
        }
      ],
      "source": [
        "\n",
        "attributes = [\"Adequate\" ,\"Effective\",\"Ineffective\"]\n",
        "\n",
        "\n",
        "# data_path = pd.read_csv('/kaggle/input/feedback-prize-effectiveness/train.csv')\n",
        "# test_path = pd.read_csv('/kaggle/input/feedback-prize-effectiveness/test.csv')\n",
        "data_path = pd.read_csv('/content/drive/MyDrive/Colab Notebooks/Data/train.csv')\n",
        "\n",
        "\n",
        "deberta_config={'name':'deberta',\n",
        "                'model_name': '../input/deberta-v3-base/deberta-v3-base',\n",
        "                'PATH' : '../input/debertav3basefinetuned3172022/deberta_E3Size16Lr3e-05Warm0.01Weight0.01Freeze2Drop0.1Text0.pth',\n",
        "                'n_labels': 3,\n",
        "                'batch_size': 16,\n",
        "                'lr': 3e-5,\n",
        "                'warmup': 0.01, \n",
        "                'weight_decay': 0.01,\n",
        "                'n_epochs': 4,\n",
        "                'n_freeze' : 2,#9,\n",
        "                'p_dropout':0.65,\n",
        "                'text_method': 2\n",
        "                }\n",
        "\n",
        "distilbert_config={'name': 'distilbert',\n",
        "                'model_name': '../input/transformers-pretrained-distilbert/distilbert-base-uncased-distilled-squad',\n",
        "                'PATH' : '../input/distilberttuned/distilbert-frozenembedding2transformlayer-5epoch-lr6e5-drop02.pth',\n",
        "                'n_labels': 3,\n",
        "                'batch_size': 64,\n",
        "                'lr': 8e-4,#6e-5,\n",
        "                'warmup': 0.2, \n",
        "                'weight_decay': 0.001,\n",
        "                'n_epochs': 5,#4,\n",
        "                'n_freeze' : 3,\n",
        "                'p_dropout':0.6,#0.2,#0.6,\n",
        "                'text_method': 1\n",
        "                }\n",
        "\n",
        "bertofa_config={'name':'bertofa',\n",
        "                'model_name': '../input/bertlargeuncasedsparse90unstructuredpruned/bert-large-uncased-sparse-90-unstructured-pruneofa',\n",
        "                'PATH' : '../input/bert-ofa-pretuned3072022/Bert_OFA_E3Size64Lr0.0001Warm02Weight1e-06Freeze21Drop001_full.pth',\n",
        "                'n_labels': 3,\n",
        "                'batch_size': 64,\n",
        "                'lr': 1e-4,\n",
        "                'warmup': 0.2, \n",
        "                'weight_decay': 1e-6,\n",
        "                'n_epochs': 3,\n",
        "                'n_freeze' : 21,\n",
        "                'p_dropout':0.1,\n",
        "                'text_method': 2\n",
        "                }\n",
        "\n",
        "distilroberta_config={'name':'distilroberta',\n",
        "                'model_name': '../input/distilrobertabase/distilroberta-base',\n",
        "                'PATH' : '../input/distilrobertafinetuned3072022/epoch7-step1840.pth',\n",
        "                'n_labels': 3,\n",
        "                'batch_size': 128,\n",
        "                'lr': 6e-5,\n",
        "                'warmup': 0.2, \n",
        "                'weight_decay': 0.001,\n",
        "                'n_epochs': 10,\n",
        "                'n_freeze' : 5,\n",
        "                'p_dropout':0,\n",
        "                'text_method': 2\n",
        "                }\n",
        "\n",
        "seed_everything(91, workers=True)"
      ]
    },
    {
      "cell_type": "markdown",
      "id": "19fb0eb2",
      "metadata": {
        "papermill": {
          "duration": 0.013589,
          "end_time": "2022-08-03T04:10:57.625005",
          "exception": false,
          "start_time": "2022-08-03T04:10:57.611416",
          "status": "completed"
        },
        "tags": [],
        "id": "19fb0eb2"
      },
      "source": [
        "# Utility"
      ]
    },
    {
      "cell_type": "code",
      "execution_count": null,
      "id": "db50a6c6",
      "metadata": {
        "execution": {
          "iopub.execute_input": "2022-08-03T04:10:57.653697Z",
          "iopub.status.busy": "2022-08-03T04:10:57.653410Z",
          "iopub.status.idle": "2022-08-03T04:10:57.662169Z",
          "shell.execute_reply": "2022-08-03T04:10:57.661254Z"
        },
        "papermill": {
          "duration": 0.025553,
          "end_time": "2022-08-03T04:10:57.664205",
          "exception": false,
          "start_time": "2022-08-03T04:10:57.638652",
          "status": "completed"
        },
        "tags": [],
        "id": "db50a6c6"
      },
      "outputs": [],
      "source": [
        "def get_essay(essay_id, is_train=True):\n",
        "    INPUT_DIR = '../input/feedback-prize-effectiveness/'\n",
        "    parent_path = INPUT_DIR + 'train' if is_train else INPUT_DIR + 'test'\n",
        "    \n",
        "    try:\n",
        "        essay_path = os.path.join(parent_path, f\"{essay_id}.txt\")\n",
        "        essay_text = open(essay_path, 'r').read()\n",
        "    except:\n",
        "        parent_path = INPUT_DIR + 'train'\n",
        "        essay_path = os.path.join(parent_path, f\"{essay_id}.txt\")\n",
        "        essay_text = open(essay_path, 'r').read()        \n",
        "    return essay_text\n",
        "\n",
        "def freeze(module):\n",
        "    \"\"\"\n",
        "    Freezes module's parameters.\n",
        "    \"\"\"\n",
        "    \n",
        "    for parameter in module.parameters():\n",
        "        parameter.requires_grad = False\n",
        "        \n",
        "def get_freezed_parameters(module):\n",
        "    \"\"\"\n",
        "    Returns names of freezed parameters of the given module.\n",
        "    \"\"\"\n",
        "    \n",
        "    freezed_parameters = []\n",
        "    for name, parameter in module.named_parameters():\n",
        "        if not parameter.requires_grad:\n",
        "            freezed_parameters.append(name)\n",
        "            \n",
        "    return freezed_parameters\n",
        "\n",
        "\n",
        "# from text_unidecode import unidecode\n",
        "# from typing import Dict, List, Tuple\n",
        "# import codecs\n",
        "\n",
        "# def replace_encoding_with_utf8(error: UnicodeError) -> Tuple[bytes, int]:\n",
        "#     return error.object[error.start : error.end].encode(\"utf-8\"), error.end\n",
        "\n",
        "\n",
        "# def replace_decoding_with_cp1252(error: UnicodeError) -> Tuple[str, int]:\n",
        "#     return error.object[error.start : error.end].decode(\"cp1252\"), error.end\n",
        "\n",
        "# # Register the encoding and decoding error handlers for `utf-8` and `cp1252`.\n",
        "# codecs.register_error(\"replace_encoding_with_utf8\", replace_encoding_with_utf8)\n",
        "# codecs.register_error(\"replace_decoding_with_cp1252\", replace_decoding_with_cp1252)\n",
        "\n",
        "# def resolve_encodings_and_normalize(text: str) -> str:\n",
        "#     \"\"\"Resolve the encoding problems and normalize the abnormal characters.\"\"\"\n",
        "#     text = (\n",
        "#         text.encode(\"raw_unicode_escape\")\n",
        "#         .decode(\"utf-8\", errors=\"replace_decoding_with_cp1252\")\n",
        "#         .encode(\"cp1252\", errors=\"replace_encoding_with_utf8\")\n",
        "#         .decode(\"utf-8\", errors=\"replace_decoding_with_cp1252\")\n",
        "#     )\n",
        "#     text = unidecode(text)\n",
        "#     return text\n",
        "\n",
        "def normalizecodec(row):\n",
        "    row = unicodedata.normalize(\"NFKD\", row)\n",
        "    row = re.sub(r'\\n',' ',row)\n",
        "    return row"
      ]
    },
    {
      "cell_type": "markdown",
      "id": "e74049e5",
      "metadata": {
        "id": "e74049e5",
        "papermill": {
          "duration": 0.013423,
          "end_time": "2022-08-03T04:10:57.691171",
          "exception": false,
          "start_time": "2022-08-03T04:10:57.677748",
          "status": "completed"
        },
        "tags": []
      },
      "source": [
        "# Dataset\n",
        "\n",
        "---"
      ]
    },
    {
      "cell_type": "code",
      "execution_count": null,
      "id": "6a0a27d1",
      "metadata": {
        "execution": {
          "iopub.execute_input": "2022-08-03T04:10:57.719934Z",
          "iopub.status.busy": "2022-08-03T04:10:57.719661Z",
          "iopub.status.idle": "2022-08-03T04:10:57.738324Z",
          "shell.execute_reply": "2022-08-03T04:10:57.737491Z"
        },
        "id": "6a0a27d1",
        "papermill": {
          "duration": 0.035622,
          "end_time": "2022-08-03T04:10:57.740397",
          "exception": false,
          "start_time": "2022-08-03T04:10:57.704775",
          "status": "completed"
        },
        "tags": []
      },
      "outputs": [],
      "source": [
        "class _Dataset(Dataset):\n",
        "    def __init__(self,data_path,test_path, tokenizer,label_encoder,attributes, max_token_len: int = 512, is_train=True,is_test=False, text_method=0):\n",
        "        self.data_path = data_path\n",
        "        self.test_path = test_path\n",
        "        self.tokenizer = tokenizer\n",
        "        self.attributes = attributes\n",
        "        self.max_token_len = max_token_len\n",
        "        self.is_train = is_train\n",
        "        self.is_test = is_test\n",
        "        self.label_encoder = label_encoder\n",
        "        self.text_method = text_method\n",
        "        self._prepare_data()\n",
        "\n",
        "    def _prepare_data(self):\n",
        "\n",
        "\n",
        "\n",
        "        SEP = self.tokenizer.sep_token # different model uses different to text as seperator (e.g. [SEP], </s>)\n",
        "        if self.is_test:\n",
        "#             df = pd.read_csv(self.test_path)\n",
        "            df = self.test_path\n",
        "            try:\n",
        "                df['essay_text']  = df['essay_id'].apply(lambda x: get_essay(x, is_train=False))\n",
        "            except:\n",
        "                print(\"Fail to get essay\")\n",
        "            df['discourse_text'] = df['discourse_text'].apply(normalizecodec)\n",
        "            df['discourse_text'] = df['discourse_text'].replace(r'\\n',' ', regex=True)\n",
        "            \n",
        "            try:\n",
        "                if self.text_method == 0:\n",
        "                    df['text'] = df['discourse_text']\n",
        "                elif self.text_method == 1:\n",
        "                    df['text'] = df['discourse_type'] + SEP + df['discourse_text']\n",
        "                elif self.text_method == 2:\n",
        "                    df['text'] = df['discourse_type'] + ' ' + df['discourse_text'] + SEP + df['essay_text'] # BERT was trained on 2 sentences\n",
        "            except:\n",
        "                df['text'] = df['discourse_text']\n",
        "                \n",
        "            try:\n",
        "                # Validation use\n",
        "                df = df.loc[:,['text','labels']]\n",
        "            except:\n",
        "                # Test use\n",
        "                df = df.loc[:,['text']]\n",
        "\n",
        "        else:\n",
        "#             df = pd.read_csv(self.data_path)\n",
        "            df = self.data_path\n",
        "            df = df.sample(5000)\n",
        "            try:\n",
        "                df['essay_text']  = df['essay_id'].apply(lambda x: get_essay(x, is_train=True))\n",
        "            except:\n",
        "                print('Fail to get essay')\n",
        "                \n",
        "            y = df['discourse_effectiveness']\n",
        "\n",
        "            train_df, val_df = train_test_split(df, test_size=0.2,stratify=y,random_state=91)\n",
        "\n",
        "            if self.is_train:\n",
        "                df = train_df.copy()\n",
        "            else:\n",
        "                df = val_df.copy()\n",
        "\n",
        "            df['discourse_text'] = df['discourse_text'].apply(normalizecodec)\n",
        "            df['discourse_text'] = df['discourse_text'].replace(r'\\n',' ', regex=True)\n",
        "            try:\n",
        "                if self.text_method == 0:\n",
        "                    df['text'] = df['discourse_text']\n",
        "                elif self.text_method == 1:\n",
        "                    df['text'] = df['discourse_type'] + SEP + df['discourse_text']\n",
        "                elif self.text_method == 2:\n",
        "                    df['text'] = df['discourse_type'] + ' ' + df['discourse_text'] + SEP + df['essay_text'] # BERT was trained on 2 sentences\n",
        "            except:\n",
        "                df['text'] = df['discourse_text']\n",
        "                \n",
        "            df = df.rename(columns={'discourse_effectiveness':'labels'})\n",
        "            df = df.loc[:,['text','labels']]\n",
        "        self.df = df\n",
        "\n",
        "    def __len__(self):\n",
        "        return len(self.df)\n",
        "\n",
        "    def __getitem__(self,index):\n",
        "        item = self.df.iloc[index]\n",
        "        text = str(item.text)\n",
        "        tokens = self.tokenizer.encode_plus(text,\n",
        "                                  add_special_tokens= True,\n",
        "                                  return_tensors='pt',\n",
        "                                  truncation=True,\n",
        "#                                   padding='max_length',\n",
        "                                  max_length=self.max_token_len,\n",
        "                                  return_attention_mask = True)\n",
        "        if self.is_test:\n",
        "            return {'input_ids':tokens.input_ids.flatten(),'attention_mask': tokens.attention_mask.flatten()}\n",
        "        else:\n",
        "            # # Convert strings to numerics, follow alphabetical order\n",
        "            attributes = item['labels'].split()\n",
        "            self.label_encoder.fit(self.attributes)\n",
        "            attributes = self.label_encoder.transform(attributes)\n",
        "            attributes = torch.as_tensor(attributes)\n",
        "            #         attributes = torch.FloatTensor(item[self.attributes])\n",
        "        return {'input_ids':tokens.input_ids.flatten(),'attention_mask': tokens.attention_mask.flatten(), 'labels':attributes}\n"
      ]
    },
    {
      "cell_type": "markdown",
      "id": "fe5c5ea9",
      "metadata": {
        "papermill": {
          "duration": 0.013412,
          "end_time": "2022-08-03T04:10:57.768035",
          "exception": false,
          "start_time": "2022-08-03T04:10:57.754623",
          "status": "completed"
        },
        "tags": [],
        "id": "fe5c5ea9"
      },
      "source": [
        "# Collate (Dynamic Padding)"
      ]
    },
    {
      "cell_type": "code",
      "execution_count": null,
      "id": "7067e7c7",
      "metadata": {
        "execution": {
          "iopub.execute_input": "2022-08-03T04:10:57.797035Z",
          "iopub.status.busy": "2022-08-03T04:10:57.796174Z",
          "iopub.status.idle": "2022-08-03T04:10:57.807289Z",
          "shell.execute_reply": "2022-08-03T04:10:57.806403Z"
        },
        "papermill": {
          "duration": 0.027762,
          "end_time": "2022-08-03T04:10:57.809290",
          "exception": false,
          "start_time": "2022-08-03T04:10:57.781528",
          "status": "completed"
        },
        "tags": [],
        "id": "7067e7c7"
      },
      "outputs": [],
      "source": [
        "class Collate:\n",
        "    def __init__(self, tokenizer, isTrain=True):\n",
        "        self.tokenizer = tokenizer\n",
        "        self.isTrain = isTrain\n",
        "        # self.args = args\n",
        "\n",
        "    def __call__(self, batch):\n",
        "        output = dict()\n",
        "        output[\"input_ids\"] = [sample[\"input_ids\"] for sample in batch]\n",
        "        output[\"attention_mask\"] = [sample[\"attention_mask\"] for sample in batch]\n",
        "        if self.isTrain:\n",
        "            output[\"labels\"] = [sample[\"labels\"] for sample in batch]\n",
        "\n",
        "        # calculate max token length of this batch\n",
        "        batch_max = max([len(ids) for ids in output[\"input_ids\"]])\n",
        "\n",
        "        # add padding\n",
        "        if self.tokenizer.padding_side == \"right\":\n",
        "            output[\"input_ids\"] = [s.tolist() + (batch_max - len(s)) * [self.tokenizer.pad_token_id] for s in output[\"input_ids\"]]\n",
        "            output[\"attention_mask\"] = [s.tolist() + (batch_max - len(s)) * [0] for s in output[\"attention_mask\"]]\n",
        "\n",
        "#             output[\"input_ids\"] = [torch.cat(s, torch.FloatTensor((batch_max - len(s)) * [0]), 0) for s in output[\"input_ids\"]]\n",
        "#             output[\"attention_mask\"] = [torch.cat(s, torch.FloatTensor((batch_max - len(s)) * [0]), 0) for s in output[\"attention_mask\"]]\n",
        "        else:\n",
        "            output[\"input_ids\"] = [torch.FloatTensor((batch_max - len(s)) * [self.tokenizer.pad_token_id].tolist()) + s.tolist() for s in output[\"input_ids\"]]\n",
        "            output[\"attention_mask\"] = [torch.FloatTensor((batch_max - len(s)) * [0]) + s.tolist() for s in output[\"attention_mask\"]]\n",
        "            \n",
        "        # convert to tensors\n",
        "        output[\"input_ids\"] = torch.tensor(output[\"input_ids\"], dtype=torch.long)\n",
        "        output[\"attention_mask\"] = torch.tensor(output[\"attention_mask\"], dtype=torch.long)\n",
        "        if self.isTrain:\n",
        "            output[\"labels\"] = torch.tensor(output[\"labels\"], dtype=torch.long)\n",
        "        return output\n",
        "\n"
      ]
    },
    {
      "cell_type": "markdown",
      "id": "e3fa5287",
      "metadata": {
        "id": "e3fa5287",
        "papermill": {
          "duration": 0.013472,
          "end_time": "2022-08-03T04:10:57.836161",
          "exception": false,
          "start_time": "2022-08-03T04:10:57.822689",
          "status": "completed"
        },
        "tags": []
      },
      "source": [
        "# Data Module\n",
        "\n",
        "---"
      ]
    },
    {
      "cell_type": "code",
      "execution_count": null,
      "id": "228815d9",
      "metadata": {
        "execution": {
          "iopub.execute_input": "2022-08-03T04:10:57.864782Z",
          "iopub.status.busy": "2022-08-03T04:10:57.864519Z",
          "iopub.status.idle": "2022-08-03T04:10:57.875932Z",
          "shell.execute_reply": "2022-08-03T04:10:57.875124Z"
        },
        "id": "228815d9",
        "papermill": {
          "duration": 0.028184,
          "end_time": "2022-08-03T04:10:57.877827",
          "exception": false,
          "start_time": "2022-08-03T04:10:57.849643",
          "status": "completed"
        },
        "tags": []
      },
      "outputs": [],
      "source": [
        "class _Data_Module(pl.LightningDataModule):\n",
        "\n",
        "    def __init__(self, data_path, test_path,attributes,label_encoder,tokenizer, model_name, batch_size: int = 8, max_token_length: int = 512,text_method=0 ):\n",
        "        super().__init__()\n",
        "        self.data_path = data_path\n",
        "        self.test_path = test_path\n",
        "        self.attributes = attributes\n",
        "        self.batch_size = batch_size\n",
        "        self.max_token_length = max_token_length\n",
        "        self.model_name = model_name\n",
        "        self.tokenizer = tokenizer #AutoTokenizer.from_pretrained(model_name)\n",
        "        self.label_encoder = label_encoder\n",
        "        self.text_method = text_method\n",
        "\n",
        "    def setup(self, stage = None):\n",
        "        if stage in (None, \"fit\"):\n",
        "            self.train_dataset = _Dataset(self.data_path, self.test_path, label_encoder = self.label_encoder,  attributes=self.attributes, is_train=True, tokenizer=self.tokenizer,text_method=self.text_method)\n",
        "            self.val_dataset = _Dataset(self.data_path, self.test_path, label_encoder = self.label_encoder, attributes=self.attributes, is_train=False,  tokenizer=self.tokenizer,text_method=self.text_method)\n",
        "        if stage == 'predict':\n",
        "            self.test_dataset = _Dataset(self.data_path, self.test_path, label_encoder = self.label_encoder, attributes=self.attributes, is_train=False,is_test=True, tokenizer=self.tokenizer,text_method=self.text_method)\n",
        "\n",
        "\n",
        "    def train_dataloader(self):\n",
        "        collate_fn = Collate(self.tokenizer, \n",
        "                             isTrain=True)\n",
        "\n",
        "        return DataLoader(self.train_dataset, \n",
        "                          batch_size = self.batch_size, \n",
        "                          num_workers=2, \n",
        "                          shuffle=True,\n",
        "                          collate_fn = collate_fn)\n",
        "\n",
        "    def val_dataloader(self):\n",
        "        collate_fn = Collate(self.tokenizer, \n",
        "                             isTrain=True)\n",
        "\n",
        "        return DataLoader(self.val_dataset, \n",
        "                          batch_size = self.batch_size, \n",
        "                          num_workers=2, \n",
        "                          shuffle=False,\n",
        "                          collate_fn = collate_fn)\n",
        "\n",
        "    def predict_dataloader(self):\n",
        "        collate_fn = Collate(self.tokenizer, \n",
        "                             isTrain=False)\n",
        "\n",
        "        return DataLoader(self.test_dataset, \n",
        "                          batch_size = self.batch_size, \n",
        "                          num_workers=2, \n",
        "                          shuffle=False,\n",
        "                          collate_fn = collate_fn)\n"
      ]
    },
    {
      "cell_type": "markdown",
      "id": "dbd44e90",
      "metadata": {
        "id": "dbd44e90",
        "papermill": {
          "duration": 0.013636,
          "end_time": "2022-08-03T04:10:57.904850",
          "exception": false,
          "start_time": "2022-08-03T04:10:57.891214",
          "status": "completed"
        },
        "tags": []
      },
      "source": [
        "# Classifier\n",
        "\n",
        "---"
      ]
    },
    {
      "cell_type": "markdown",
      "id": "68c733c0",
      "metadata": {
        "papermill": {
          "duration": 0.013792,
          "end_time": "2022-08-03T04:10:57.932097",
          "exception": false,
          "start_time": "2022-08-03T04:10:57.918305",
          "status": "completed"
        },
        "tags": [],
        "id": "68c733c0"
      },
      "source": [
        "## BertOFA Classifier"
      ]
    },
    {
      "cell_type": "code",
      "execution_count": null,
      "id": "a205e376",
      "metadata": {
        "execution": {
          "iopub.execute_input": "2022-08-03T04:10:57.961322Z",
          "iopub.status.busy": "2022-08-03T04:10:57.960688Z",
          "iopub.status.idle": "2022-08-03T04:10:57.978948Z",
          "shell.execute_reply": "2022-08-03T04:10:57.978035Z"
        },
        "id": "a205e376",
        "papermill": {
          "duration": 0.035063,
          "end_time": "2022-08-03T04:10:57.980869",
          "exception": false,
          "start_time": "2022-08-03T04:10:57.945806",
          "status": "completed"
        },
        "tags": []
      },
      "outputs": [],
      "source": [
        "class BertOFA_Text_Classifier(pl.LightningModule):\n",
        "    \n",
        "    def __init__(self, config: dict,data_module):\n",
        "        super().__init__()\n",
        "        self.config = config\n",
        "        self.data_module=data_module\n",
        "        self.pretrained_model = AutoModel.from_pretrained(config['model_name'], return_dict = False)\n",
        "        freeze((self.pretrained_model).embeddings)\n",
        "        freeze((self.pretrained_model).encoder.layer[:config['n_freeze']])\n",
        "        print(get_freezed_parameters(self.pretrained_model))\n",
        "        # Adding an additional hidden layer on top of the pretrained model\n",
        "        self.hidden = torch.nn.Linear(self.pretrained_model.config.hidden_size, self.pretrained_model.config.hidden_size)\n",
        "        \n",
        "        # Adding classifier on top of the pretrained model\n",
        "        self.classifier = torch.nn.Linear(self.pretrained_model.config.hidden_size, self.config['n_labels'])\n",
        "        \n",
        "        # Used to initialize the weight of the newly created classifier layer, not sure whether hidden layer need it or not\n",
        "        torch.nn.init.xavier_uniform_(self.classifier.weight)\n",
        "        \n",
        "        self.loss_func = nn.CrossEntropyLoss() # do not put SoftMax, just use CrossEntropyLoss\n",
        "        \n",
        "        self.dropout = nn.Dropout(config['p_dropout'])\n",
        "\n",
        "    # For inference        \n",
        "    def forward(self, input_ids, attention_mask, labels = None):\n",
        "        outputs = self.pretrained_model(input_ids = input_ids, attention_mask = attention_mask)\n",
        "#         pooled_output = torch.mean(outputs.last_hidden_state, 1) \n",
        "#         pooled_output = self.dropout(pooled_output)\n",
        "#         pooled_output = self.dropout(outputs[1])\n",
        "        pooled_output = self.hidden(outputs[1])\n",
        "        pooled_output = F.relu(pooled_output)\n",
        "        pooled_output = self.hidden(pooled_output)\n",
        "        pooled_output = F.relu(pooled_output)\n",
        "        pooled_output = self.dropout(pooled_output)\n",
        "        logits = self.classifier(pooled_output)\n",
        "\n",
        "        # calculate loss\n",
        "        loss = 0\n",
        "        if labels is not None:\n",
        "            loss = self.loss_func(logits,labels)\n",
        "        return loss, logits\n",
        "    \n",
        "    def training_step(self, batch, batch_index):\n",
        "        loss, logits = self(**batch)  # self(**batch) = model(**batch), where **batch = unpack batch\n",
        "        f1 = f1_score(logits.argmax(dim=1),batch['labels'],num_classes=3,multiclass=True)\n",
        "        f1_weighted = f1_score(logits.softmax(dim=1),batch['labels'],num_classes=3,multiclass=True,average='weighted')\n",
        "            #wandb.log({\"Training Loss\": loss.item(),'Train F1 Score':f1,'Train F1_weighted Score':f1_weighted})\n",
        "        self.log(\"f1\", f1, on_step=False,on_epoch=True, prog_bar = True, logger=True)\n",
        "        self.log(\"f1_weighted\", f1_weighted, on_step=False,on_epoch=True, prog_bar = True, logger=True)\n",
        "        self.log(\"loss \", loss,on_step=False,on_epoch = True, prog_bar = True, logger=True)\n",
        "        return {\"loss\":loss}#, \"predictions\":logits, \"labels\": batch[\"labels\"],\"progress_bar\":pbar}\n",
        "    \n",
        "    def validation_step(self, batch, batch_index):\n",
        "        loss, logits = self(**batch)\n",
        "        f1 = f1_score(logits.argmax(dim=1),batch['labels'],num_classes=3,multiclass=True)\n",
        "        f1_weighted = f1_score(logits.softmax(dim=1),batch['labels'],num_classes=3,multiclass=True,average='weighted')\n",
        "            #wandb.log({\"Validation Loss\": loss.item(),'Validation F1 Score':f1,'Validation F1_weighted Score':f1_weighted})\n",
        "        self.log(\"f1\", f1, on_step=False,on_epoch=True, prog_bar = True, logger=True)\n",
        "        self.log(\"f1_weighted\", f1_weighted, on_step=False,on_epoch=True, prog_bar = True, logger=True)\n",
        "        self.log(\"val_loss\", loss, on_step=False,on_epoch = True, prog_bar = True, logger=True)\n",
        "        return {\"val_loss\": loss}#, \"predictions\":logits, \"labels\": batch[\"labels\"]}\n",
        "\n",
        "    def predict_step(self, batch, batch_index):\n",
        "        loss, logits = self(**batch)\n",
        "        return logits\n",
        "\n",
        "    def configure_optimizers(self):\n",
        "        train_size = len(self.data_module.train_dataloader())\n",
        "        optimizer = torch.optim.AdamW(self.parameters(), lr=self.config['lr'], weight_decay=self.config['weight_decay'])\n",
        "        total_steps = train_size/self.config['batch_size']\n",
        "        warmup_steps = math.floor(total_steps * self.config['warmup'])\n",
        "        scheduler = get_cosine_schedule_with_warmup(optimizer, warmup_steps, total_steps)\n",
        "        return [optimizer],[scheduler]"
      ]
    },
    {
      "cell_type": "markdown",
      "id": "0dfb7916",
      "metadata": {
        "papermill": {
          "duration": 0.013401,
          "end_time": "2022-08-03T04:10:58.007717",
          "exception": false,
          "start_time": "2022-08-03T04:10:57.994316",
          "status": "completed"
        },
        "tags": [],
        "id": "0dfb7916"
      },
      "source": [
        "## DistilBert classifier"
      ]
    },
    {
      "cell_type": "code",
      "execution_count": null,
      "id": "a253d316",
      "metadata": {
        "execution": {
          "iopub.execute_input": "2022-08-03T04:10:58.036466Z",
          "iopub.status.busy": "2022-08-03T04:10:58.036178Z",
          "iopub.status.idle": "2022-08-03T04:10:58.056028Z",
          "shell.execute_reply": "2022-08-03T04:10:58.055157Z"
        },
        "papermill": {
          "duration": 0.036696,
          "end_time": "2022-08-03T04:10:58.058038",
          "exception": false,
          "start_time": "2022-08-03T04:10:58.021342",
          "status": "completed"
        },
        "tags": [],
        "id": "a253d316"
      },
      "outputs": [],
      "source": [
        "class DistilBert_Text_Classifier(pl.LightningModule):\n",
        "    \n",
        "    def __init__(self, config: dict,data_module):\n",
        "        super().__init__()\n",
        "        self.config = config\n",
        "        self.data_module=data_module\n",
        "        self.pretrained_model = AutoModel.from_pretrained(config['model_name'], return_dict = True)\n",
        "        freeze((self.pretrained_model).embeddings)\n",
        "        freeze((self.pretrained_model).transformer.layer[:config['n_freeze']])\n",
        "        print(get_freezed_parameters(self.pretrained_model))\n",
        "        # Adding an additional hidden layer on top of the pretrained model\n",
        "        self.hidden = torch.nn.Linear(self.pretrained_model.config.hidden_size,self.pretrained_model.config.hidden_size)\n",
        "#         self.hidden2 = torch.nn.Linear(self.pretrained_model.config.hidden_size,100)\n",
        "\n",
        "#         self.batchnorm = nn.BatchNorm1d(self.pretrained_model.config.hidden_size)\n",
        "        # Adding classifier on top of the pretrained model\n",
        "        self.classifier = torch.nn.Linear(self.pretrained_model.config.hidden_size, self.config['n_labels'])\n",
        "        \n",
        "        # Used to initialize the weight of the newly created classifier layer, not sure whether hidden layer need it or not\n",
        "        torch.nn.init.xavier_uniform_(self.classifier.weight)\n",
        "        \n",
        "        self.loss_func = nn.CrossEntropyLoss() # do not put SoftMax, just use CrossEntropyLoss\n",
        "        \n",
        "        self.dropout = nn.Dropout(config['p_dropout'])\n",
        "\n",
        "    # For inference        \n",
        "    def forward(self, input_ids, attention_mask, labels = None):\n",
        "        output = self.pretrained_model(input_ids = input_ids, attention_mask = attention_mask)\n",
        "        pooled_output = torch.mean(output.last_hidden_state, 1) \n",
        "        pooled_output = self.hidden(pooled_output)\n",
        "        pooled_output = F.relu(pooled_output)\n",
        "#         pooled_output = self.batchnorm(pooled_output)\n",
        "        pooled_output = self.dropout(pooled_output)\n",
        "        logits = self.classifier(pooled_output)\n",
        "            \n",
        "        # calculate loss\n",
        "        loss = 0\n",
        "        if labels is not None:\n",
        "            loss = self.loss_func(logits,labels)\n",
        "        return loss, logits\n",
        "    \n",
        "#     def training_step(self, batch, batch_index):\n",
        "#         logits = self(**batch)  # self(**batch) = model(**batch), where **batch = unpack batch\n",
        "# #         print(f\"batch[labels] = {batch['labels']}\")\n",
        "# #         print(f\"{type(batch['labels'])}\")\n",
        "#         class_weights=class_weight.compute_class_weight(class_weight='balanced',classes=np.unique(batch['labels'].tolist()),y=batch['labels'].tolist())\n",
        "#         class_weights=torch.tensor(class_weights,dtype=torch.float)\n",
        "#         loss_func = nn.CrossEntropyLoss(weight=class_weights,reduction='mean').to('cuda:0')\n",
        "#         loss = loss_func(logits,batch['labels']).to('cuda:0')\n",
        "        \n",
        "#         f1 = f1_score(logits.argmax(dim=1),batch['labels'],num_classes=3,multiclass=True)\n",
        "#         f1_weighted = f1_score(logits.softmax(dim=1),batch['labels'],num_classes=3,multiclass=True,average='weighted')\n",
        "#         wandb.log({\"Training Loss\": loss.item(),'Train F1 Score':f1,'Train F1_weighted Score':f1_weighted})\n",
        "#         self.log(\"f1\", f1, on_step=False,on_epoch=True, prog_bar = True, logger=True)\n",
        "#         self.log(\"f1_weighted\", f1_weighted, on_step=False,on_epoch=True, prog_bar = True, logger=True)\n",
        "#         self.log(\"loss \", loss,on_step=False,on_epoch = True, prog_bar = True, logger=True)\n",
        "#         return {\"loss\":loss}#, \"predictions\":logits, \"labels\": batch[\"labels\"],\"progress_bar\":pbar}\n",
        "    \n",
        "#     def validation_step(self, batch, batch_index):\n",
        "#         logits = self(**batch)\n",
        "# #         print(f\"batch[labels] = {batch['labels']}\")\n",
        "#         class_weights=class_weight.compute_class_weight(class_weight='balanced',classes=np.unique(batch['labels'].tolist()),y=batch['labels'].tolist())\n",
        "#         class_weights=torch.tensor(class_weights,dtype=torch.float)\n",
        "#         loss_func = nn.CrossEntropyLoss(weight=class_weights,reduction='mean').to('cuda:0')\n",
        "#         loss = loss_func(logits,batch['labels']).to('cuda:0')\n",
        "        \n",
        "        \n",
        "#         f1 = f1_score(logits.argmax(dim=1),batch['labels'],num_classes=3,multiclass=True)\n",
        "#         f1_weighted = f1_score(logits.softmax(dim=1),batch['labels'],num_classes=3,multiclass=True,average='weighted')\n",
        "#         wandb.log({\"Validation Loss\": loss.item(),'Validation F1 Score':f1,'Validation F1_weighted Score':f1_weighted})\n",
        "#         self.log(\"f1\", f1, on_step=False,on_epoch=True, prog_bar = True, logger=True)\n",
        "#         self.log(\"f1_weighted\", f1_weighted, on_step=False,on_epoch=True, prog_bar = True, logger=True)\n",
        "#         self.log(\"val_loss\", loss, on_step=False,on_epoch = True, prog_bar = True, logger=True)\n",
        "#         return {\"val_loss\": loss}#, \"predictions\":logits, \"labels\": batch[\"labels\"]}\n",
        "#     \n",
        "#     def predict_step(self, batch, batch_index):\n",
        "#         logits = self(**batch)\n",
        "#         return logits\n",
        "\n",
        "    def training_step(self, batch, batch_index):\n",
        "        loss, logits = self(**batch)  # self(**batch) = model(**batch), where **batch = unpack batch\n",
        "        f1 = f1_score(logits.argmax(dim=1),batch['labels'],num_classes=3,multiclass=True)\n",
        "        f1_weighted = f1_score(logits.softmax(dim=1),batch['labels'],num_classes=3,multiclass=True,average='weighted')\n",
        "        wandb.log({\"Training Loss\": loss.item(),'Train F1 Score':f1,'Train F1_weighted Score':f1_weighted})\n",
        "        self.log(\"f1\", f1, on_step=False,on_epoch=True, prog_bar = True, logger=True)\n",
        "        self.log(\"f1_weighted\", f1_weighted, on_step=False,on_epoch=True, prog_bar = True, logger=True)\n",
        "        self.log(\"loss \", loss,on_step=False,on_epoch = True, prog_bar = True, logger=True)\n",
        "        return {\"loss\":loss}#, \"predictions\":logits, \"labels\": batch[\"labels\"],\"progress_bar\":pbar}\n",
        "    \n",
        "    def validation_step(self, batch, batch_index):\n",
        "        loss, logits = self(**batch)\n",
        "        f1 = f1_score(logits.argmax(dim=1),batch['labels'],num_classes=3,multiclass=True)\n",
        "        f1_weighted = f1_score(logits.softmax(dim=1),batch['labels'],num_classes=3,multiclass=True,average='weighted')\n",
        "        wandb.log({\"Validation Loss\": loss.item(),'Validation F1 Score':f1,'Validation F1_weighted Score':f1_weighted})\n",
        "        self.log(\"f1\", f1, on_step=False,on_epoch=True, prog_bar = True, logger=True)\n",
        "        self.log(\"f1_weighted\", f1_weighted, on_step=False,on_epoch=True, prog_bar = True, logger=True)\n",
        "        self.log(\"val_loss\", loss, on_step=False,on_epoch = True, prog_bar = True, logger=True)\n",
        "        return {\"val_loss\": loss}#, \"predictions\":logits, \"labels\": batch[\"labels\"]}\n",
        "\n",
        "    def predict_step(self, batch, batch_index):\n",
        "        loss, logits = self(**batch)\n",
        "        return logits\n",
        "    \n",
        "    def configure_optimizers(self):\n",
        "        train_size = len(self.data_module.train_dataloader())\n",
        "        print(train_size)\n",
        "        optimizer = torch.optim.AdamW(self.parameters(), lr=self.config['lr'], weight_decay=self.config['weight_decay'])\n",
        "        total_steps = train_size/self.config['batch_size']\n",
        "        warmup_steps = math.floor(total_steps * self.config['warmup'])\n",
        "        scheduler = get_cosine_schedule_with_warmup(optimizer, warmup_steps, total_steps)\n",
        "        return [optimizer],[scheduler]"
      ]
    },
    {
      "cell_type": "markdown",
      "id": "017d7e61",
      "metadata": {
        "papermill": {
          "duration": 0.013791,
          "end_time": "2022-08-03T04:10:58.085284",
          "exception": false,
          "start_time": "2022-08-03T04:10:58.071493",
          "status": "completed"
        },
        "tags": [],
        "id": "017d7e61"
      },
      "source": [
        "## Deberta Classifier"
      ]
    },
    {
      "cell_type": "code",
      "execution_count": null,
      "id": "1c147463",
      "metadata": {
        "execution": {
          "iopub.execute_input": "2022-08-03T04:10:58.114231Z",
          "iopub.status.busy": "2022-08-03T04:10:58.113594Z",
          "iopub.status.idle": "2022-08-03T04:10:58.130992Z",
          "shell.execute_reply": "2022-08-03T04:10:58.130180Z"
        },
        "papermill": {
          "duration": 0.03398,
          "end_time": "2022-08-03T04:10:58.132994",
          "exception": false,
          "start_time": "2022-08-03T04:10:58.099014",
          "status": "completed"
        },
        "tags": [],
        "id": "1c147463"
      },
      "outputs": [],
      "source": [
        "class DeBerta_Text_Classifier(pl.LightningModule):\n",
        "    \n",
        "    def __init__(self, config: dict,data_module):\n",
        "        super().__init__()\n",
        "        self.config = config\n",
        "        self.data_module = data_module\n",
        "        self.pretrained_model = AutoModel.from_pretrained(config['model_name'], return_dict = True)\n",
        "        freeze((self.pretrained_model).embeddings)\n",
        "        freeze((self.pretrained_model).encoder.layer[:config['n_freeze']])\n",
        "        print(get_freezed_parameters(self.pretrained_model))\n",
        "\n",
        "        # Adding an additional hidden layer on top of the pretrained model\n",
        "        self.hidden = torch.nn.Linear(self.pretrained_model.config.hidden_size,self.pretrained_model.config.hidden_size)\n",
        "        \n",
        "        # Adding classifier on top of the pretrained model\n",
        "        self.classifier = torch.nn.Linear(self.pretrained_model.config.hidden_size, self.config['n_labels'])\n",
        "        \n",
        "        # Used to initialize the weight of the newly created classifier layer, not sure whether hidden layer need it or not\n",
        "        torch.nn.init.xavier_uniform_(self.classifier.weight)\n",
        "        \n",
        "        self.loss_func = nn.CrossEntropyLoss() # do not put SoftMax, just use CrossEntropyLoss\n",
        "        \n",
        "        self.dropout = nn.Dropout(config['p_dropout'])\n",
        "\n",
        "    # For inference        \n",
        "    def forward(self, input_ids, attention_mask, labels = None):\n",
        "        # deBERTa layer\n",
        "        output = self.pretrained_model(input_ids = input_ids, attention_mask = attention_mask)\n",
        "\n",
        "        ## instead of only using the first token from the output, we will take the mean of all the tokens in the outputs to learn the representation of the entire sentence\n",
        "        ## pooled_output is the output before going into the final classifier\n",
        "        pooled_output = torch.mean(output.last_hidden_state, 1) \n",
        "        \n",
        "        # final logits\n",
        "        pooled_output = self.dropout(pooled_output)\n",
        "        pooled_output = self.hidden(pooled_output)\n",
        "        pooled_output = F.relu(pooled_output)\n",
        "        pooled_output = self.dropout(pooled_output)\n",
        "        logits = self.classifier(pooled_output)\n",
        "        \n",
        "        # calculate loss\n",
        "        loss = 0\n",
        "        if labels is not None:\n",
        "            loss = self.loss_func(logits,labels)\n",
        "        return loss, logits\n",
        "    \n",
        "    def training_step(self, batch, batch_index):\n",
        "        loss, logits = self(**batch)  # self(**batch) = model(**batch), where **batch = unpack batch\n",
        "        f1 = f1_score(logits.argmax(dim=1),batch['labels'],num_classes=3,multiclass=True)\n",
        "        f1_weighted = f1_score(logits.softmax(dim=1),batch['labels'],num_classes=3,multiclass=True,average='weighted')\n",
        "            #wandb.log({\"Training Loss\": loss.item(),'Train F1 Score':f1,'Train F1_weighted Score':f1_weighted})\n",
        "        self.log(\"f1\", f1, on_step=False,on_epoch=True, prog_bar = True, logger=True)\n",
        "        self.log(\"f1_weighted\", f1_weighted, on_step=False,on_epoch=True, prog_bar = True, logger=True)\n",
        "        self.log(\"loss \", loss,on_step=False,on_epoch = True, prog_bar = True, logger=True)\n",
        "        return {\"loss\":loss}#, \"predictions\":logits, \"labels\": batch[\"labels\"],\"progress_bar\":pbar}\n",
        "    \n",
        "    def validation_step(self, batch, batch_index):\n",
        "        loss, logits = self(**batch)\n",
        "        f1 = f1_score(logits.argmax(dim=1),batch['labels'],num_classes=3,multiclass=True)\n",
        "        f1_weighted = f1_score(logits.softmax(dim=1),batch['labels'],num_classes=3,multiclass=True,average='weighted')\n",
        "            #wandb.log({\"Validation Loss\": loss.item(),'Validation F1 Score':f1,'Validation F1_weighted Score':f1_weighted})\n",
        "        self.log(\"f1\", f1, on_step=False,on_epoch=True, prog_bar = True, logger=True)\n",
        "        self.log(\"f1_weighted\", f1_weighted, on_step=False,on_epoch=True, prog_bar = True, logger=True)\n",
        "        self.log(\"val_loss\", loss, on_step=False,on_epoch = True, prog_bar = True, logger=True)\n",
        "        return {\"val_loss\": loss}#, \"predictions\":logits, \"labels\": batch[\"labels\"]}\n",
        "\n",
        "    def predict_step(self, batch, batch_index):\n",
        "        loss, logits = self(**batch)\n",
        "        return logits\n",
        "\n",
        "    def configure_optimizers(self):\n",
        "        train_size = len(self.data_module.train_dataloader())\n",
        "        optimizer = torch.optim.AdamW(self.parameters(), lr=self.config['lr'], weight_decay=self.config['weight_decay'])\n",
        "        total_steps = train_size/self.config['batch_size']\n",
        "        warmup_steps = math.floor(total_steps * self.config['warmup'])\n",
        "        scheduler = get_cosine_schedule_with_warmup(optimizer, warmup_steps, total_steps)\n",
        "        return [optimizer],[scheduler]"
      ]
    },
    {
      "cell_type": "markdown",
      "id": "79c18db7",
      "metadata": {
        "papermill": {
          "duration": 0.013374,
          "end_time": "2022-08-03T04:10:58.159889",
          "exception": false,
          "start_time": "2022-08-03T04:10:58.146515",
          "status": "completed"
        },
        "tags": [],
        "id": "79c18db7"
      },
      "source": [
        "Information\n",
        "\n",
        "logit shape =  torch.Size([16, 3])\n",
        "loss shape =  torch.Size([])\n",
        "logits =  tensor([[ 0.0484,  0.2124,  1.6748],\n",
        "        [-1.0684,  0.5767,  1.0479],\n",
        "        [ 0.0242,  2.3594, -0.2014],\n",
        "        [ 1.2988, -1.6455,  0.5952],\n",
        "        [-3.3828,  0.1713,  1.2539],\n",
        "        [-1.3945,  1.7637,  0.8101],\n",
        "        [ 0.2216,  0.3716,  1.0322],\n",
        "        [-0.7559,  2.1699,  2.5234],\n",
        "        [-3.0879,  0.6777, -0.9976],\n",
        "        [ 1.4883, -1.2881,  0.4221],\n",
        "        [ 0.4805,  0.1526, -0.6147],\n",
        "        [ 0.7354,  1.1416, -0.3162],\n",
        "        [-0.9248,  1.0898,  0.0663],\n",
        "        [-1.2725, -0.4832, -2.3008],\n",
        "        [ 0.2917,  1.3350,  0.0900],\n",
        "        [ 4.8086, -1.4307,  0.8926]], device='cuda:0', dtype=torch.float16,\n",
        "       grad_fn=<AddmmBackward0>)\n",
        "logits['labels'] = tensor([0, 0, 2, 1, 0, 1, 0, 0, 2, 2, 0, 0, 0, 1, 0, 0], device='cuda:0')"
      ]
    },
    {
      "cell_type": "markdown",
      "id": "acf2efc6",
      "metadata": {
        "papermill": {
          "duration": 0.013589,
          "end_time": "2022-08-03T04:10:58.187193",
          "exception": false,
          "start_time": "2022-08-03T04:10:58.173604",
          "status": "completed"
        },
        "tags": [],
        "id": "acf2efc6"
      },
      "source": [
        "# Distil RoBerta Classifer"
      ]
    },
    {
      "cell_type": "code",
      "execution_count": null,
      "id": "0bbadc25",
      "metadata": {
        "execution": {
          "iopub.execute_input": "2022-08-03T04:10:58.216016Z",
          "iopub.status.busy": "2022-08-03T04:10:58.215762Z",
          "iopub.status.idle": "2022-08-03T04:10:58.232585Z",
          "shell.execute_reply": "2022-08-03T04:10:58.231602Z"
        },
        "papermill": {
          "duration": 0.033827,
          "end_time": "2022-08-03T04:10:58.234966",
          "exception": false,
          "start_time": "2022-08-03T04:10:58.201139",
          "status": "completed"
        },
        "tags": [],
        "id": "0bbadc25"
      },
      "outputs": [],
      "source": [
        "class DistilRoBerta_Text_Classifier(pl.LightningModule):\n",
        "    \n",
        "    def __init__(self, config: dict,data_module):\n",
        "        super().__init__()\n",
        "        self.config = config\n",
        "        self.data_module=data_module\n",
        "        self.pretrained_model = AutoModel.from_pretrained(config['model_name'], return_dict = True)\n",
        "        freeze((self.pretrained_model).embeddings)\n",
        "        freeze((self.pretrained_model).encoder.layer[:config['n_freeze']]) # 5 layer\n",
        "        print(get_freezed_parameters(self.pretrained_model))\n",
        "        # Adding an additional hidden layer on top of the pretrained model\n",
        "        self.hidden = torch.nn.Linear(self.pretrained_model.config.hidden_size,self.pretrained_model.config.hidden_size)\n",
        "        \n",
        "        # Adding classifier on top of the pretrained model\n",
        "        self.classifier = torch.nn.Linear(self.pretrained_model.config.hidden_size, self.config['n_labels'])\n",
        "        \n",
        "        # Used to initialize the weight of the newly created classifier layer, not sure whether hidden layer need it or not\n",
        "        torch.nn.init.xavier_uniform_(self.classifier.weight)\n",
        "        \n",
        "        self.loss_func = nn.CrossEntropyLoss() # do not put SoftMax, just use CrossEntropyLoss\n",
        "        \n",
        "        self.dropout = nn.Dropout(config['p_dropout'])\n",
        "\n",
        "    # For inference        \n",
        "    def forward(self, input_ids, attention_mask, labels = None):\n",
        "        output = self.pretrained_model(input_ids = input_ids, attention_mask = attention_mask)\n",
        "        pooled_output = torch.mean(output.last_hidden_state, 1)\n",
        "        logits = self.classifier(pooled_output)        \n",
        "#         pooled_output = self.hidden(pooled_output)\n",
        "#         pooled_output = F.relu(pooled_output)\n",
        "#         pooled_output = self.dropout(pooled_output)\n",
        "        \n",
        "        # calculate loss\n",
        "        loss = 0\n",
        "        if labels is not None:\n",
        "            loss = self.loss_func(logits,labels)\n",
        "        return loss, logits\n",
        "    \n",
        "    def training_step(self, batch, batch_index):\n",
        "        loss, logits = self(**batch)  # self(**batch) = model(**batch), where **batch = unpack batch\n",
        "        f1 = f1_score(logits.argmax(dim=1),batch['labels'],num_classes=3,multiclass=True)\n",
        "        f1_weighted = f1_score(logits.softmax(dim=1),batch['labels'],num_classes=3,multiclass=True,average='weighted')\n",
        "            #wandb.log({\"Training Loss\": loss.item(),'Train F1 Score':f1,'Train F1_weighted Score':f1_weighted})\n",
        "        self.log(\"f1\", f1, on_step=False,on_epoch=True, prog_bar = True, logger=True)\n",
        "        self.log(\"f1_weighted\", f1_weighted, on_step=False,on_epoch=True, prog_bar = True, logger=True)\n",
        "        self.log(\"loss \", loss,on_step=False,on_epoch = True, prog_bar = True, logger=True)\n",
        "        return {\"loss\":loss}#, \"predictions\":logits, \"labels\": batch[\"labels\"],\"progress_bar\":pbar}\n",
        "    \n",
        "    def validation_step(self, batch, batch_index):\n",
        "        loss, logits = self(**batch)\n",
        "        f1 = f1_score(logits.argmax(dim=1),batch['labels'],num_classes=3,multiclass=True)\n",
        "        f1_weighted = f1_score(logits.softmax(dim=1),batch['labels'],num_classes=3,multiclass=True,average='weighted')\n",
        "            #wandb.log({\"Validation Loss\": loss.item(),'Validation F1 Score':f1,'Validation F1_weighted Score':f1_weighted})\n",
        "        self.log(\"f1\", f1, on_step=False,on_epoch=True, prog_bar = True, logger=True)\n",
        "        self.log(\"f1_weighted\", f1_weighted, on_step=False,on_epoch=True, prog_bar = True, logger=True)\n",
        "        self.log(\"val_loss\", loss, on_step=False,on_epoch = True, prog_bar = True, logger=True)\n",
        "        return {\"val_loss\": loss}#, \"predictions\":logits, \"labels\": batch[\"labels\"]}\n",
        "\n",
        "    def predict_step(self, batch, batch_index):\n",
        "        loss, logits = self(**batch)\n",
        "        return logits\n",
        "\n",
        "    def configure_optimizers(self):\n",
        "        train_size = len(self.data_module.train_dataloader())\n",
        "        optimizer = torch.optim.AdamW(self.parameters(), lr=self.config['lr'], weight_decay=self.config['weight_decay'])\n",
        "        total_steps = train_size/self.config['batch_size']\n",
        "        warmup_steps = math.floor(total_steps * self.config['warmup'])\n",
        "        scheduler = get_cosine_schedule_with_warmup(optimizer, warmup_steps, total_steps)\n",
        "        return [optimizer],[scheduler]"
      ]
    },
    {
      "cell_type": "markdown",
      "id": "f7679262",
      "metadata": {
        "papermill": {
          "duration": 0.013628,
          "end_time": "2022-08-03T04:10:58.262024",
          "exception": false,
          "start_time": "2022-08-03T04:10:58.248396",
          "status": "completed"
        },
        "tags": [],
        "id": "f7679262"
      },
      "source": [
        "# Training"
      ]
    },
    {
      "cell_type": "code",
      "execution_count": null,
      "id": "8c2989fc",
      "metadata": {
        "execution": {
          "iopub.execute_input": "2022-08-03T04:10:58.290285Z",
          "iopub.status.busy": "2022-08-03T04:10:58.290023Z",
          "iopub.status.idle": "2022-08-03T04:10:58.299153Z",
          "shell.execute_reply": "2022-08-03T04:10:58.298048Z"
        },
        "papermill": {
          "duration": 0.025497,
          "end_time": "2022-08-03T04:10:58.301201",
          "exception": false,
          "start_time": "2022-08-03T04:10:58.275704",
          "status": "completed"
        },
        "tags": [],
        "id": "8c2989fc"
      },
      "outputs": [],
      "source": [
        "def train(config,Text_Classifier,project,samplesize, notes,text_method=0):\n",
        "    tokenizer = AutoTokenizer.from_pretrained(config['model_name'], use_fast=True)\n",
        "    le = LabelEncoder()\n",
        "    \n",
        "    data_module = _Data_Module(data_path,\n",
        "                                    test_path,\n",
        "                                    attributes,\n",
        "                                    le,\n",
        "                                    tokenizer,\n",
        "                                    config['model_name'],\n",
        "                                    batch_size=config['batch_size'],\n",
        "                                    text_method=text_method\n",
        "                                   )\n",
        "    data_module.setup()\n",
        "    \n",
        "    # model\n",
        "    model = Text_Classifier(config,data_module)\n",
        "\n",
        "    # trainer and fit\n",
        "    trainer = pl.Trainer(max_epochs=config['n_epochs'],\n",
        "                         accelerator='auto',\n",
        "                         callbacks=[EarlyStopping(monitor=\"val_loss\", mode=\"min\",patience = 3),TQDMProgressBar(refresh_rate=30)],\n",
        "                         default_root_dir=\"./checkpoints\",\n",
        "                         precision = 16,\n",
        "                        ) # automatic mixed precision to reduce memory\n",
        "\n",
        "    # Create a W&B Run\n",
        "    run = wandb.init(name = f\"E{config['n_epochs']}Size{config['batch_size']}Lr{config['lr']}Warm{config['warmup']}Weight{config['weight_decay']}Freeze{config['n_freeze']}Drop{config['p_dropout']}Text{config['text_method']}\" + samplesize,\n",
        "                     notes = str(config) + notes,\n",
        "                     project=project)\n",
        "    trainer.fit(model, data_module)\n",
        "    \n",
        "    run.finish()\n",
        "    \n",
        "    PATH = f\"./{config['name']}_E{config['n_epochs']}Size{config['batch_size']}Lr{config['lr']}Warm{config['warmup']}Weight{config['weight_decay']}Freeze{config['n_freeze']}Drop{config['p_dropout']}Text{config['text_method']}.pth\"\n",
        "    config['PATH'] = PATH\n",
        "    torch.save(model.state_dict(), PATH)\n",
        "    \n",
        "    return model,config\n"
      ]
    },
    {
      "cell_type": "code",
      "execution_count": null,
      "id": "be9ae05a",
      "metadata": {
        "execution": {
          "iopub.execute_input": "2022-08-03T04:10:58.329997Z",
          "iopub.status.busy": "2022-08-03T04:10:58.329165Z",
          "iopub.status.idle": "2022-08-03T04:10:58.333817Z",
          "shell.execute_reply": "2022-08-03T04:10:58.332980Z"
        },
        "papermill": {
          "duration": 0.021285,
          "end_time": "2022-08-03T04:10:58.335973",
          "exception": false,
          "start_time": "2022-08-03T04:10:58.314688",
          "status": "completed"
        },
        "tags": [],
        "id": "be9ae05a"
      },
      "outputs": [],
      "source": [
        "# bertofa_model,bertofa_config = train(config = bertofa_config,\n",
        "#                       Text_Classifier = BertOFA_Text_Classifier,\n",
        "#                       project = 'BertOFA_Text_Classifier',\n",
        "#                       samplesize = ' full',\n",
        "#                       notes = \n",
        "#                       \"\"\"\n",
        "#                         outputs = self.pretrained_model(input_ids = input_ids, attention_mask = attention_mask), \n",
        "#                         pooled_output = self.hidden(outputs[1]), \n",
        "#                         pooled_output = F.relu(pooled_output), \n",
        "#                         pooled_output = self.hidden(pooled_output), \n",
        "#                         pooled_output = F.relu(pooled_output), \n",
        "#                         pooled_output = self.dropout(pooled_output), \n",
        "#                         logits = self.classifier(pooled_output)\n",
        "#                         \"\"\")"
      ]
    },
    {
      "cell_type": "code",
      "execution_count": null,
      "id": "4b047d7e",
      "metadata": {
        "execution": {
          "iopub.execute_input": "2022-08-03T04:10:58.364530Z",
          "iopub.status.busy": "2022-08-03T04:10:58.363629Z",
          "iopub.status.idle": "2022-08-03T04:10:58.368201Z",
          "shell.execute_reply": "2022-08-03T04:10:58.367406Z"
        },
        "papermill": {
          "duration": 0.020797,
          "end_time": "2022-08-03T04:10:58.370184",
          "exception": false,
          "start_time": "2022-08-03T04:10:58.349387",
          "status": "completed"
        },
        "tags": [],
        "id": "4b047d7e"
      },
      "outputs": [],
      "source": [
        "# distilroberta_model,distilroberta_config = train(config = distilroberta_config,\n",
        "#                       Text_Classifier = DistilRoBerta_Text_Classifier,\n",
        "#                       project = 'DistilRoBerta_Text_Classifier',\n",
        "#                       samplesize = ' Full',\n",
        "#                       notes = \n",
        "# \"\"\"\n",
        "# output = self.pretrained_model(input_ids = input_ids, attention_mask = attention_mask),\n",
        "# pooled_output = torch.mean(output.last_hidden_state, 1), \n",
        "# logits = self.classifier(pooled_output)  \n",
        "# \"\"\")"
      ]
    },
    {
      "cell_type": "code",
      "execution_count": null,
      "id": "fb02fa51",
      "metadata": {
        "execution": {
          "iopub.execute_input": "2022-08-03T04:10:58.398746Z",
          "iopub.status.busy": "2022-08-03T04:10:58.398014Z",
          "iopub.status.idle": "2022-08-03T04:10:58.402690Z",
          "shell.execute_reply": "2022-08-03T04:10:58.401753Z"
        },
        "papermill": {
          "duration": 0.021006,
          "end_time": "2022-08-03T04:10:58.404627",
          "exception": false,
          "start_time": "2022-08-03T04:10:58.383621",
          "status": "completed"
        },
        "tags": [],
        "id": "fb02fa51"
      },
      "outputs": [],
      "source": [
        "# distilbert_model, distilbert_config  = train(config = distilbert_config,\n",
        "#                                       Text_Classifier = DistilBert_Text_Classifier,\n",
        "#                                       project = 'DistilBert_Text_Classifier',\n",
        "#                                       samplesize = ' 5000 test without weighted loss',\n",
        "#                                       notes = \n",
        "# \"\"\"\n",
        "# output = self.pretrained_model(input_ids = input_ids, attention_mask = attention_mask),\n",
        "# pooled_output = torch.mean(output.last_hidden_state, 1),\n",
        "# pooled_output = self.hidden(pooled_output),\n",
        "# pooled_output = F.relu(pooled_output),\n",
        "# pooled_output = self.dropout(pooled_output),\n",
        "# logits = self.classifier(pooled_output)\n",
        "# \"\"\")"
      ]
    },
    {
      "cell_type": "code",
      "execution_count": null,
      "id": "0f2eb63b",
      "metadata": {
        "execution": {
          "iopub.execute_input": "2022-08-03T04:10:58.433167Z",
          "iopub.status.busy": "2022-08-03T04:10:58.432439Z",
          "iopub.status.idle": "2022-08-03T04:10:58.437041Z",
          "shell.execute_reply": "2022-08-03T04:10:58.436229Z"
        },
        "papermill": {
          "duration": 0.020552,
          "end_time": "2022-08-03T04:10:58.438840",
          "exception": false,
          "start_time": "2022-08-03T04:10:58.418288",
          "status": "completed"
        },
        "tags": [],
        "id": "0f2eb63b"
      },
      "outputs": [],
      "source": [
        "# deberta_model,deberta_config = train(config = deberta_config,\n",
        "#                       Text_Classifier = DeBerta_Text_Classifier,\n",
        "#                       project = 'DeBerta_Text_Classifier',\n",
        "#                       samplesize = ' full',\n",
        "#                       notes = \n",
        "# \"\"\"\n",
        "# pooled_output = self.dropout(pooled_output), \n",
        "# pooled_output = self.hidden(pooled_output), \n",
        "# pooled_output = F.relu(pooled_output), \n",
        "# pooled_output = self.dropout(pooled_output), \n",
        "# logits = self.classifier(pooled_output)\n",
        "# \"\"\")"
      ]
    },
    {
      "cell_type": "markdown",
      "id": "fabfc170",
      "metadata": {
        "papermill": {
          "duration": 0.013522,
          "end_time": "2022-08-03T04:10:58.466384",
          "exception": false,
          "start_time": "2022-08-03T04:10:58.452862",
          "status": "completed"
        },
        "tags": [],
        "id": "fabfc170"
      },
      "source": [
        "# Validation"
      ]
    },
    {
      "cell_type": "code",
      "execution_count": null,
      "id": "968c8e0b",
      "metadata": {
        "execution": {
          "iopub.execute_input": "2022-08-03T04:10:58.494462Z",
          "iopub.status.busy": "2022-08-03T04:10:58.494162Z",
          "iopub.status.idle": "2022-08-03T04:10:58.504925Z",
          "shell.execute_reply": "2022-08-03T04:10:58.504072Z"
        },
        "papermill": {
          "duration": 0.02695,
          "end_time": "2022-08-03T04:10:58.506803",
          "exception": false,
          "start_time": "2022-08-03T04:10:58.479853",
          "status": "completed"
        },
        "tags": [],
        "id": "968c8e0b"
      },
      "outputs": [],
      "source": [
        "def validate(_Text_Classifier,config,data_path,val_path,attributes):    \n",
        "    tokenizer = AutoTokenizer.from_pretrained(config['model_name'], use_fast=True)\n",
        "    le = LabelEncoder()\n",
        "    \n",
        "    val_data_module = _Data_Module(data_path,\n",
        "                                    val_path, # using \n",
        "                                    attributes,\n",
        "                                    le,\n",
        "                                    tokenizer,\n",
        "                                    config['model_name'],\n",
        "                                    batch_size=config['batch_size'],\n",
        "                                    text_method = config['text_method']\n",
        "                                   )\n",
        "    val_data_module.setup()\n",
        "\n",
        "    # Initialize Model\n",
        "    model = _Text_Classifier(config,val_data_module)\n",
        "    model.load_state_dict(torch.load(config['PATH']))\n",
        "\n",
        "    # Initialize Trainer\n",
        "    trainer = pl.Trainer(accelerator='auto')\n",
        "\n",
        "    run = wandb.init(name = f\"Validation\",notes = str(config),project= 'Validation')\n",
        "    \n",
        "    logits = trainer.predict(model, datamodule=val_data_module)\n",
        "\n",
        "    run.finish()\n",
        "    \n",
        "    pred_list = []\n",
        "    for logit in logits:\n",
        "        pred_list.append(logit)\n",
        "    y_pred = torch.cat(pred_list)\n",
        "\n",
        "    argmax_output = y_pred.argmax(dim=1)\n",
        "    argmax_output = argmax_output.numpy()\n",
        "    \n",
        "    val_df = val_path.copy()\n",
        "    output_df = pd.concat([val_df.reset_index(drop=True), pd.DataFrame(argmax_output,columns=['pred_discourse_effectiveness'])], axis=1)\n",
        "    output_df['pred_discourse_effectiveness'] = output_df['pred_discourse_effectiveness'].map({0:'Adequate',1:'Effective',2:'Ineffective'})\n",
        "    # Plot Confusion Matrix\n",
        "#     y_true = output_df['discourse_effectiveness'].values\n",
        "#     y_pred = output_df['pred_discourse_effectiveness'].values\n",
        "#     ax= plt.subplot()\n",
        "#     do_conf_matrix(y_true, y_pred, ax=ax)\n",
        "\n",
        "    return output_df,y_pred"
      ]
    },
    {
      "cell_type": "markdown",
      "id": "5ea8aab5",
      "metadata": {
        "papermill": {
          "duration": 0.013448,
          "end_time": "2022-08-03T04:10:58.533610",
          "exception": false,
          "start_time": "2022-08-03T04:10:58.520162",
          "status": "completed"
        },
        "tags": [],
        "id": "5ea8aab5"
      },
      "source": [
        "## Retrieve Validation Data set from train test split"
      ]
    },
    {
      "cell_type": "code",
      "execution_count": null,
      "id": "2cd27d94",
      "metadata": {
        "execution": {
          "iopub.execute_input": "2022-08-03T04:10:58.563104Z",
          "iopub.status.busy": "2022-08-03T04:10:58.561554Z",
          "iopub.status.idle": "2022-08-03T04:10:58.613118Z",
          "shell.execute_reply": "2022-08-03T04:10:58.612297Z"
        },
        "papermill": {
          "duration": 0.068019,
          "end_time": "2022-08-03T04:10:58.615117",
          "exception": false,
          "start_time": "2022-08-03T04:10:58.547098",
          "status": "completed"
        },
        "tags": [],
        "id": "2cd27d94"
      },
      "outputs": [],
      "source": [
        "# data_path = '/kaggle/input/feedback-prize-effectiveness/train.csv'\n",
        "# test_path = '/kaggle/input/feedback-prize-effectiveness/test.csv'\n",
        "# val_path = './val.csv'\n",
        "attributes = [\"Adequate\" ,\"Effective\",\"Ineffective\"]\n",
        "\n",
        "# Create validation csv file from traintestsplit\n",
        "df = data_path.copy()\n",
        "y = df['discourse_effectiveness']\n",
        "train_df,val_df = train_test_split(df, test_size=0.2,stratify=y,random_state=91)\n",
        "# y = val_df['discourse_effectiveness']\n",
        "# train_df,val_df = train_test_split(val_df, test_size=0.01,stratify=y,random_state=91)\n",
        "val_path = val_df"
      ]
    },
    {
      "cell_type": "code",
      "execution_count": null,
      "id": "abff50eb",
      "metadata": {
        "execution": {
          "iopub.execute_input": "2022-08-03T04:10:58.643797Z",
          "iopub.status.busy": "2022-08-03T04:10:58.643018Z",
          "iopub.status.idle": "2022-08-03T04:10:58.653251Z",
          "shell.execute_reply": "2022-08-03T04:10:58.652310Z"
        },
        "papermill": {
          "duration": 0.026631,
          "end_time": "2022-08-03T04:10:58.655301",
          "exception": false,
          "start_time": "2022-08-03T04:10:58.628670",
          "status": "completed"
        },
        "tags": [],
        "id": "abff50eb",
        "outputId": "8e3dedce-4f2c-4c53-ba46-3e998acf913d"
      },
      "outputs": [
        {
          "data": {
            "text/plain": [
              "Adequate       4196\n",
              "Effective      1865\n",
              "Ineffective    1292\n",
              "Name: discourse_effectiveness, dtype: int64"
            ]
          },
          "execution_count": 28,
          "metadata": {},
          "output_type": "execute_result"
        }
      ],
      "source": [
        "val_df['discourse_effectiveness'].value_counts()"
      ]
    },
    {
      "cell_type": "markdown",
      "id": "c705cae6",
      "metadata": {
        "papermill": {
          "duration": 0.013341,
          "end_time": "2022-08-03T04:10:58.682719",
          "exception": false,
          "start_time": "2022-08-03T04:10:58.669378",
          "status": "completed"
        },
        "tags": [],
        "id": "c705cae6"
      },
      "source": [
        "## Run Validation"
      ]
    },
    {
      "cell_type": "code",
      "execution_count": null,
      "id": "5185eaed",
      "metadata": {
        "execution": {
          "iopub.execute_input": "2022-08-03T04:10:58.711920Z",
          "iopub.status.busy": "2022-08-03T04:10:58.711150Z",
          "iopub.status.idle": "2022-08-03T04:10:58.716391Z",
          "shell.execute_reply": "2022-08-03T04:10:58.715550Z"
        },
        "papermill": {
          "duration": 0.02162,
          "end_time": "2022-08-03T04:10:58.718460",
          "exception": false,
          "start_time": "2022-08-03T04:10:58.696840",
          "status": "completed"
        },
        "tags": [],
        "id": "5185eaed"
      },
      "outputs": [],
      "source": [
        "# val_output_df_distilbert, y_pred_distilbert = validate(DistilBert_Text_Classifier,\n",
        "#                                                       distilbert_config,\n",
        "#                                                       data_path,\n",
        "#                                                       val_path,\n",
        "#                                                       attributes)\n",
        "\n",
        "# val_output_df_deberta,y_pred_deberta = validate(DeBerta_Text_Classifier,\n",
        "#                                                   deberta_config,\n",
        "#                                                   data_path,\n",
        "#                                                   val_path,\n",
        "#                                                   attributes)\n",
        "\n",
        "# val_output_df_bertofa, y_pred_bertofa = validate(BertOFA_Text_Classifier,\n",
        "#                                                   bertofa_config,\n",
        "#                                                   data_path,\n",
        "#                                                   val_path,\n",
        "#                                                   attributes)"
      ]
    },
    {
      "cell_type": "code",
      "execution_count": null,
      "id": "9bce4094",
      "metadata": {
        "execution": {
          "iopub.execute_input": "2022-08-03T04:10:58.747382Z",
          "iopub.status.busy": "2022-08-03T04:10:58.747105Z",
          "iopub.status.idle": "2022-08-03T04:10:58.751293Z",
          "shell.execute_reply": "2022-08-03T04:10:58.750250Z"
        },
        "papermill": {
          "duration": 0.020892,
          "end_time": "2022-08-03T04:10:58.753521",
          "exception": false,
          "start_time": "2022-08-03T04:10:58.732629",
          "status": "completed"
        },
        "tags": [],
        "id": "9bce4094"
      },
      "outputs": [],
      "source": [
        "## val_output_df_distilroberta, y_pred_distilroberta = validate(DistilRoBerta_Text_Classifier,\n",
        "##                                                               distilroberta_config,\n",
        "##                                                               data_path,\n",
        "##                                                               val_path,\n",
        "##                                                               attributes)"
      ]
    },
    {
      "cell_type": "code",
      "execution_count": null,
      "id": "a1046bf2",
      "metadata": {
        "papermill": {
          "duration": 0.013405,
          "end_time": "2022-08-03T04:10:58.780657",
          "exception": false,
          "start_time": "2022-08-03T04:10:58.767252",
          "status": "completed"
        },
        "tags": [],
        "id": "a1046bf2"
      },
      "outputs": [],
      "source": [
        ""
      ]
    },
    {
      "cell_type": "code",
      "execution_count": null,
      "id": "a655604f",
      "metadata": {
        "papermill": {
          "duration": 0.013351,
          "end_time": "2022-08-03T04:10:58.807666",
          "exception": false,
          "start_time": "2022-08-03T04:10:58.794315",
          "status": "completed"
        },
        "tags": [],
        "id": "a655604f"
      },
      "outputs": [],
      "source": [
        ""
      ]
    },
    {
      "cell_type": "markdown",
      "id": "c1c37d70",
      "metadata": {
        "papermill": {
          "duration": 0.013294,
          "end_time": "2022-08-03T04:10:58.834735",
          "exception": false,
          "start_time": "2022-08-03T04:10:58.821441",
          "status": "completed"
        },
        "tags": [],
        "id": "c1c37d70"
      },
      "source": [
        "## Save Validation Results"
      ]
    },
    {
      "cell_type": "code",
      "execution_count": null,
      "id": "ff492af7",
      "metadata": {
        "execution": {
          "iopub.execute_input": "2022-08-03T04:10:58.864186Z",
          "iopub.status.busy": "2022-08-03T04:10:58.863331Z",
          "iopub.status.idle": "2022-08-03T04:10:58.868077Z",
          "shell.execute_reply": "2022-08-03T04:10:58.867247Z"
        },
        "papermill": {
          "duration": 0.021224,
          "end_time": "2022-08-03T04:10:58.870027",
          "exception": false,
          "start_time": "2022-08-03T04:10:58.848803",
          "status": "completed"
        },
        "tags": [],
        "id": "ff492af7"
      },
      "outputs": [],
      "source": [
        "# df_distilbert = pd.concat([val_output_df_distilbert.reset_index(drop=True),pd.DataFrame(y_pred_distilbert.tolist(),columns=attributes)],axis=1)\n",
        "# df_deberta = pd.concat([val_output_df_deberta.reset_index(drop=True),pd.DataFrame(y_pred_deberta.tolist(),columns=attributes)],axis=1)\n",
        "# df_bertofa = pd.concat([val_output_df_bertofa.reset_index(drop=True),pd.DataFrame(y_pred_bertofa.tolist(),columns=attributes)],axis=1)\n",
        "\n",
        "# df_distilbert.to_csv('./distilbert_valresult.csv',index=False)\n",
        "# df_deberta.to_csv('./deberta_valresult.csv',index=False)\n",
        "# df_bertofa.to_csv('./bertofa_valresult.csv',index=False)\n"
      ]
    },
    {
      "cell_type": "markdown",
      "id": "c0147804",
      "metadata": {
        "papermill": {
          "duration": 0.01344,
          "end_time": "2022-08-03T04:10:58.897068",
          "exception": false,
          "start_time": "2022-08-03T04:10:58.883628",
          "status": "completed"
        },
        "tags": [],
        "id": "c0147804"
      },
      "source": [
        "# Explore Validation Results\n",
        "\n",
        "---"
      ]
    },
    {
      "cell_type": "markdown",
      "id": "3ab9e2e3",
      "metadata": {
        "papermill": {
          "duration": 0.013391,
          "end_time": "2022-08-03T04:10:58.924152",
          "exception": false,
          "start_time": "2022-08-03T04:10:58.910761",
          "status": "completed"
        },
        "tags": [],
        "id": "3ab9e2e3"
      },
      "source": [
        "## Read data from Validation"
      ]
    },
    {
      "cell_type": "code",
      "execution_count": null,
      "id": "ea5ae8c0",
      "metadata": {
        "execution": {
          "iopub.execute_input": "2022-08-03T04:10:58.953073Z",
          "iopub.status.busy": "2022-08-03T04:10:58.952297Z",
          "iopub.status.idle": "2022-08-03T04:11:01.173461Z",
          "shell.execute_reply": "2022-08-03T04:11:01.172491Z"
        },
        "papermill": {
          "duration": 2.238418,
          "end_time": "2022-08-03T04:11:01.176332",
          "exception": false,
          "start_time": "2022-08-03T04:10:58.937914",
          "status": "completed"
        },
        "tags": [],
        "id": "ea5ae8c0"
      },
      "outputs": [],
      "source": [
        "df_distilbert=pd.read_csv('../input/validation-result/distilbert_valresult.csv')\n",
        "df_deberta=pd.read_csv('../input/validation-result/deberta_valresult.csv')\n",
        "df_bertofa=pd.read_csv('../input/validation-result/bertofa_valresult.csv')\n",
        "\n",
        "ypred_distilbert = torch.from_numpy(df_distilbert.loc[:,['Adequate','Effective','Ineffective']].values)\n",
        "ypred_deberta = torch.from_numpy(df_deberta.loc[:,['Adequate','Effective','Ineffective']].values)\n",
        "ypred_bertofa = torch.from_numpy(df_bertofa.loc[:,['Adequate','Effective','Ineffective']].values)\n"
      ]
    },
    {
      "cell_type": "code",
      "execution_count": null,
      "id": "8cc7488d",
      "metadata": {
        "execution": {
          "iopub.execute_input": "2022-08-03T04:11:01.205630Z",
          "iopub.status.busy": "2022-08-03T04:11:01.205289Z",
          "iopub.status.idle": "2022-08-03T04:11:01.209883Z",
          "shell.execute_reply": "2022-08-03T04:11:01.208853Z"
        },
        "papermill": {
          "duration": 0.021617,
          "end_time": "2022-08-03T04:11:01.212176",
          "exception": false,
          "start_time": "2022-08-03T04:11:01.190559",
          "status": "completed"
        },
        "tags": [],
        "id": "8cc7488d"
      },
      "outputs": [],
      "source": [
        "weight ={\n",
        "        'deberta':0.10,\n",
        "        'distilbert':0.50,\n",
        "        'bertofa':0.40,\n",
        "#         'distilroberta':0.25\n",
        "        }\n",
        "\n",
        "\n",
        "\n",
        "# weight ={\n",
        "#         'deberta':0.33,\n",
        "#         'distilbert':0.33,\n",
        "#         'bertofa':0.33,\n",
        "# #         'distilroberta':0.25\n",
        "#         }"
      ]
    },
    {
      "cell_type": "markdown",
      "id": "940f4543",
      "metadata": {
        "papermill": {
          "duration": 0.013316,
          "end_time": "2022-08-03T04:11:01.239092",
          "exception": false,
          "start_time": "2022-08-03T04:11:01.225776",
          "status": "completed"
        },
        "tags": [],
        "id": "940f4543"
      },
      "source": [
        "## Utility Function for Exploration"
      ]
    },
    {
      "cell_type": "code",
      "execution_count": null,
      "id": "948c6498",
      "metadata": {
        "execution": {
          "iopub.execute_input": "2022-08-03T04:11:01.268213Z",
          "iopub.status.busy": "2022-08-03T04:11:01.267944Z",
          "iopub.status.idle": "2022-08-03T04:11:01.287274Z",
          "shell.execute_reply": "2022-08-03T04:11:01.286247Z"
        },
        "papermill": {
          "duration": 0.036932,
          "end_time": "2022-08-03T04:11:01.289618",
          "exception": false,
          "start_time": "2022-08-03T04:11:01.252686",
          "status": "completed"
        },
        "tags": [],
        "id": "948c6498"
      },
      "outputs": [],
      "source": [
        "def pred_to_argmax(y_pred,df,model_name):\n",
        "    argmax_output = y_pred.argmax(dim=1)\n",
        "    argmax_output = argmax_output.numpy()\n",
        "    df = pd.concat([df.reset_index(drop=True),pd.DataFrame(argmax_output,columns=[f'pred_effectiveness_{model_name}'])], axis=1)\n",
        "    df[f'pred_effectiveness_{model_name}'] = df[f'pred_effectiveness_{model_name}'].map({0:'Adequate',1:'Effective',2:'Ineffective'})\n",
        "    return df\n",
        "\n",
        "# def plot_confusionmatrix(df,model_name):\n",
        "#     y_true = output_df['discourse_effectiveness'].values\n",
        "#     y_pred = output_df[f'pred_discourse_effectiveness_{model_name}'].values\n",
        "#     ax= plt.subplot()\n",
        "#     do_conf_matrix(y_true, y_pred, ax=ax)\n",
        "\n",
        "def do_conf_matrix(y_true, y_pred, ax, title=None):\n",
        "    cm = confusion_matrix(y_true, y_pred, labels=attributes)\n",
        "    cm\n",
        "\n",
        "    sns.heatmap(cm/np.sum(cm), annot=True, fmt='.2%', ax=ax, cmap='Blues');  \n",
        "    \n",
        "    \n",
        "    # labels, title and ticks\n",
        "    ax.set_xlabel('Predicted labels');\n",
        "    ax.set_ylabel('True labels'); \n",
        "    ax.set_title(f'Confusion Matrix - {title}'); \n",
        "\n",
        "    ax.xaxis.set_ticklabels(attributes)\n",
        "    ax.yaxis.set_ticklabels(attributes);\n",
        "\n",
        "    \n",
        "def calculate_score(y_pred,df):\n",
        "    cel = nn.CrossEntropyLoss()\n",
        "    f1 = f1_score(y_pred.argmax(dim=1),torch.tensor(df['discourse_effectiveness_numeric'].values),num_classes=3,average=None)\n",
        "    f1_weighted = f1_score(y_pred.softmax(dim=1),torch.tensor(df['discourse_effectiveness_numeric'].values),num_classes=3,multiclass=True,average='weighted')\n",
        "    loss = cel(y_pred,torch.tensor(df['discourse_effectiveness_numeric'].values))\n",
        "    \n",
        "    return f1, f1_weighted, loss\n",
        "    \n",
        "def validate_result(y_pred_deberta,y_pred_distilbert,y_pred_bertofa,weight,val_path,preds):\n",
        "\n",
        "#     y_pred_overall = (y_pred_deberta*weight[preds[0]] + y_pred_distilbert*weight[preds[1]] + y_pred_bertofa*weight[preds[2]])/(weight[preds[0]]+weight[preds[1]]+weight[preds[2]])\n",
        "    \n",
        "    weight_deberta = torch.tensor([weight['deberta']])\n",
        "    weight_distilbert = torch.tensor([weight['distilbert']])\n",
        "    weight_bertofa = torch.tensor([weight['bertofa']])\n",
        "\n",
        "    weight_deberta=weight_deberta.repeat(ypred_deberta.shape[0],1)\n",
        "    weight_distilbert=weight_distilbert.repeat(ypred_distilbert.shape[0],1)\n",
        "    weight_bertofa=weight_bertofa.repeat(ypred_bertofa.shape[0],1)\n",
        "\n",
        "#     Method 1\n",
        "#     for idx,ypred in enumerate(ypred_deberta):\n",
        "#         if (ypred[2]>ypred[0]) &(ypred[2]>ypred[1]):\n",
        "#             ratio_bertofa = weight_bertofa[idx]/(weight_distilbert[idx]+weight_deberta[idx])\n",
        "#             ratio_distilbert = weight_distilbert[idx]/(weight_bertofa[idx]+weight_deberta[idx])\n",
        "#             weight_deberta[idx]=0.35\n",
        "#             weight_bertofa[idx]=(1-weight_deberta[idx])*ratio_bertofa\n",
        "#             weight_distilbert[idx]=(1-weight_deberta[idx])*ratio_distilbert\n",
        "\n",
        "# Method 3\n",
        "    for idx,ypred in enumerate(ypred_deberta):\n",
        "        if (ypred[2]>ypred[0]) &(ypred[2]>ypred[1]):# & (ypred_distilbert[idx][2]>ypred_distilbert[idx][0]) &(ypred_distilbert[idx][2]>ypred_distilbert[idx][1]):\n",
        "            ratio_bertofa = weight_bertofa[idx]/(weight_distilbert[idx]+weight_deberta[idx])\n",
        "            ratio_distilbert = weight_distilbert[idx]/(weight_bertofa[idx]+weight_deberta[idx])\n",
        "            weight_deberta[idx]=0.6\n",
        "            weight_bertofa[idx]=0.02\n",
        "            weight_distilbert[idx]=0.38 \n",
        "\n",
        "    \n",
        "    numerator = torch.mul(ypred_deberta,weight_deberta) + torch.mul(ypred_distilbert,weight_bertofa) + torch.mul(ypred_bertofa,weight_distilbert)\n",
        "    denominator = torch.add(torch.add(weight_deberta,weight_bertofa),weight_distilbert)\n",
        "    y_pred_overall = torch.div(numerator,denominator)\n",
        "    \n",
        "#         # Method 2\n",
        "#     for idx,ypred in enumerate(y_pred_overall):\n",
        "#         if ypred[]\n",
        "#         if (ypred[2]>ypred[0]) &(ypred[2]>ypred[1])& (ypred_distilbert[idx][2]<ypred_distilbert[idx][0])& (ypred_distilbert[idx][2]<ypred_distilbert[idx][1]):\n",
        "#             ratio_bertofa = weight_bertofa[idx]/(weight_distilbert[idx]+weight_deberta[idx])\n",
        "#             ratio_distilbert = weight_distilbert[idx]/(weight_bertofa[idx]+weight_deberta[idx])\n",
        "#             weight_deberta[idx]=0.35\n",
        "#             weight_bertofa[idx]=(1-weight_deberta[idx])*ratio_bertofa\n",
        "#             weight_distilbert[idx]=(1-weight_deberta[idx])*ratio_distilbert  \n",
        "    \n",
        "    df = val_path.copy()\n",
        "    df['discourse_effectiveness_numeric'] = df['discourse_effectiveness'].map({'Adequate':0,'Effective':1,'Ineffective':2})\n",
        "    y_true = df['discourse_effectiveness'].values\n",
        "    \n",
        "\n",
        "    \n",
        "    fig, axs = plt.subplots(2,2,figsize=(20, 10))\n",
        "    \n",
        "    df = pred_to_argmax(y_pred_deberta,df,preds[0])    \n",
        "    df = pred_to_argmax(y_pred_distilbert,df,preds[1])\n",
        "    df = pred_to_argmax(y_pred_bertofa,df,preds[2])\n",
        "    df = pred_to_argmax(y_pred_overall,df,preds[3])\n",
        "    \n",
        "    print(df.info())\n",
        "    do_conf_matrix(y_true, df[f'pred_effectiveness_deberta'].values, ax=axs[0,0],title = preds[0])\n",
        "    do_conf_matrix(y_true, df[f'pred_effectiveness_distilbert'].values, ax=axs[1,0],title = preds[1])\n",
        "    do_conf_matrix(y_true, df[f'pred_effectiveness_bertofa'].values, ax=axs[0,1],title = preds[2])\n",
        "    do_conf_matrix(y_true, df[f'pred_effectiveness_OVERALL'].values, ax=axs[1,1],title = preds[3])\n",
        "\n",
        "    output1 = calculate_score(y_pred_deberta,df)\n",
        "    output2 = calculate_score(y_pred_distilbert,df)\n",
        "    output3 = calculate_score(y_pred_bertofa,df)\n",
        "    output4 = calculate_score(y_pred_overall,df)\n",
        "\n",
        "    return output1, output2, output3, output4\n",
        "\n"
      ]
    },
    {
      "cell_type": "code",
      "execution_count": null,
      "id": "b2a3134a",
      "metadata": {
        "execution": {
          "iopub.execute_input": "2022-08-03T04:11:01.318770Z",
          "iopub.status.busy": "2022-08-03T04:11:01.318498Z",
          "iopub.status.idle": "2022-08-03T04:11:02.710194Z",
          "shell.execute_reply": "2022-08-03T04:11:02.709282Z"
        },
        "papermill": {
          "duration": 1.408998,
          "end_time": "2022-08-03T04:11:02.712887",
          "exception": false,
          "start_time": "2022-08-03T04:11:01.303889",
          "status": "completed"
        },
        "tags": [],
        "id": "b2a3134a",
        "outputId": "009c86d6-30ff-4121-e426-8df9ca50f845"
      },
      "outputs": [
        {
          "name": "stdout",
          "output_type": "stream",
          "text": [
            "<class 'pandas.core.frame.DataFrame'>\n",
            "RangeIndex: 7353 entries, 0 to 7352\n",
            "Data columns (total 10 columns):\n",
            " #   Column                           Non-Null Count  Dtype \n",
            "---  ------                           --------------  ----- \n",
            " 0   discourse_id                     7353 non-null   object\n",
            " 1   essay_id                         7353 non-null   object\n",
            " 2   discourse_text                   7353 non-null   object\n",
            " 3   discourse_type                   7353 non-null   object\n",
            " 4   discourse_effectiveness          7353 non-null   object\n",
            " 5   discourse_effectiveness_numeric  7353 non-null   int64 \n",
            " 6   pred_effectiveness_deberta       7353 non-null   object\n",
            " 7   pred_effectiveness_distilbert    7353 non-null   object\n",
            " 8   pred_effectiveness_bertofa       7353 non-null   object\n",
            " 9   pred_effectiveness_OVERALL       7353 non-null   object\n",
            "dtypes: int64(1), object(9)\n",
            "memory usage: 574.6+ KB\n",
            "None\n"
          ]
        },
        {
          "data": {
            "image/png": "[encoded data removed]",
            "text/plain": [
              "<Figure size 1440x720 with 8 Axes>"
            ]
          },
          "metadata": {
            "needs_background": "light"
          },
          "output_type": "display_data"
        }
      ],
      "source": [
        "\n",
        "preds = ['deberta','distilbert','bertofa','OVERALL']\n",
        "\n",
        "output1, output2, output3, output4 = validate_result(ypred_deberta,ypred_distilbert,ypred_bertofa,weight,val_path, preds)\n",
        "\n"
      ]
    },
    {
      "cell_type": "markdown",
      "id": "4cdd7a8e",
      "metadata": {
        "papermill": {
          "duration": 0.044027,
          "end_time": "2022-08-03T04:11:02.772668",
          "exception": false,
          "start_time": "2022-08-03T04:11:02.728641",
          "status": "completed"
        },
        "tags": [],
        "id": "4cdd7a8e"
      },
      "source": [
        "## Read F1 Score"
      ]
    },
    {
      "cell_type": "code",
      "execution_count": null,
      "id": "6f7ead8c",
      "metadata": {
        "execution": {
          "iopub.execute_input": "2022-08-03T04:11:02.804016Z",
          "iopub.status.busy": "2022-08-03T04:11:02.803704Z",
          "iopub.status.idle": "2022-08-03T04:11:02.820805Z",
          "shell.execute_reply": "2022-08-03T04:11:02.819741Z"
        },
        "papermill": {
          "duration": 0.035581,
          "end_time": "2022-08-03T04:11:02.823491",
          "exception": false,
          "start_time": "2022-08-03T04:11:02.787910",
          "status": "completed"
        },
        "tags": [],
        "id": "6f7ead8c",
        "outputId": "bdad6b62-a1a8-40da-a2a5-0cd1d4201310"
      },
      "outputs": [
        {
          "data": {
            "text/html": [
              "<div>\n",
              "<style scoped>\n",
              "    .dataframe tbody tr th:only-of-type {\n",
              "        vertical-align: middle;\n",
              "    }\n",
              "\n",
              "    .dataframe tbody tr th {\n",
              "        vertical-align: top;\n",
              "    }\n",
              "\n",
              "    .dataframe thead th {\n",
              "        text-align: right;\n",
              "    }\n",
              "</style>\n",
              "<table border=\"1\" class=\"dataframe\">\n",
              "  <thead>\n",
              "    <tr style=\"text-align: right;\">\n",
              "      <th></th>\n",
              "      <th>deberta</th>\n",
              "      <th>distilbert</th>\n",
              "      <th>bertofa</th>\n",
              "      <th>overall</th>\n",
              "    </tr>\n",
              "    <tr>\n",
              "      <th>label</th>\n",
              "      <th></th>\n",
              "      <th></th>\n",
              "      <th></th>\n",
              "      <th></th>\n",
              "    </tr>\n",
              "  </thead>\n",
              "  <tbody>\n",
              "    <tr>\n",
              "      <th>Adequate</th>\n",
              "      <td>0.170911</td>\n",
              "      <td>0.754998</td>\n",
              "      <td>0.729256</td>\n",
              "      <td>0.688338</td>\n",
              "    </tr>\n",
              "    <tr>\n",
              "      <th>Effective</th>\n",
              "      <td>0.571105</td>\n",
              "      <td>0.665716</td>\n",
              "      <td>0.731481</td>\n",
              "      <td>0.752194</td>\n",
              "    </tr>\n",
              "    <tr>\n",
              "      <th>Ineffective</th>\n",
              "      <td>0.408585</td>\n",
              "      <td>0.337416</td>\n",
              "      <td>0.046372</td>\n",
              "      <td>0.399535</td>\n",
              "    </tr>\n",
              "  </tbody>\n",
              "</table>\n",
              "</div>"
            ],
            "text/plain": [
              "              deberta  distilbert   bertofa   overall\n",
              "label                                                \n",
              "Adequate     0.170911    0.754998  0.729256  0.688338\n",
              "Effective    0.571105    0.665716  0.731481  0.752194\n",
              "Ineffective  0.408585    0.337416  0.046372  0.399535"
            ]
          },
          "execution_count": 36,
          "metadata": {},
          "output_type": "execute_result"
        }
      ],
      "source": [
        "\n",
        "f1_score_df = pd.DataFrame({'deberta':output1[0].tolist(),\n",
        "                         'distilbert':output2[0].tolist(),\n",
        "                         'bertofa':output3[0].tolist(),\n",
        "                         'overall':output4[0].tolist(),\n",
        "                            })\n",
        "f1_score_df['label']=attributes\n",
        "f1_score_df.set_index(['label'])\n",
        "\n"
      ]
    },
    {
      "cell_type": "code",
      "execution_count": null,
      "id": "1998868d",
      "metadata": {
        "execution": {
          "iopub.execute_input": "2022-08-03T04:11:02.854596Z",
          "iopub.status.busy": "2022-08-03T04:11:02.854278Z",
          "iopub.status.idle": "2022-08-03T04:11:02.868335Z",
          "shell.execute_reply": "2022-08-03T04:11:02.867426Z"
        },
        "papermill": {
          "duration": 0.031416,
          "end_time": "2022-08-03T04:11:02.870195",
          "exception": false,
          "start_time": "2022-08-03T04:11:02.838779",
          "status": "completed"
        },
        "tags": [],
        "id": "1998868d",
        "outputId": "f73fbc4d-2d5f-442f-9d8b-09393773a43e"
      },
      "outputs": [
        {
          "data": {
            "text/html": [
              "<div>\n",
              "<style scoped>\n",
              "    .dataframe tbody tr th:only-of-type {\n",
              "        vertical-align: middle;\n",
              "    }\n",
              "\n",
              "    .dataframe tbody tr th {\n",
              "        vertical-align: top;\n",
              "    }\n",
              "\n",
              "    .dataframe thead th {\n",
              "        text-align: right;\n",
              "    }\n",
              "</style>\n",
              "<table border=\"1\" class=\"dataframe\">\n",
              "  <thead>\n",
              "    <tr style=\"text-align: right;\">\n",
              "      <th></th>\n",
              "      <th>f1_weighted_score</th>\n",
              "      <th>log loss</th>\n",
              "      <th>model</th>\n",
              "    </tr>\n",
              "  </thead>\n",
              "  <tbody>\n",
              "    <tr>\n",
              "      <th>0</th>\n",
              "      <td>0.314177</td>\n",
              "      <td>1.583759</td>\n",
              "      <td>deberta</td>\n",
              "    </tr>\n",
              "    <tr>\n",
              "      <th>1</th>\n",
              "      <td>0.658979</td>\n",
              "      <td>0.712088</td>\n",
              "      <td>distilbert</td>\n",
              "    </tr>\n",
              "    <tr>\n",
              "      <th>2</th>\n",
              "      <td>0.609831</td>\n",
              "      <td>0.728091</td>\n",
              "      <td>bertofa</td>\n",
              "    </tr>\n",
              "    <tr>\n",
              "      <th>3</th>\n",
              "      <td>0.653788</td>\n",
              "      <td>0.704765</td>\n",
              "      <td>OVERALL</td>\n",
              "    </tr>\n",
              "  </tbody>\n",
              "</table>\n",
              "</div>"
            ],
            "text/plain": [
              "   f1_weighted_score  log loss       model\n",
              "0           0.314177  1.583759     deberta\n",
              "1           0.658979  0.712088  distilbert\n",
              "2           0.609831  0.728091     bertofa\n",
              "3           0.653788  0.704765     OVERALL"
            ]
          },
          "execution_count": 37,
          "metadata": {},
          "output_type": "execute_result"
        }
      ],
      "source": [
        "f1_weight_score = []\n",
        "f1_weight_score.append(output1[1].item())\n",
        "f1_weight_score.append(output2[1].item())\n",
        "f1_weight_score.append(output3[1].item())\n",
        "f1_weight_score.append(output4[1].item())\n",
        "f1_weight_score\n",
        "\n",
        "logloss_score = []\n",
        "logloss_score.append(output1[2].item())\n",
        "logloss_score.append(output2[2].item())\n",
        "logloss_score.append(output3[2].item())\n",
        "logloss_score.append(output4[2].item())\n",
        "logloss_score\n",
        "\n",
        "score_df = pd.DataFrame({'f1_weighted_score':f1_weight_score})\n",
        "score_df['log loss'] = logloss_score\n",
        "score_df['model']=preds\n",
        "score_df"
      ]
    },
    {
      "cell_type": "code",
      "execution_count": null,
      "id": "db1eb607",
      "metadata": {
        "execution": {
          "iopub.execute_input": "2022-08-03T04:11:02.901318Z",
          "iopub.status.busy": "2022-08-03T04:11:02.901055Z",
          "iopub.status.idle": "2022-08-03T04:11:02.905786Z",
          "shell.execute_reply": "2022-08-03T04:11:02.904750Z"
        },
        "papermill": {
          "duration": 0.022778,
          "end_time": "2022-08-03T04:11:02.907859",
          "exception": false,
          "start_time": "2022-08-03T04:11:02.885081",
          "status": "completed"
        },
        "tags": [],
        "id": "db1eb607"
      },
      "outputs": [],
      "source": [
        "# # y_pred_overall = (y_pred_deberta*weight['deberta'] + y_pred_distilroberta*weight['distilbert'] + y_pred_bertofa*weight['bertofa'] + y_pred_distilbert*weight['distilroberta'])/4\n",
        "# y_pred_overall = (y_pred_deberta*weight['deberta'] + y_pred_distilbert*weight['distilbert'] + y_pred_bertofa*weight['bertofa'])/(weight['deberta']+weight['distilbert']+weight['bertofa'])\n",
        "\n",
        "\n",
        "# argmax_output = y_pred_overall.argmax(dim=1)\n",
        "# argmax_output = argmax_output.numpy()\n",
        "# output_overall_df = pd.concat([val_df.reset_index(drop=True), pd.DataFrame(argmax_output,columns=['pred_discourse_effectiveness'])], axis=1)\n",
        "# output_overall_df['pred_discourse_effectiveness'] = output_overall_df['pred_discourse_effectiveness'].map({0:'Adequate',1:'Effective',2:'Ineffective'})\n",
        "# #Plot Confusion Matrix\n",
        "# y_true = output_df['discourse_effectiveness'].values\n",
        "# y_pred = output_df['pred_discourse_effectiveness'].values\n",
        "# ax= plt.subplot()\n",
        "# do_conf_matrix(y_true, y_pred, ax=ax)\n",
        "# output_overall_df['discourse_effectiveness_numeric'] = output_overall_df['discourse_effectiveness'].map({'Adequate':0,'Effective':1,'Ineffective':2})\n",
        "# output_overall_df.info()\n",
        "# f1 = f1_score(y_pred_overall.argmax(dim=1),torch.tensor(output_overall_df['discourse_effectiveness_numeric'].values),average=None)\n",
        "# f1\n",
        "# f1_weighted = f1_score(y_pred_overall.softmax(dim=1),torch.tensor(output_overall_df['discourse_effectiveness_numeric'].values),num_classes=3,multiclass=True,average='weighted')\n",
        "# f1_weighted\n",
        "# cel = nn.CrossEntropyLoss()\n",
        "# loss = cel(y_pred_overall,torch.tensor(output_overall_df['discourse_effectiveness_numeric'].values))\n",
        "# loss"
      ]
    },
    {
      "cell_type": "markdown",
      "id": "68dc5623",
      "metadata": {
        "papermill": {
          "duration": 0.015087,
          "end_time": "2022-08-03T04:11:02.937797",
          "exception": false,
          "start_time": "2022-08-03T04:11:02.922710",
          "status": "completed"
        },
        "tags": [],
        "id": "68dc5623"
      },
      "source": [
        "## Read text with wrong classification"
      ]
    },
    {
      "cell_type": "code",
      "execution_count": null,
      "id": "6dd71802",
      "metadata": {
        "execution": {
          "iopub.execute_input": "2022-08-03T04:11:02.968705Z",
          "iopub.status.busy": "2022-08-03T04:11:02.968443Z",
          "iopub.status.idle": "2022-08-03T04:11:02.987765Z",
          "shell.execute_reply": "2022-08-03T04:11:02.986401Z"
        },
        "papermill": {
          "duration": 0.037185,
          "end_time": "2022-08-03T04:11:02.989890",
          "exception": false,
          "start_time": "2022-08-03T04:11:02.952705",
          "status": "completed"
        },
        "tags": [],
        "id": "6dd71802",
        "outputId": "85ba7b33-16dc-42c9-e85d-3c1e6e8a8fb2"
      },
      "outputs": [
        {
          "name": "stdout",
          "output_type": "stream",
          "text": [
            "<class 'pandas.core.frame.DataFrame'>\n",
            "RangeIndex: 7353 entries, 0 to 7352\n",
            "Data columns (total 6 columns):\n",
            " #   Column                        Non-Null Count  Dtype \n",
            "---  ------                        --------------  ----- \n",
            " 0   discourse_id                  7353 non-null   object\n",
            " 1   essay_id                      7353 non-null   object\n",
            " 2   discourse_text                7353 non-null   object\n",
            " 3   discourse_type                7353 non-null   object\n",
            " 4   discourse_effectiveness       7353 non-null   object\n",
            " 5   pred_discourse_effectiveness  7353 non-null   object\n",
            "dtypes: object(6)\n",
            "memory usage: 344.8+ KB\n"
          ]
        }
      ],
      "source": [
        "y_pred_overall = (ypred_deberta*weight['deberta'] + ypred_distilbert*weight['distilbert'] + ypred_bertofa*weight['bertofa'])/(weight['deberta']+weight['distilbert']+weight['bertofa'])\n",
        "argmax_output = y_pred_overall.argmax(dim=1)\n",
        "argmax_output = argmax_output.numpy()\n",
        "output_overall_df = pd.concat([val_df.reset_index(drop=True), pd.DataFrame(argmax_output,columns=['pred_discourse_effectiveness'])], axis=1)\n",
        "output_overall_df['pred_discourse_effectiveness'] = output_overall_df['pred_discourse_effectiveness'].map({0:'Adequate',1:'Effective',2:'Ineffective'})\n",
        "\n",
        "output_overall_df.info()"
      ]
    },
    {
      "cell_type": "code",
      "execution_count": null,
      "id": "ea7fe8da",
      "metadata": {
        "execution": {
          "iopub.execute_input": "2022-08-03T04:11:03.021883Z",
          "iopub.status.busy": "2022-08-03T04:11:03.021121Z",
          "iopub.status.idle": "2022-08-03T04:11:03.027958Z",
          "shell.execute_reply": "2022-08-03T04:11:03.027127Z"
        },
        "papermill": {
          "duration": 0.02464,
          "end_time": "2022-08-03T04:11:03.029928",
          "exception": false,
          "start_time": "2022-08-03T04:11:03.005288",
          "status": "completed"
        },
        "tags": [],
        "id": "ea7fe8da"
      },
      "outputs": [],
      "source": [
        "bad_pred_df = output_overall_df[output_overall_df['pred_discourse_effectiveness']!=output_overall_df['discourse_effectiveness']]"
      ]
    },
    {
      "cell_type": "code",
      "execution_count": null,
      "id": "74beec13",
      "metadata": {
        "execution": {
          "iopub.execute_input": "2022-08-03T04:11:03.061502Z",
          "iopub.status.busy": "2022-08-03T04:11:03.060691Z",
          "iopub.status.idle": "2022-08-03T04:11:03.066809Z",
          "shell.execute_reply": "2022-08-03T04:11:03.065956Z"
        },
        "papermill": {
          "duration": 0.023785,
          "end_time": "2022-08-03T04:11:03.068727",
          "exception": false,
          "start_time": "2022-08-03T04:11:03.044942",
          "status": "completed"
        },
        "tags": [],
        "id": "74beec13"
      },
      "outputs": [],
      "source": [
        "ineffective_bad_pred_df = bad_pred_df.loc[(bad_pred_df['pred_discourse_effectiveness']!=bad_pred_df['discourse_effectiveness'])& (bad_pred_df['discourse_effectiveness']=='Ineffective')]"
      ]
    },
    {
      "cell_type": "code",
      "execution_count": null,
      "id": "39b2e129",
      "metadata": {
        "execution": {
          "iopub.execute_input": "2022-08-03T04:11:03.099623Z",
          "iopub.status.busy": "2022-08-03T04:11:03.099335Z",
          "iopub.status.idle": "2022-08-03T04:11:03.110993Z",
          "shell.execute_reply": "2022-08-03T04:11:03.110170Z"
        },
        "papermill": {
          "duration": 0.029413,
          "end_time": "2022-08-03T04:11:03.112974",
          "exception": false,
          "start_time": "2022-08-03T04:11:03.083561",
          "status": "completed"
        },
        "tags": [],
        "id": "39b2e129"
      },
      "outputs": [],
      "source": [
        "def get_text(ids):\n",
        "    with open(f'../input/feedback-prize-effectiveness/train/{ids}.txt', 'r') as file: data = file.read()\n",
        "    return data\n",
        "\n",
        "def display_sample(essay_id,bad_df,train_df):\n",
        "    char_pos = 0\n",
        "    ex = [{\"text\": '',\"ents\": []}]\n",
        "    ex2 = [{\"text\": '',\"ents\": []}]\n",
        "    text = ''\n",
        "    for idx in range(train_df.loc[(train_df['essay_id']==essay_id)].shape[0]):\n",
        "        \n",
        "        discourse_text = train_df.loc[(df.essay_id == essay_id),'discourse_text'].values[idx]\n",
        "        discourse_text = normalizecodec(discourse_text)\n",
        "        begin = char_pos\n",
        "        end = begin + len(discourse_text)\n",
        "        discoursetype = train_df.loc[(train_df.essay_id == essay_id),'discourse_type'].values[idx]\n",
        "        discourse_id = train_df.loc[(train_df.essay_id == essay_id),'discourse_id'].values[idx]\n",
        "        \n",
        "        if bad_df[bad_df.discourse_id == discourse_id].shape[0] != 0:\n",
        "            label_bad = bad_df.loc[(bad_df.discourse_id == discourse_id),'pred_discourse_effectiveness'].values[0]\n",
        "            label_good = bad_df.loc[(bad_df.discourse_id == discourse_id),'discourse_effectiveness'].values[0]\n",
        "            ex[0]['ents'].append({\"start\":begin,\n",
        "                  \"end\":end,\n",
        "                  \"label\":label_bad + '/' + label_good+ ' (Predict/True)' + ' - ' + discoursetype\n",
        "                    })\n",
        "\n",
        "            ex2[0]['ents'].append({\"start\":begin,\n",
        "                  \"end\":end,\n",
        "                  \"label\":label_good + ' - ' + discoursetype + ' (True)'\n",
        "                    })\n",
        "        char_pos = end\n",
        "        text += discourse_text\n",
        "    ex[0]['text']=text\n",
        "    ex2[0]['text']=text\n",
        "    \n",
        "    displacy.render(ex, style=\"ent\", manual=True,jupyter=True,options={\"distance\":100})\n",
        "    print()\n",
        "#     displacy.render(ex2, style=\"ent\", manual=True,jupyter=True,options={\"distance\":100})\n",
        "    return\n",
        "\n",
        "\n",
        "\n"
      ]
    },
    {
      "cell_type": "code",
      "execution_count": null,
      "id": "08356bb8",
      "metadata": {
        "execution": {
          "iopub.execute_input": "2022-08-03T04:11:03.144430Z",
          "iopub.status.busy": "2022-08-03T04:11:03.143646Z",
          "iopub.status.idle": "2022-08-03T04:11:03.220751Z",
          "shell.execute_reply": "2022-08-03T04:11:03.218593Z"
        },
        "papermill": {
          "duration": 0.094975,
          "end_time": "2022-08-03T04:11:03.222852",
          "exception": false,
          "start_time": "2022-08-03T04:11:03.127877",
          "status": "completed"
        },
        "tags": [],
        "id": "08356bb8",
        "outputId": "2b9341be-363a-4e29-8f22-79d10312af9c"
      },
      "outputs": [
        {
          "data": {
            "text/html": [
              "<span class=\"tex2jax_ignore\"><div class=\"entities\" style=\"line-height: 2.5; direction: ltr\">l believe that all students should perform community service I believe this because we are handed opportunities to make our world a better place, an i think community service is one way to do it. We should take this opportunity by storm. We can be helping a lot of people an communities. I also think if kid do community service it will make them a better person in the future. They will see all the people they helped all the places they fixed an all the plant an animals habitats they saved. I think community service is a great thing for communities, people, plants an animals an the kids their self. \n",
              "<mark class=\"entity\" style=\"background: #ddd; padding: 0.45em 0.6em; margin: 0 0.25em; line-height: 1; border-radius: 0.35em;\">\n",
              "    We can make this world a better place for the generations to come. \n",
              "    <span style=\"font-size: 0.8em; font-weight: bold; line-height: 1; border-radius: 0.35em; vertical-align: middle; margin-left: 0.5rem\">Adequate/Ineffective (Predict/True) - Evidence</span>\n",
              "</mark>\n",
              "Kids mite think your being unfair now but they will thank you for it latter. This is a great opportunity. i encourages you to require all students to perform community service. I think they can learn a lot from it.  </div></span>"
            ],
            "text/plain": [
              "<IPython.core.display.HTML object>"
            ]
          },
          "metadata": {},
          "output_type": "display_data"
        },
        {
          "name": "stdout",
          "output_type": "stream",
          "text": [
            "\n"
          ]
        }
      ],
      "source": [
        "display_sample(\"B3E4B633261B\",bad_pred_df,data_path.sort_index())"
      ]
    },
    {
      "cell_type": "code",
      "execution_count": null,
      "id": "41c3ebb8",
      "metadata": {
        "execution": {
          "iopub.execute_input": "2022-08-03T04:11:03.255506Z",
          "iopub.status.busy": "2022-08-03T04:11:03.253856Z",
          "iopub.status.idle": "2022-08-03T04:11:03.338204Z",
          "shell.execute_reply": "2022-08-03T04:11:03.337138Z"
        },
        "papermill": {
          "duration": 0.102844,
          "end_time": "2022-08-03T04:11:03.340823",
          "exception": false,
          "start_time": "2022-08-03T04:11:03.237979",
          "status": "completed"
        },
        "tags": [],
        "id": "41c3ebb8",
        "outputId": "f361c02d-cc96-4f0c-b051-aedc78530d73"
      },
      "outputs": [
        {
          "data": {
            "text/html": [
              "<span class=\"tex2jax_ignore\"><div class=\"entities\" style=\"line-height: 2.5; direction: ltr\">Being assingned president of the united states is a very big deal, especially to the millions of people that live in this god blessed country.  herThe united states of america has had different presidents ever since the beginning of this country. These presidents are not in it for the money, but they are holding the title  &quot;  president&quot;  because these people want what is right for this country. But, how do we pick who gets to be president? It all comes down to the electoral college. Citizens of the united states are allowed to vote at the age of 18, these votes are said to mean so much, but that isnt always the case. It really all comes down to the number of electoral votes. Why make all these citizens vote, when the outcome might not even follow along with these votes. There are two types of votes. The electoral college votes, and the popular votes which is the number of citizens who voted for one certain canidate. How ever there has been times where the popular vote did not win the election. In 2000, canidate Gore had more of the popular votes then Bush did, but Bush had the most electoral votes. Shouldn't the citizens of this country be the ones who get to determine who the President is? I mean the President has a big duty and the citizens rely on His/Hers duty as president to keep things going right. The President can make huge decisions that affect these citizens which can make things horribly wrong or amazingly right. Yes, I know the people in the electoral college are super smart geniuses that know what they are doing, but? This is the country i live in, this is the country i was raised in, this is the country i love and am so blessed to be \n",
              "<mark class=\"entity\" style=\"background: #ddd; padding: 0.45em 0.6em; margin: 0 0.25em; line-height: 1; border-radius: 0.35em;\">\n",
              "    I deserve to be able to pick the president i want, or at least have my vote be the reason the president i was rooting for wins. \n",
              "    <span style=\"font-size: 0.8em; font-weight: bold; line-height: 1; border-radius: 0.35em; vertical-align: middle; margin-left: 0.5rem\">Adequate/Ineffective (Predict/True) - Position</span>\n",
              "</mark>\n",
              "Us fellow citizens of the united states only want whats best for us. We may not be as smart as the people in the electoral college, but that sure wont stop us from knowing who we like and who we think is better for our country. We deserve as much right to have our own president as much as anyone in the elecotral college does.  This God blessed country is home to millions, it might not be perfect, but it is the greatest country in the world. The people who get the amazing benefit of living here deserve to be able to elect the President they want. These people want what they believe is best.    </div></span>"
            ],
            "text/plain": [
              "<IPython.core.display.HTML object>"
            ]
          },
          "metadata": {},
          "output_type": "display_data"
        },
        {
          "name": "stdout",
          "output_type": "stream",
          "text": [
            "\n"
          ]
        }
      ],
      "source": [
        "sample_id = ineffective_bad_pred_df.sample(1)['essay_id'].values[0]\n",
        "display_sample(sample_id,bad_pred_df,data_path.sort_index())"
      ]
    },
    {
      "cell_type": "markdown",
      "id": "ba5361a2",
      "metadata": {
        "id": "ba5361a2",
        "papermill": {
          "duration": 0.01569,
          "end_time": "2022-08-03T04:11:03.372615",
          "exception": false,
          "start_time": "2022-08-03T04:11:03.356925",
          "status": "completed"
        },
        "tags": []
      },
      "source": [
        "# Predict and Submission to Kaggle\n",
        "\n",
        "---\n"
      ]
    },
    {
      "cell_type": "code",
      "execution_count": null,
      "id": "0ecae8f2",
      "metadata": {
        "execution": {
          "iopub.execute_input": "2022-08-03T04:11:03.405109Z",
          "iopub.status.busy": "2022-08-03T04:11:03.404263Z",
          "iopub.status.idle": "2022-08-03T04:11:03.414421Z",
          "shell.execute_reply": "2022-08-03T04:11:03.413526Z"
        },
        "id": "0ecae8f2",
        "papermill": {
          "duration": 0.028442,
          "end_time": "2022-08-03T04:11:03.416629",
          "exception": false,
          "start_time": "2022-08-03T04:11:03.388187",
          "status": "completed"
        },
        "tags": []
      },
      "outputs": [],
      "source": [
        "def predict(_Text_Classifier,config):\n",
        "    \n",
        "    data_path = pd.read_csv('/kaggle/input/feedback-prize-effectiveness/train.csv')\n",
        "    test_path = pd.read_csv('/kaggle/input/feedback-prize-effectiveness/test.csv')\n",
        "    attributes = [\"Adequate\" ,\"Effective\",\"Ineffective\"]\n",
        "\n",
        "    tokenizer = AutoTokenizer.from_pretrained(config['model_name'], use_fast=True)\n",
        "    le = LabelEncoder()\n",
        "    \n",
        "    # Initialize data module\n",
        "    test_data_module = _Data_Module(data_path,\n",
        "                                    test_path,\n",
        "                                    attributes,\n",
        "                                    le,\n",
        "                                    tokenizer,\n",
        "                                    config['model_name'],\n",
        "                                    batch_size=config['batch_size'],\n",
        "                                    text_method = config['text_method']\n",
        "                                   )\n",
        "    test_data_module.setup()\n",
        "\n",
        "    # Initialize Model\n",
        "    model = _Text_Classifier(config,test_data_module)\n",
        "    model.load_state_dict(torch.load(config['PATH']))\n",
        "\n",
        "    # Initialize Trainer\n",
        "    trainer = pl.Trainer(accelerator='auto')\n",
        "\n",
        "    # Run predictions\n",
        "    def predict_text_classification(model, dm):\n",
        "        predictions = trainer.predict(model, datamodule=dm)\n",
        "        return predictions\n",
        "    predictions = predict_text_classification(model, test_data_module)\n",
        "\n",
        "    # Pass logit into a softmax\n",
        "    pred_list = []\n",
        "    for logits in predictions:\n",
        "        pred_list.append(logits)\n",
        "    y_pred = torch.cat(pred_list)\n",
        "    y_pred.shape\n",
        "\n",
        "    softmax_outputs = softmax(y_pred, axis=1)\n",
        "    test_df = test_path.copy()\n",
        "    output_df = pd.concat([test_df[['discourse_id']].reset_index(drop=True), pd.DataFrame(softmax_outputs.numpy(), columns=attributes)], axis=1)\n",
        "#     output_df = pd.concat([test_df[['discourse_id']].reset_index(drop=True), pd.DataFrame(y_pred.numpy(), columns=attributes)], axis=1)\n",
        "    new_cols = [\"discourse_id\",\"Ineffective\",\"Adequate\",\"Effective\"]\n",
        "    output_df = output_df[new_cols]\n",
        "\n",
        "    return output_df, y_pred"
      ]
    },
    {
      "cell_type": "markdown",
      "id": "2f256cb3",
      "metadata": {
        "papermill": {
          "duration": 0.015224,
          "end_time": "2022-08-03T04:11:03.447125",
          "exception": false,
          "start_time": "2022-08-03T04:11:03.431901",
          "status": "completed"
        },
        "tags": [],
        "id": "2f256cb3"
      },
      "source": [
        "## Predict using multiple models"
      ]
    },
    {
      "cell_type": "code",
      "execution_count": null,
      "id": "d7423ec5",
      "metadata": {
        "execution": {
          "iopub.execute_input": "2022-08-03T04:11:03.479728Z",
          "iopub.status.busy": "2022-08-03T04:11:03.479462Z",
          "iopub.status.idle": "2022-08-03T04:12:42.253103Z",
          "shell.execute_reply": "2022-08-03T04:12:42.251827Z"
        },
        "id": "d7423ec5",
        "papermill": {
          "duration": 98.793349,
          "end_time": "2022-08-03T04:12:42.256062",
          "exception": false,
          "start_time": "2022-08-03T04:11:03.462713",
          "status": "completed"
        },
        "tags": [],
        "outputId": "226de12d-cf95-4f58-976e-4caf1bb57a27"
      },
      "outputs": [
        {
          "name": "stderr",
          "output_type": "stream",
          "text": [
            "Special tokens have been added in the vocabulary, make sure the associated word embeddings are fine-tuned or trained.\n",
            "/opt/conda/lib/python3.7/site-packages/transformers/convert_slow_tokenizer.py:435: UserWarning: The sentencepiece tokenizer that you are converting to a fast tokenizer uses the byte fallback option which is not implemented in the fast tokenizers. In practice this means that the fast version of the tokenizer can produce unknown tokens whereas the sentencepiece version would have converted these unknown tokens into a sequence of byte tokens matching the original piece of text.\n",
            "  \"The sentencepiece tokenizer that you are converting to a fast tokenizer uses the byte fallback option\"\n",
            "Special tokens have been added in the vocabulary, make sure the associated word embeddings are fine-tuned or trained.\n",
            "Some weights of the model checkpoint at ../input/deberta-v3-base/deberta-v3-base were not used when initializing DebertaV2Model: ['mask_predictions.dense.weight', 'mask_predictions.LayerNorm.weight', 'mask_predictions.classifer.weight', 'lm_predictions.lm_head.dense.weight', 'lm_predictions.lm_head.dense.bias', 'mask_predictions.classifer.bias', 'lm_predictions.lm_head.LayerNorm.weight', 'mask_predictions.LayerNorm.bias', 'lm_predictions.lm_head.bias', 'lm_predictions.lm_head.LayerNorm.bias', 'mask_predictions.dense.bias']\n",
            "- This IS expected if you are initializing DebertaV2Model from the checkpoint of a model trained on another task or with another architecture (e.g. initializing a BertForSequenceClassification model from a BertForPreTraining model).\n",
            "- This IS NOT expected if you are initializing DebertaV2Model from the checkpoint of a model that you expect to be exactly identical (initializing a BertForSequenceClassification model from a BertForSequenceClassification model).\n"
          ]
        },
        {
          "name": "stdout",
          "output_type": "stream",
          "text": [
            "['embeddings.word_embeddings.weight', 'embeddings.LayerNorm.weight', 'embeddings.LayerNorm.bias', 'encoder.layer.0.attention.self.query_proj.weight', 'encoder.layer.0.attention.self.query_proj.bias', 'encoder.layer.0.attention.self.key_proj.weight', 'encoder.layer.0.attention.self.key_proj.bias', 'encoder.layer.0.attention.self.value_proj.weight', 'encoder.layer.0.attention.self.value_proj.bias', 'encoder.layer.0.attention.output.dense.weight', 'encoder.layer.0.attention.output.dense.bias', 'encoder.layer.0.attention.output.LayerNorm.weight', 'encoder.layer.0.attention.output.LayerNorm.bias', 'encoder.layer.0.intermediate.dense.weight', 'encoder.layer.0.intermediate.dense.bias', 'encoder.layer.0.output.dense.weight', 'encoder.layer.0.output.dense.bias', 'encoder.layer.0.output.LayerNorm.weight', 'encoder.layer.0.output.LayerNorm.bias', 'encoder.layer.1.attention.self.query_proj.weight', 'encoder.layer.1.attention.self.query_proj.bias', 'encoder.layer.1.attention.self.key_proj.weight', 'encoder.layer.1.attention.self.key_proj.bias', 'encoder.layer.1.attention.self.value_proj.weight', 'encoder.layer.1.attention.self.value_proj.bias', 'encoder.layer.1.attention.output.dense.weight', 'encoder.layer.1.attention.output.dense.bias', 'encoder.layer.1.attention.output.LayerNorm.weight', 'encoder.layer.1.attention.output.LayerNorm.bias', 'encoder.layer.1.intermediate.dense.weight', 'encoder.layer.1.intermediate.dense.bias', 'encoder.layer.1.output.dense.weight', 'encoder.layer.1.output.dense.bias', 'encoder.layer.1.output.LayerNorm.weight', 'encoder.layer.1.output.LayerNorm.bias']\n"
          ]
        },
        {
          "name": "stderr",
          "output_type": "stream",
          "text": [
            "/opt/conda/lib/python3.7/site-packages/pytorch_lightning/loops/utilities.py:95: PossibleUserWarning: `max_epochs` was not set. Setting it to 1000 epochs. To train without an epoch limit, set `max_epochs=-1`.\n",
            "  category=PossibleUserWarning,\n"
          ]
        },
        {
          "data": {
            "application/vnd.jupyter.widget-view+json": {
              "model_id": "464016aa78d44bd3aa4eca36eb9d3872",
              "version_major": 2,
              "version_minor": 0
            },
            "text/plain": [
              "Predicting: 0it [00:00, ?it/s]"
            ]
          },
          "metadata": {},
          "output_type": "display_data"
        },
        {
          "name": "stdout",
          "output_type": "stream",
          "text": [
            "['embeddings.word_embeddings.weight', 'embeddings.position_embeddings.weight', 'embeddings.LayerNorm.weight', 'embeddings.LayerNorm.bias', 'transformer.layer.0.attention.q_lin.weight', 'transformer.layer.0.attention.q_lin.bias', 'transformer.layer.0.attention.k_lin.weight', 'transformer.layer.0.attention.k_lin.bias', 'transformer.layer.0.attention.v_lin.weight', 'transformer.layer.0.attention.v_lin.bias', 'transformer.layer.0.attention.out_lin.weight', 'transformer.layer.0.attention.out_lin.bias', 'transformer.layer.0.sa_layer_norm.weight', 'transformer.layer.0.sa_layer_norm.bias', 'transformer.layer.0.ffn.lin1.weight', 'transformer.layer.0.ffn.lin1.bias', 'transformer.layer.0.ffn.lin2.weight', 'transformer.layer.0.ffn.lin2.bias', 'transformer.layer.0.output_layer_norm.weight', 'transformer.layer.0.output_layer_norm.bias', 'transformer.layer.1.attention.q_lin.weight', 'transformer.layer.1.attention.q_lin.bias', 'transformer.layer.1.attention.k_lin.weight', 'transformer.layer.1.attention.k_lin.bias', 'transformer.layer.1.attention.v_lin.weight', 'transformer.layer.1.attention.v_lin.bias', 'transformer.layer.1.attention.out_lin.weight', 'transformer.layer.1.attention.out_lin.bias', 'transformer.layer.1.sa_layer_norm.weight', 'transformer.layer.1.sa_layer_norm.bias', 'transformer.layer.1.ffn.lin1.weight', 'transformer.layer.1.ffn.lin1.bias', 'transformer.layer.1.ffn.lin2.weight', 'transformer.layer.1.ffn.lin2.bias', 'transformer.layer.1.output_layer_norm.weight', 'transformer.layer.1.output_layer_norm.bias', 'transformer.layer.2.attention.q_lin.weight', 'transformer.layer.2.attention.q_lin.bias', 'transformer.layer.2.attention.k_lin.weight', 'transformer.layer.2.attention.k_lin.bias', 'transformer.layer.2.attention.v_lin.weight', 'transformer.layer.2.attention.v_lin.bias', 'transformer.layer.2.attention.out_lin.weight', 'transformer.layer.2.attention.out_lin.bias', 'transformer.layer.2.sa_layer_norm.weight', 'transformer.layer.2.sa_layer_norm.bias', 'transformer.layer.2.ffn.lin1.weight', 'transformer.layer.2.ffn.lin1.bias', 'transformer.layer.2.ffn.lin2.weight', 'transformer.layer.2.ffn.lin2.bias', 'transformer.layer.2.output_layer_norm.weight', 'transformer.layer.2.output_layer_norm.bias']\n"
          ]
        },
        {
          "name": "stderr",
          "output_type": "stream",
          "text": [
            "/opt/conda/lib/python3.7/site-packages/pytorch_lightning/loops/utilities.py:95: PossibleUserWarning: `max_epochs` was not set. Setting it to 1000 epochs. To train without an epoch limit, set `max_epochs=-1`.\n",
            "  category=PossibleUserWarning,\n"
          ]
        },
        {
          "data": {
            "application/vnd.jupyter.widget-view+json": {
              "model_id": "c565b18a3bbe4e6a8a2ac3827106bcaf",
              "version_major": 2,
              "version_minor": 0
            },
            "text/plain": [
              "Predicting: 0it [00:00, ?it/s]"
            ]
          },
          "metadata": {},
          "output_type": "display_data"
        },
        {
          "name": "stderr",
          "output_type": "stream",
          "text": [
            "Some weights of the model checkpoint at ../input/bertlargeuncasedsparse90unstructuredpruned/bert-large-uncased-sparse-90-unstructured-pruneofa were not used when initializing BertModel: ['cls.predictions.transform.dense.weight', 'cls.predictions.decoder.bias', 'cls.predictions.transform.LayerNorm.bias', 'cls.seq_relationship.weight', 'cls.predictions.decoder.weight', 'cls.predictions.bias', 'cls.seq_relationship.bias', 'cls.predictions.transform.LayerNorm.weight', 'cls.predictions.transform.dense.bias']\n",
            "- This IS expected if you are initializing BertModel from the checkpoint of a model trained on another task or with another architecture (e.g. initializing a BertForSequenceClassification model from a BertForPreTraining model).\n",
            "- This IS NOT expected if you are initializing BertModel from the checkpoint of a model that you expect to be exactly identical (initializing a BertForSequenceClassification model from a BertForSequenceClassification model).\n"
          ]
        },
        {
          "name": "stdout",
          "output_type": "stream",
          "text": [
            "['embeddings.word_embeddings.weight', 'embeddings.position_embeddings.weight', 'embeddings.token_type_embeddings.weight', 'embeddings.LayerNorm.weight', 'embeddings.LayerNorm.bias', 'encoder.layer.0.attention.self.query.weight', 'encoder.layer.0.attention.self.query.bias', 'encoder.layer.0.attention.self.key.weight', 'encoder.layer.0.attention.self.key.bias', 'encoder.layer.0.attention.self.value.weight', 'encoder.layer.0.attention.self.value.bias', 'encoder.layer.0.attention.output.dense.weight', 'encoder.layer.0.attention.output.dense.bias', 'encoder.layer.0.attention.output.LayerNorm.weight', 'encoder.layer.0.attention.output.LayerNorm.bias', 'encoder.layer.0.intermediate.dense.weight', 'encoder.layer.0.intermediate.dense.bias', 'encoder.layer.0.output.dense.weight', 'encoder.layer.0.output.dense.bias', 'encoder.layer.0.output.LayerNorm.weight', 'encoder.layer.0.output.LayerNorm.bias', 'encoder.layer.1.attention.self.query.weight', 'encoder.layer.1.attention.self.query.bias', 'encoder.layer.1.attention.self.key.weight', 'encoder.layer.1.attention.self.key.bias', 'encoder.layer.1.attention.self.value.weight', 'encoder.layer.1.attention.self.value.bias', 'encoder.layer.1.attention.output.dense.weight', 'encoder.layer.1.attention.output.dense.bias', 'encoder.layer.1.attention.output.LayerNorm.weight', 'encoder.layer.1.attention.output.LayerNorm.bias', 'encoder.layer.1.intermediate.dense.weight', 'encoder.layer.1.intermediate.dense.bias', 'encoder.layer.1.output.dense.weight', 'encoder.layer.1.output.dense.bias', 'encoder.layer.1.output.LayerNorm.weight', 'encoder.layer.1.output.LayerNorm.bias', 'encoder.layer.2.attention.self.query.weight', 'encoder.layer.2.attention.self.query.bias', 'encoder.layer.2.attention.self.key.weight', 'encoder.layer.2.attention.self.key.bias', 'encoder.layer.2.attention.self.value.weight', 'encoder.layer.2.attention.self.value.bias', 'encoder.layer.2.attention.output.dense.weight', 'encoder.layer.2.attention.output.dense.bias', 'encoder.layer.2.attention.output.LayerNorm.weight', 'encoder.layer.2.attention.output.LayerNorm.bias', 'encoder.layer.2.intermediate.dense.weight', 'encoder.layer.2.intermediate.dense.bias', 'encoder.layer.2.output.dense.weight', 'encoder.layer.2.output.dense.bias', 'encoder.layer.2.output.LayerNorm.weight', 'encoder.layer.2.output.LayerNorm.bias', 'encoder.layer.3.attention.self.query.weight', 'encoder.layer.3.attention.self.query.bias', 'encoder.layer.3.attention.self.key.weight', 'encoder.layer.3.attention.self.key.bias', 'encoder.layer.3.attention.self.value.weight', 'encoder.layer.3.attention.self.value.bias', 'encoder.layer.3.attention.output.dense.weight', 'encoder.layer.3.attention.output.dense.bias', 'encoder.layer.3.attention.output.LayerNorm.weight', 'encoder.layer.3.attention.output.LayerNorm.bias', 'encoder.layer.3.intermediate.dense.weight', 'encoder.layer.3.intermediate.dense.bias', 'encoder.layer.3.output.dense.weight', 'encoder.layer.3.output.dense.bias', 'encoder.layer.3.output.LayerNorm.weight', 'encoder.layer.3.output.LayerNorm.bias', 'encoder.layer.4.attention.self.query.weight', 'encoder.layer.4.attention.self.query.bias', 'encoder.layer.4.attention.self.key.weight', 'encoder.layer.4.attention.self.key.bias', 'encoder.layer.4.attention.self.value.weight', 'encoder.layer.4.attention.self.value.bias', 'encoder.layer.4.attention.output.dense.weight', 'encoder.layer.4.attention.output.dense.bias', 'encoder.layer.4.attention.output.LayerNorm.weight', 'encoder.layer.4.attention.output.LayerNorm.bias', 'encoder.layer.4.intermediate.dense.weight', 'encoder.layer.4.intermediate.dense.bias', 'encoder.layer.4.output.dense.weight', 'encoder.layer.4.output.dense.bias', 'encoder.layer.4.output.LayerNorm.weight', 'encoder.layer.4.output.LayerNorm.bias', 'encoder.layer.5.attention.self.query.weight', 'encoder.layer.5.attention.self.query.bias', 'encoder.layer.5.attention.self.key.weight', 'encoder.layer.5.attention.self.key.bias', 'encoder.layer.5.attention.self.value.weight', 'encoder.layer.5.attention.self.value.bias', 'encoder.layer.5.attention.output.dense.weight', 'encoder.layer.5.attention.output.dense.bias', 'encoder.layer.5.attention.output.LayerNorm.weight', 'encoder.layer.5.attention.output.LayerNorm.bias', 'encoder.layer.5.intermediate.dense.weight', 'encoder.layer.5.intermediate.dense.bias', 'encoder.layer.5.output.dense.weight', 'encoder.layer.5.output.dense.bias', 'encoder.layer.5.output.LayerNorm.weight', 'encoder.layer.5.output.LayerNorm.bias', 'encoder.layer.6.attention.self.query.weight', 'encoder.layer.6.attention.self.query.bias', 'encoder.layer.6.attention.self.key.weight', 'encoder.layer.6.attention.self.key.bias', 'encoder.layer.6.attention.self.value.weight', 'encoder.layer.6.attention.self.value.bias', 'encoder.layer.6.attention.output.dense.weight', 'encoder.layer.6.attention.output.dense.bias', 'encoder.layer.6.attention.output.LayerNorm.weight', 'encoder.layer.6.attention.output.LayerNorm.bias', 'encoder.layer.6.intermediate.dense.weight', 'encoder.layer.6.intermediate.dense.bias', 'encoder.layer.6.output.dense.weight', 'encoder.layer.6.output.dense.bias', 'encoder.layer.6.output.LayerNorm.weight', 'encoder.layer.6.output.LayerNorm.bias', 'encoder.layer.7.attention.self.query.weight', 'encoder.layer.7.attention.self.query.bias', 'encoder.layer.7.attention.self.key.weight', 'encoder.layer.7.attention.self.key.bias', 'encoder.layer.7.attention.self.value.weight', 'encoder.layer.7.attention.self.value.bias', 'encoder.layer.7.attention.output.dense.weight', 'encoder.layer.7.attention.output.dense.bias', 'encoder.layer.7.attention.output.LayerNorm.weight', 'encoder.layer.7.attention.output.LayerNorm.bias', 'encoder.layer.7.intermediate.dense.weight', 'encoder.layer.7.intermediate.dense.bias', 'encoder.layer.7.output.dense.weight', 'encoder.layer.7.output.dense.bias', 'encoder.layer.7.output.LayerNorm.weight', 'encoder.layer.7.output.LayerNorm.bias', 'encoder.layer.8.attention.self.query.weight', 'encoder.layer.8.attention.self.query.bias', 'encoder.layer.8.attention.self.key.weight', 'encoder.layer.8.attention.self.key.bias', 'encoder.layer.8.attention.self.value.weight', 'encoder.layer.8.attention.self.value.bias', 'encoder.layer.8.attention.output.dense.weight', 'encoder.layer.8.attention.output.dense.bias', 'encoder.layer.8.attention.output.LayerNorm.weight', 'encoder.layer.8.attention.output.LayerNorm.bias', 'encoder.layer.8.intermediate.dense.weight', 'encoder.layer.8.intermediate.dense.bias', 'encoder.layer.8.output.dense.weight', 'encoder.layer.8.output.dense.bias', 'encoder.layer.8.output.LayerNorm.weight', 'encoder.layer.8.output.LayerNorm.bias', 'encoder.layer.9.attention.self.query.weight', 'encoder.layer.9.attention.self.query.bias', 'encoder.layer.9.attention.self.key.weight', 'encoder.layer.9.attention.self.key.bias', 'encoder.layer.9.attention.self.value.weight', 'encoder.layer.9.attention.self.value.bias', 'encoder.layer.9.attention.output.dense.weight', 'encoder.layer.9.attention.output.dense.bias', 'encoder.layer.9.attention.output.LayerNorm.weight', 'encoder.layer.9.attention.output.LayerNorm.bias', 'encoder.layer.9.intermediate.dense.weight', 'encoder.layer.9.intermediate.dense.bias', 'encoder.layer.9.output.dense.weight', 'encoder.layer.9.output.dense.bias', 'encoder.layer.9.output.LayerNorm.weight', 'encoder.layer.9.output.LayerNorm.bias', 'encoder.layer.10.attention.self.query.weight', 'encoder.layer.10.attention.self.query.bias', 'encoder.layer.10.attention.self.key.weight', 'encoder.layer.10.attention.self.key.bias', 'encoder.layer.10.attention.self.value.weight', 'encoder.layer.10.attention.self.value.bias', 'encoder.layer.10.attention.output.dense.weight', 'encoder.layer.10.attention.output.dense.bias', 'encoder.layer.10.attention.output.LayerNorm.weight', 'encoder.layer.10.attention.output.LayerNorm.bias', 'encoder.layer.10.intermediate.dense.weight', 'encoder.layer.10.intermediate.dense.bias', 'encoder.layer.10.output.dense.weight', 'encoder.layer.10.output.dense.bias', 'encoder.layer.10.output.LayerNorm.weight', 'encoder.layer.10.output.LayerNorm.bias', 'encoder.layer.11.attention.self.query.weight', 'encoder.layer.11.attention.self.query.bias', 'encoder.layer.11.attention.self.key.weight', 'encoder.layer.11.attention.self.key.bias', 'encoder.layer.11.attention.self.value.weight', 'encoder.layer.11.attention.self.value.bias', 'encoder.layer.11.attention.output.dense.weight', 'encoder.layer.11.attention.output.dense.bias', 'encoder.layer.11.attention.output.LayerNorm.weight', 'encoder.layer.11.attention.output.LayerNorm.bias', 'encoder.layer.11.intermediate.dense.weight', 'encoder.layer.11.intermediate.dense.bias', 'encoder.layer.11.output.dense.weight', 'encoder.layer.11.output.dense.bias', 'encoder.layer.11.output.LayerNorm.weight', 'encoder.layer.11.output.LayerNorm.bias', 'encoder.layer.12.attention.self.query.weight', 'encoder.layer.12.attention.self.query.bias', 'encoder.layer.12.attention.self.key.weight', 'encoder.layer.12.attention.self.key.bias', 'encoder.layer.12.attention.self.value.weight', 'encoder.layer.12.attention.self.value.bias', 'encoder.layer.12.attention.output.dense.weight', 'encoder.layer.12.attention.output.dense.bias', 'encoder.layer.12.attention.output.LayerNorm.weight', 'encoder.layer.12.attention.output.LayerNorm.bias', 'encoder.layer.12.intermediate.dense.weight', 'encoder.layer.12.intermediate.dense.bias', 'encoder.layer.12.output.dense.weight', 'encoder.layer.12.output.dense.bias', 'encoder.layer.12.output.LayerNorm.weight', 'encoder.layer.12.output.LayerNorm.bias', 'encoder.layer.13.attention.self.query.weight', 'encoder.layer.13.attention.self.query.bias', 'encoder.layer.13.attention.self.key.weight', 'encoder.layer.13.attention.self.key.bias', 'encoder.layer.13.attention.self.value.weight', 'encoder.layer.13.attention.self.value.bias', 'encoder.layer.13.attention.output.dense.weight', 'encoder.layer.13.attention.output.dense.bias', 'encoder.layer.13.attention.output.LayerNorm.weight', 'encoder.layer.13.attention.output.LayerNorm.bias', 'encoder.layer.13.intermediate.dense.weight', 'encoder.layer.13.intermediate.dense.bias', 'encoder.layer.13.output.dense.weight', 'encoder.layer.13.output.dense.bias', 'encoder.layer.13.output.LayerNorm.weight', 'encoder.layer.13.output.LayerNorm.bias', 'encoder.layer.14.attention.self.query.weight', 'encoder.layer.14.attention.self.query.bias', 'encoder.layer.14.attention.self.key.weight', 'encoder.layer.14.attention.self.key.bias', 'encoder.layer.14.attention.self.value.weight', 'encoder.layer.14.attention.self.value.bias', 'encoder.layer.14.attention.output.dense.weight', 'encoder.layer.14.attention.output.dense.bias', 'encoder.layer.14.attention.output.LayerNorm.weight', 'encoder.layer.14.attention.output.LayerNorm.bias', 'encoder.layer.14.intermediate.dense.weight', 'encoder.layer.14.intermediate.dense.bias', 'encoder.layer.14.output.dense.weight', 'encoder.layer.14.output.dense.bias', 'encoder.layer.14.output.LayerNorm.weight', 'encoder.layer.14.output.LayerNorm.bias', 'encoder.layer.15.attention.self.query.weight', 'encoder.layer.15.attention.self.query.bias', 'encoder.layer.15.attention.self.key.weight', 'encoder.layer.15.attention.self.key.bias', 'encoder.layer.15.attention.self.value.weight', 'encoder.layer.15.attention.self.value.bias', 'encoder.layer.15.attention.output.dense.weight', 'encoder.layer.15.attention.output.dense.bias', 'encoder.layer.15.attention.output.LayerNorm.weight', 'encoder.layer.15.attention.output.LayerNorm.bias', 'encoder.layer.15.intermediate.dense.weight', 'encoder.layer.15.intermediate.dense.bias', 'encoder.layer.15.output.dense.weight', 'encoder.layer.15.output.dense.bias', 'encoder.layer.15.output.LayerNorm.weight', 'encoder.layer.15.output.LayerNorm.bias', 'encoder.layer.16.attention.self.query.weight', 'encoder.layer.16.attention.self.query.bias', 'encoder.layer.16.attention.self.key.weight', 'encoder.layer.16.attention.self.key.bias', 'encoder.layer.16.attention.self.value.weight', 'encoder.layer.16.attention.self.value.bias', 'encoder.layer.16.attention.output.dense.weight', 'encoder.layer.16.attention.output.dense.bias', 'encoder.layer.16.attention.output.LayerNorm.weight', 'encoder.layer.16.attention.output.LayerNorm.bias', 'encoder.layer.16.intermediate.dense.weight', 'encoder.layer.16.intermediate.dense.bias', 'encoder.layer.16.output.dense.weight', 'encoder.layer.16.output.dense.bias', 'encoder.layer.16.output.LayerNorm.weight', 'encoder.layer.16.output.LayerNorm.bias', 'encoder.layer.17.attention.self.query.weight', 'encoder.layer.17.attention.self.query.bias', 'encoder.layer.17.attention.self.key.weight', 'encoder.layer.17.attention.self.key.bias', 'encoder.layer.17.attention.self.value.weight', 'encoder.layer.17.attention.self.value.bias', 'encoder.layer.17.attention.output.dense.weight', 'encoder.layer.17.attention.output.dense.bias', 'encoder.layer.17.attention.output.LayerNorm.weight', 'encoder.layer.17.attention.output.LayerNorm.bias', 'encoder.layer.17.intermediate.dense.weight', 'encoder.layer.17.intermediate.dense.bias', 'encoder.layer.17.output.dense.weight', 'encoder.layer.17.output.dense.bias', 'encoder.layer.17.output.LayerNorm.weight', 'encoder.layer.17.output.LayerNorm.bias', 'encoder.layer.18.attention.self.query.weight', 'encoder.layer.18.attention.self.query.bias', 'encoder.layer.18.attention.self.key.weight', 'encoder.layer.18.attention.self.key.bias', 'encoder.layer.18.attention.self.value.weight', 'encoder.layer.18.attention.self.value.bias', 'encoder.layer.18.attention.output.dense.weight', 'encoder.layer.18.attention.output.dense.bias', 'encoder.layer.18.attention.output.LayerNorm.weight', 'encoder.layer.18.attention.output.LayerNorm.bias', 'encoder.layer.18.intermediate.dense.weight', 'encoder.layer.18.intermediate.dense.bias', 'encoder.layer.18.output.dense.weight', 'encoder.layer.18.output.dense.bias', 'encoder.layer.18.output.LayerNorm.weight', 'encoder.layer.18.output.LayerNorm.bias', 'encoder.layer.19.attention.self.query.weight', 'encoder.layer.19.attention.self.query.bias', 'encoder.layer.19.attention.self.key.weight', 'encoder.layer.19.attention.self.key.bias', 'encoder.layer.19.attention.self.value.weight', 'encoder.layer.19.attention.self.value.bias', 'encoder.layer.19.attention.output.dense.weight', 'encoder.layer.19.attention.output.dense.bias', 'encoder.layer.19.attention.output.LayerNorm.weight', 'encoder.layer.19.attention.output.LayerNorm.bias', 'encoder.layer.19.intermediate.dense.weight', 'encoder.layer.19.intermediate.dense.bias', 'encoder.layer.19.output.dense.weight', 'encoder.layer.19.output.dense.bias', 'encoder.layer.19.output.LayerNorm.weight', 'encoder.layer.19.output.LayerNorm.bias', 'encoder.layer.20.attention.self.query.weight', 'encoder.layer.20.attention.self.query.bias', 'encoder.layer.20.attention.self.key.weight', 'encoder.layer.20.attention.self.key.bias', 'encoder.layer.20.attention.self.value.weight', 'encoder.layer.20.attention.self.value.bias', 'encoder.layer.20.attention.output.dense.weight', 'encoder.layer.20.attention.output.dense.bias', 'encoder.layer.20.attention.output.LayerNorm.weight', 'encoder.layer.20.attention.output.LayerNorm.bias', 'encoder.layer.20.intermediate.dense.weight', 'encoder.layer.20.intermediate.dense.bias', 'encoder.layer.20.output.dense.weight', 'encoder.layer.20.output.dense.bias', 'encoder.layer.20.output.LayerNorm.weight', 'encoder.layer.20.output.LayerNorm.bias']\n"
          ]
        },
        {
          "name": "stderr",
          "output_type": "stream",
          "text": [
            "/opt/conda/lib/python3.7/site-packages/pytorch_lightning/loops/utilities.py:95: PossibleUserWarning: `max_epochs` was not set. Setting it to 1000 epochs. To train without an epoch limit, set `max_epochs=-1`.\n",
            "  category=PossibleUserWarning,\n"
          ]
        },
        {
          "data": {
            "application/vnd.jupyter.widget-view+json": {
              "model_id": "eedf4875d3d5451ca82ad69183cc4c5c",
              "version_major": 2,
              "version_minor": 0
            },
            "text/plain": [
              "Predicting: 0it [00:00, ?it/s]"
            ]
          },
          "metadata": {},
          "output_type": "display_data"
        }
      ],
      "source": [
        "\n",
        "output_DeBerta, y_pred_deberta = predict(DeBerta_Text_Classifier,deberta_config)\n",
        "output_DistilBert, y_pred_distilbert = predict(DistilBert_Text_Classifier,distilbert_config)\n",
        "output_BertOFA, y_pred_bertofa = predict(BertOFA_Text_Classifier,bertofa_config)\n",
        "# output_distilRoBerta = predict(DistilRoBerta_Text_Classifier,distilroberta_config)\n",
        "\n"
      ]
    },
    {
      "cell_type": "code",
      "execution_count": null,
      "id": "e670012c",
      "metadata": {
        "execution": {
          "iopub.execute_input": "2022-08-03T04:12:42.295212Z",
          "iopub.status.busy": "2022-08-03T04:12:42.294894Z",
          "iopub.status.idle": "2022-08-03T04:12:42.299529Z",
          "shell.execute_reply": "2022-08-03T04:12:42.298600Z"
        },
        "id": "e670012c",
        "papermill": {
          "duration": 0.025474,
          "end_time": "2022-08-03T04:12:42.301754",
          "exception": false,
          "start_time": "2022-08-03T04:12:42.276280",
          "status": "completed"
        },
        "tags": []
      },
      "outputs": [],
      "source": [
        "\n",
        "# output_df = output_DeBerta.copy()\n",
        "\n",
        "# for attribute in attributes:\n",
        "#     output_df[attribute] =  (output_DeBerta[attribute]*weight['deberta'] + \n",
        "#                             output_DistilBert[attribute]*weight['distilbert'] + \n",
        "#                             output_BertOFA[attribute]*weight['bertofa'])/(weight['deberta']+weight['distilbert']+weight['bertofa'])\n",
        "# for atttribute in attributes:\n",
        "#     output_df[attribute] =  (output_DeBerta[attribute]*weight['deberta'] + \n",
        "#                             output_DistilBert[attribute]*weight['distilbert'] + \n",
        "#                             output_BertOFA[attribute]*weight['bertofa'] +\n",
        "#                             output_distilRoBerta[attribute]*weight['distilroberta'])/4\n",
        "\n",
        "# output_df"
      ]
    },
    {
      "cell_type": "code",
      "execution_count": null,
      "id": "3d935eab",
      "metadata": {
        "execution": {
          "iopub.execute_input": "2022-08-03T04:12:42.340523Z",
          "iopub.status.busy": "2022-08-03T04:12:42.340171Z",
          "iopub.status.idle": "2022-08-03T04:12:42.353245Z",
          "shell.execute_reply": "2022-08-03T04:12:42.352211Z"
        },
        "papermill": {
          "duration": 0.035868,
          "end_time": "2022-08-03T04:12:42.355976",
          "exception": false,
          "start_time": "2022-08-03T04:12:42.320108",
          "status": "completed"
        },
        "tags": [],
        "id": "3d935eab"
      },
      "outputs": [],
      "source": [
        "weight_deberta = torch.tensor([weight['deberta']])\n",
        "weight_distilbert = torch.tensor([weight['distilbert']])\n",
        "weight_bertofa = torch.tensor([weight['bertofa']])\n",
        "\n",
        "weight_deberta=weight_deberta.repeat(y_pred_deberta.shape[0],1)\n",
        "weight_distilbert=weight_distilbert.repeat(y_pred_distilbert.shape[0],1)\n",
        "weight_bertofa=weight_bertofa.repeat(y_pred_bertofa.shape[0],1)\n",
        "\n",
        "    # Method 1\n",
        "# for idx,ypred in enumerate(y_pred_deberta):\n",
        "#     if (ypred[2]>ypred[0]) &(ypred[2]>ypred[1]):\n",
        "#         ratio_bertofa = weight_bertofa[idx]/(weight_distilbert[idx]+weight_deberta[idx])\n",
        "#         ratio_distilbert = weight_distilbert[idx]/(weight_bertofa[idx]+weight_deberta[idx])\n",
        "#         weight_deberta[idx]=0.35\n",
        "#         weight_bertofa[idx]=(1-weight_deberta[idx])*ratio_bertofa\n",
        "#         weight_distilbert[idx]=(1-weight_deberta[idx])*ratio_distilbert\n",
        "        \n",
        "# Method 3\n",
        "for idx,ypred in enumerate(y_pred_deberta):\n",
        "    if (ypred[2]>ypred[0]) &(ypred[2]>ypred[1]):\n",
        "        ratio_bertofa = weight_bertofa[idx]/(weight_distilbert[idx]+weight_deberta[idx])\n",
        "        ratio_distilbert = weight_distilbert[idx]/(weight_bertofa[idx]+weight_deberta[idx])\n",
        "        weight_deberta[idx]=0.6\n",
        "        weight_bertofa[idx]=0.02\n",
        "        weight_distilbert[idx]=0.38 \n",
        "        \n",
        "numerator = torch.mul(y_pred_deberta,weight_deberta) + torch.mul(y_pred_distilbert,weight_bertofa) + torch.mul(y_pred_bertofa,weight_distilbert)\n",
        "denominator = torch.add(torch.add(weight_deberta,weight_bertofa),weight_distilbert)\n",
        "y_pred_overall = torch.div(numerator,denominator)\n",
        "\n",
        "softmax_outputs = softmax(y_pred_overall, axis=1)"
      ]
    },
    {
      "cell_type": "code",
      "execution_count": null,
      "id": "75e05d8f",
      "metadata": {
        "execution": {
          "iopub.execute_input": "2022-08-03T04:12:42.396270Z",
          "iopub.status.busy": "2022-08-03T04:12:42.395955Z",
          "iopub.status.idle": "2022-08-03T04:12:42.405659Z",
          "shell.execute_reply": "2022-08-03T04:12:42.404713Z"
        },
        "papermill": {
          "duration": 0.032056,
          "end_time": "2022-08-03T04:12:42.407914",
          "exception": false,
          "start_time": "2022-08-03T04:12:42.375858",
          "status": "completed"
        },
        "tags": [],
        "id": "75e05d8f"
      },
      "outputs": [],
      "source": [
        "output_df = pd.concat([test_path[['discourse_id']].reset_index(drop=True), pd.DataFrame(softmax_outputs.numpy(), columns=attributes)], axis=1)\n",
        "#     output_df = pd.concat([test_df[['discourse_id']].reset_index(drop=True), pd.DataFrame(y_pred.numpy(), columns=attributes)], axis=1)\n",
        "new_cols = [\"discourse_id\",\"Ineffective\",\"Adequate\",\"Effective\"]\n",
        "output_df = output_df[new_cols]\n",
        "\n",
        "\n"
      ]
    },
    {
      "cell_type": "code",
      "execution_count": null,
      "id": "0fdd3a9d",
      "metadata": {
        "execution": {
          "iopub.execute_input": "2022-08-03T04:12:42.447665Z",
          "iopub.status.busy": "2022-08-03T04:12:42.446722Z",
          "iopub.status.idle": "2022-08-03T04:12:42.465512Z",
          "shell.execute_reply": "2022-08-03T04:12:42.464531Z"
        },
        "id": "0fdd3a9d",
        "papermill": {
          "duration": 0.040895,
          "end_time": "2022-08-03T04:12:42.467749",
          "exception": false,
          "start_time": "2022-08-03T04:12:42.426854",
          "status": "completed"
        },
        "tags": [],
        "outputId": "291b0a2f-3b26-490c-af24-7d2a63cbfff5"
      },
      "outputs": [
        {
          "data": {
            "text/html": [
              "<div>\n",
              "<style scoped>\n",
              "    .dataframe tbody tr th:only-of-type {\n",
              "        vertical-align: middle;\n",
              "    }\n",
              "\n",
              "    .dataframe tbody tr th {\n",
              "        vertical-align: top;\n",
              "    }\n",
              "\n",
              "    .dataframe thead th {\n",
              "        text-align: right;\n",
              "    }\n",
              "</style>\n",
              "<table border=\"1\" class=\"dataframe\">\n",
              "  <thead>\n",
              "    <tr style=\"text-align: right;\">\n",
              "      <th></th>\n",
              "      <th>discourse_id</th>\n",
              "      <th>Ineffective</th>\n",
              "      <th>Adequate</th>\n",
              "      <th>Effective</th>\n",
              "    </tr>\n",
              "  </thead>\n",
              "  <tbody>\n",
              "    <tr>\n",
              "      <th>0</th>\n",
              "      <td>a261b6e14276</td>\n",
              "      <td>0.019432</td>\n",
              "      <td>0.308107</td>\n",
              "      <td>0.672461</td>\n",
              "    </tr>\n",
              "    <tr>\n",
              "      <th>1</th>\n",
              "      <td>5a88900e7dc1</td>\n",
              "      <td>0.031250</td>\n",
              "      <td>0.499879</td>\n",
              "      <td>0.468872</td>\n",
              "    </tr>\n",
              "    <tr>\n",
              "      <th>2</th>\n",
              "      <td>9790d835736b</td>\n",
              "      <td>0.018704</td>\n",
              "      <td>0.364542</td>\n",
              "      <td>0.616753</td>\n",
              "    </tr>\n",
              "    <tr>\n",
              "      <th>3</th>\n",
              "      <td>75ce6d68b67b</td>\n",
              "      <td>0.031078</td>\n",
              "      <td>0.440425</td>\n",
              "      <td>0.528497</td>\n",
              "    </tr>\n",
              "    <tr>\n",
              "      <th>4</th>\n",
              "      <td>93578d946723</td>\n",
              "      <td>0.029202</td>\n",
              "      <td>0.408765</td>\n",
              "      <td>0.562033</td>\n",
              "    </tr>\n",
              "    <tr>\n",
              "      <th>5</th>\n",
              "      <td>2e214524dbe3</td>\n",
              "      <td>0.015405</td>\n",
              "      <td>0.265103</td>\n",
              "      <td>0.719492</td>\n",
              "    </tr>\n",
              "    <tr>\n",
              "      <th>6</th>\n",
              "      <td>84812fc2ab9f</td>\n",
              "      <td>0.017534</td>\n",
              "      <td>0.273256</td>\n",
              "      <td>0.709210</td>\n",
              "    </tr>\n",
              "    <tr>\n",
              "      <th>7</th>\n",
              "      <td>c668ff840720</td>\n",
              "      <td>0.019813</td>\n",
              "      <td>0.359249</td>\n",
              "      <td>0.620938</td>\n",
              "    </tr>\n",
              "    <tr>\n",
              "      <th>8</th>\n",
              "      <td>739a6d00f44a</td>\n",
              "      <td>0.018331</td>\n",
              "      <td>0.234742</td>\n",
              "      <td>0.746927</td>\n",
              "    </tr>\n",
              "    <tr>\n",
              "      <th>9</th>\n",
              "      <td>bcfae2c9a244</td>\n",
              "      <td>0.018542</td>\n",
              "      <td>0.318517</td>\n",
              "      <td>0.662942</td>\n",
              "    </tr>\n",
              "  </tbody>\n",
              "</table>\n",
              "</div>"
            ],
            "text/plain": [
              "   discourse_id  Ineffective  Adequate  Effective\n",
              "0  a261b6e14276     0.019432  0.308107   0.672461\n",
              "1  5a88900e7dc1     0.031250  0.499879   0.468872\n",
              "2  9790d835736b     0.018704  0.364542   0.616753\n",
              "3  75ce6d68b67b     0.031078  0.440425   0.528497\n",
              "4  93578d946723     0.029202  0.408765   0.562033\n",
              "5  2e214524dbe3     0.015405  0.265103   0.719492\n",
              "6  84812fc2ab9f     0.017534  0.273256   0.709210\n",
              "7  c668ff840720     0.019813  0.359249   0.620938\n",
              "8  739a6d00f44a     0.018331  0.234742   0.746927\n",
              "9  bcfae2c9a244     0.018542  0.318517   0.662942"
            ]
          },
          "execution_count": 50,
          "metadata": {},
          "output_type": "execute_result"
        }
      ],
      "source": [
        "# output_df = output_distilRoBerta.copy()\n",
        "output_df.to_csv('submission.csv', index=False)\n",
        "pd.read_csv('submission.csv')"
      ]
    },
    {
      "cell_type": "code",
      "execution_count": null,
      "id": "9407588e",
      "metadata": {
        "papermill": {
          "duration": 0.016088,
          "end_time": "2022-08-03T04:12:42.501132",
          "exception": false,
          "start_time": "2022-08-03T04:12:42.485044",
          "status": "completed"
        },
        "tags": [],
        "id": "9407588e"
      },
      "outputs": [],
      "source": [
        ""
      ]
    }
  ],
  "metadata": {
    "kernelspec": {
      "display_name": "Python 3",
      "language": "python",
      "name": "python3"
    },
    "language_info": {
      "codemirror_mode": {
        "name": "ipython",
        "version": 3
      },
      "file_extension": ".py",
      "mimetype": "text/x-python",
      "name": "python",
      "nbconvert_exporter": "python",
      "pygments_lexer": "ipython3",
      "version": "3.7.12"
    },
    "papermill": {
      "default_parameters": {},
      "duration": 153.40383,
      "end_time": "2022-08-03T04:12:45.778290",
      "environment_variables": {},
      "exception": null,
      "input_path": "__notebook__.ipynb",
      "output_path": "__notebook__.ipynb",
      "parameters": {},
      "start_time": "2022-08-03T04:10:12.374460",
      "version": "2.3.4"
    },
    "colab": {
      "name": "2-modelling-evaluation.ipynb",
      "provenance": [],
      "include_colab_link": true
    }
  },
  "nbformat": 4,
  "nbformat_minor": 5
}